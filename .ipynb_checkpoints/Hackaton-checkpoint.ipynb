{
 "cells": [
  {
   "cell_type": "code",
   "execution_count": 1,
   "id": "08236e13",
   "metadata": {},
   "outputs": [],
   "source": [
    "import numpy as np\n",
    "import pandas as pd\n",
    "import seaborn as sns\n",
    "import missingno as msno\n",
    "from tqdm import tqdm\n",
    "import matplotlib.pyplot as plt\n",
    "import plotly.express as px"
   ]
  },
  {
   "cell_type": "code",
   "execution_count": 22,
   "id": "7c533415",
   "metadata": {},
   "outputs": [],
   "source": [
    "df = pd.read_csv(\"/Users/neunreuther/Desktop/DashboarHackaton/BDD.csv\",encoding=\"utf8\",sep=\";\")"
   ]
  },
  {
   "cell_type": "code",
   "execution_count": 12,
   "id": "802a7673",
   "metadata": {},
   "outputs": [
    {
     "name": "stdout",
     "output_type": "stream",
     "text": [
      "Requirement already satisfied: cowsay in /Users/neunreuther/opt/anaconda3/lib/python3.9/site-packages (5.0)\r\n"
     ]
    }
   ],
   "source": [
    "!pip install cowsay"
   ]
  },
  {
   "cell_type": "code",
   "execution_count": 5,
   "id": "20515bf7",
   "metadata": {},
   "outputs": [
    {
     "name": "stdout",
     "output_type": "stream",
     "text": [
      "  ______________________________________\r\n",
      "| Claude, Flo et Louis les petits golems |\r\n",
      "  ======================================\r\n",
      "                                      \\\r\n",
      "                                       \\\r\n",
      "                                         ^__^\r\n",
      "                                         (oo)\\_______\r\n",
      "                                         (__)\\       )\\/\\\r\n",
      "                                             ||----w |\r\n",
      "                                             ||     ||\r\n"
     ]
    }
   ],
   "source": [
    "!cowsay \"Claude, Flo et Louis les petits golems\""
   ]
  },
  {
   "cell_type": "markdown",
   "id": "61b565c9",
   "metadata": {},
   "source": [
    "Attention le profiling dure assez longtemps et n'est pas très pertinent (ne pas lancer)"
   ]
  },
  {
   "cell_type": "code",
   "execution_count": null,
   "id": "477b7031",
   "metadata": {},
   "outputs": [
    {
     "data": {
      "application/vnd.jupyter.widget-view+json": {
       "model_id": "85317c802f8d430391c3d25cf9e6f2f4",
       "version_major": 2,
       "version_minor": 0
      },
      "text/plain": [
       "Summarize dataset:   0%|          | 0/5 [00:00<?, ?it/s]"
      ]
     },
     "metadata": {},
     "output_type": "display_data"
    }
   ],
   "source": [
    "profile = ProfileReport(df, title=\"Pandas Profiling Report\")\n",
    "profile"
   ]
  },
  {
   "cell_type": "markdown",
   "id": "9c4b253f",
   "metadata": {},
   "source": [
    "## J'ai enlevé les doublons les questions qui étaient quasiment identiques"
   ]
  },
  {
   "cell_type": "code",
   "execution_count": 23,
   "id": "3c00ae49",
   "metadata": {},
   "outputs": [],
   "source": [
    "df_clean = df.drop(\n",
    "[\"participer à un hackathon permet de développer des innovations de qualité\"\n",
    ",\"je m’informe souvent à propos des projets présentés\"\n",
    ",\"je m’informe souvent à propos des innovations\"\n",
    ",\"quand je participe à un hackathon, ça me change les idées\"\n",
    ",\"Quand je participe à un hackathon, j’oublie tout ce qui m’entoure\"\n",
    ",\"Quand je participe à un hackathon, je ne pense à rien d'autre\"\n",
    ",\"Je juge un peu les gens en fonction de la façon dont ils participent au hackathon\"\n",
    ",\"Je peux me faire une idée d’une personne à partir de la façon dont elle participe au projet\"\n",
    ",\"Je juge un peu les gens en fonction de la façon dont ils choisissent un projet\"\n",
    ",\"j’aime bien participer à un hackathon et en parler ensuite avec mes proches\"\n",
    ",\"Quand dans une conversation on parle de la participation à un hackathon, j’aime bien ça\"\n",
    ",\"je cherche à nouer des contacts durables avec mon équipe de projet\"\n",
    ",\"j’aime bien participer à un hackathon et en parler ensuite avec mon équipe de projet\"\n",
    ",\"participer à un hackathon, ça me donne l’occasion d’en parler ensuite avec les autres participants\"\n",
    ",\"participer à un hackathon, ça me donne l’occasion de remettre en question ce que je suis\"\n",
    ",\"Globalement, je considère qu’un hackathon permet vraiment de développer de la valeur pour le projet\"\n",
    ",\"Globalement, participer à un hackathon, ça vaut bien les sacrifices que je consens\"\n",
    ",\"Globalement, je considère que participer à un hackathon, ça vaut bien le temps et l’argent que j’y consacre\"\n",
    ",\"participer à un projet qui aboutit, ça correspond à une vraie valeur pour moi\"\n",
    ",\"Je suis plus souvent déçu que content des projets présentés\"\n",
    ",\"la participation à un projet de hackathon doit permettre de se remettre en question individuellement\"\n",
    ",\"participer à un hackathon, ça me permet de réfléchir sur les choses importantes de ma vie\"],axis=\"columns\")"
   ]
  },
  {
   "cell_type": "markdown",
   "id": "a95b1faa",
   "metadata": {},
   "source": [
    "## ETAPE 1 : Renommer et donner du sens aux variables :"
   ]
  },
  {
   "cell_type": "markdown",
   "id": "b1ded062",
   "metadata": {},
   "source": [
    "## Pourquoi et comment j'ai renommé les variables :\n",
    "\n",
    "1) \"la participation à un hackathon permet de simplifier le procesus d’innovation\" -> UTILITE_INNOVATION\n",
    "On va mesurer si le participant trouve que le Hackaton permet d'améliorer le procesus d'innovation\n",
    "\n",
    "2) \"participer à un hackathon me permet de me tenir à jour des dernières innovations\" -> INFORMATION_INNOVATION\n",
    "On va mesurer si le participant trouve que le Hackaton permet de l'informer et d'apprendre sur les dernieres innovation\n",
    "\n",
    "3) \"je m’informe souvent à propos des hackathons\" -> INTERET_PARTICIPANT1\n",
    "On va mesurer à quel point le participant est interessé par ce type d'évenement (Hackaton)\n",
    "\n",
    "4) \"je m’informe souvent à propos du devenir des projets après le hackathon\" -> INTERET_PARTICIPANT2\n",
    "Plus ou moins pareil que INTERET_PARTICIPANT1, on regarde s'il reste informé par apres.\n",
    "\n",
    "5) \"Quand je participe à un hackathon, j’éprouve souvent une sensation de bien-être\" -> SATISFACTION1\n",
    "On va mesurer à quel point le participant a apprécié l'evenement.\n",
    "\n",
    "6) \"Quand je participe à un hackathon, ça m’absorbe complètement\" -> SATISFACTION2\n",
    "Plus ou moins pareil que SATISFACTION1, on regarde si le candidat est épanoui par son role.\n",
    "\n",
    "7) \"Je peux me faire une idée d’une personne à partir de la façon dont elle participe au hackathon\" -> Useless1\n",
    "Pas exploitable.\n",
    "\n",
    "8) \"Ma personnalité compte beaucoup dans le choix d’un projet de hackathon\" -> Useless2\n",
    "Pas exploitable mais à voir ce que les autres veulent en faire.\n",
    "\n",
    "9) \"je juge un peu les gens en fonction des projets qu’ils choisissent\" -> Useless3\n",
    "Pas exploitable.\n",
    "\n",
    "10) \"participer à un hackathon, ça me donne l’occasion d’en parler ensuite avec mes proches\" -> NETWORKING1\n",
    "On va mesuer si le participant va parler du Hackaton dans son entourage, a quel point ca fait de la pub et\n",
    "aussi à quel point l'individu apporte de l'interet au networking.\n",
    "\n",
    "11) \"j’aime participer à un hackathon et garder contact ensuite avec les personnes que j’y ai rencontrées\" \n",
    "-> NETWORKING2\n",
    "On va mesurer à quel point les participants arrivent à nouer des liens.\n",
    "\n",
    "12) \"je cherche à nouer des contacts durables durant un hackathon\" -> NETWORKING3\n",
    "On va mesurer à quel point les participants sont interessés par se faire un réseau dans leur milieu\n",
    "Cette variable peut etre utile pour les motivations à participer et pour voir si cela a vraiment marcher.\n",
    "\n",
    "13) \"participer à un hackathon, ça me donne l’occasion d’en parler ensuite avec mon équipe\" -> NETWORKING4\n",
    "Aussi du networking\n",
    "\n",
    "14) \"j’aime bien participer à un hackathon et en parler ensuite avec d’autres participants de hackathons\" -> NETWORKING5\n",
    "Aussi du networking\n",
    "\n",
    "15) \"Après avoir participé à un hackathon, j’aime bien me poser des questions importantes sur moi-même\"\n",
    "-> SELF_IMPROVEMENT1\n",
    "On va mesurer si l'hackaton a un impact sur le developpement personnel du candidat (orientation,maniere de travailler etc...)\n",
    "\n",
    "16) \"Globalement, je considère que participer à un projet du hackathon, ça vaut bien l’énergie que j’y consacre\"\n",
    "-> SATISFACTION3\n",
    "On va voir si le participant regrette ou non le temps consacré à son projet. On mesure la satisafaction\n",
    "\n",
    "17) \"Globalement, je considère qu’un hackathon permet vraiment de développer de la valeur pour l’individu\"\n",
    "-> SELF_IMPROVEMENT2\n",
    "\n",
    "18) \"Par rapport à ce que j’en attends, je suis un peu déçu par les projets auxquels je participe\"\n",
    "-> SATISFACTION4\n",
    "On va voir si le candidat est satisfait ou non du choix du projet\n",
    "ATTENTION DU COUP NOTE BASSE = SATISFAIT PAS COMME LES AUTRES \n",
    "\n",
    "19) \"Globalement, je suis vraiment satisfait des projets auxquels j’ai participés\"\n",
    "-> SATISFACTION5\n",
    "Mesurer la satisfaction vis à vis du projet\n",
    "\n",
    "20) \"Globalement, je suis vraiment satisfait des hackathons auxquels j’ai participés\"\n",
    "-> SATISFACTION6\n",
    "Mesurer la satisfaction générale donc on peut comparer aux autres Hackaton\n",
    "ICI IL MANQUE LA QUESTION : EST CE QUE C EST TON PREMIER HACKATON ??\n",
    "\n"
   ]
  },
  {
   "cell_type": "code",
   "execution_count": 24,
   "id": "520c0fec",
   "metadata": {},
   "outputs": [],
   "source": [
    "df_clean_renamed = df_clean.rename(columns=\n",
    "    {'la participation à un hackathon permet de simplifier le procesus d’innovation': 'UTILITE_INNOVATION'\n",
    "    ,'participer à un hackathon me permet de me tenir à jour des dernières innovations': 'INFORMATION_INNOVATION'\n",
    "    ,'je m’informe souvent à propos des hackathons': 'INTERET_PARTICIPANT1'\n",
    "    ,'je m’informe souvent à propos du devenir des projets après le hackathon': 'INTERET_PARTICIPANT2'\n",
    "    ,'Quand je participe à un hackathon, j’éprouve souvent une sensation de bien-être': 'SATISFACTION1'\n",
    "    ,'Quand je participe à un hackathon, ça m’absorbe complètement': 'SATISFACTION2'\n",
    "    ,'Je peux me faire une idée d’une personne à partir de la façon dont elle participe au hackathon': 'Useless1'\n",
    "    ,'Ma personnalité compte beaucoup dans le choix d’un projet de hackathon': 'Useless2'\n",
    "    ,'je juge un peu les gens en fonction des projets qu’ils choisissent': 'Useless3'\n",
    "    ,'participer à un hackathon, ça me donne l’occasion d’en parler ensuite avec mes proches': 'NETWORKING1'\n",
    "    ,'j’aime participer à un hackathon et garder contact ensuite avec les personnes que j’y ai rencontrées': 'NETWORKING2'\n",
    "    ,'je cherche à nouer des contacts durables durant un hackathon': 'NETWORKING3'\n",
    "    ,'participer à un hackathon, ça me donne l’occasion d’en parler ensuite avec mon équipe': 'NETWORKING4'\n",
    "    ,'j’aime bien participer à un hackathon et en parler ensuite avec d’autres participants de hackathons': 'NETWORKING5'\n",
    "    ,'Après avoir participé à un hackathon, j’aime bien me poser des questions importantes sur moi-même': 'SELF_IMPROVEMENT1'\n",
    "    ,'Globalement, je considère que participer à un projet du hackathon, ça vaut bien l’énergie que j’y consacre': 'SATISFACTION3'\n",
    "    ,'Globalement, je considère qu’un hackathon permet vraiment de développer de la valeur pour l’individu': 'SELF_IMPROVEMENT2'\n",
    "    ,'Par rapport à ce que j’en attends, je suis un peu déçu par les projets auxquels je participe': 'SATISFACTION4'\n",
    "    ,'Globalement, je suis vraiment satisfait des projets auxquels j’ai participés': 'SATISFACTION5'\n",
    "    ,'Globalement, je suis vraiment satisfait des hackathons auxquels j’ai participés': 'SATISFACTION6'\n",
    "    ,'#':'ID_CANDIDAT'\n",
    "    ,'Je suis':'GENRE'\n",
    "    ,'Mon activité :':'ACTIVITE'})"
   ]
  },
  {
   "cell_type": "code",
   "execution_count": 19,
   "id": "d8e9aa5f",
   "metadata": {},
   "outputs": [
    {
     "data": {
      "text/plain": [
       "139"
      ]
     },
     "execution_count": 19,
     "metadata": {},
     "output_type": "execute_result"
    }
   ],
   "source": [
    "len(df_clean_renamed[\"ID_CANDIDAT\"].unique())\n",
    "#Pas de doublons personne a participé deux fois ? ou c'est un nouveau ID généré a chaque Hackaton ?"
   ]
  },
  {
   "cell_type": "markdown",
   "id": "d58bc717",
   "metadata": {},
   "source": [
    "## Rectification de la variable GENRE"
   ]
  },
  {
   "cell_type": "code",
   "execution_count": 5,
   "id": "6462167a",
   "metadata": {},
   "outputs": [
    {
     "data": {
      "text/plain": [
       "2"
      ]
     },
     "execution_count": 5,
     "metadata": {},
     "output_type": "execute_result"
    }
   ],
   "source": [
    "len(df_clean_renamed[\"GENRE\"].unique())"
   ]
  },
  {
   "cell_type": "code",
   "execution_count": 6,
   "id": "ab419f0f",
   "metadata": {},
   "outputs": [
    {
     "data": {
      "text/plain": [
       "un homme     98\n",
       "une femme    41\n",
       "Name: GENRE, dtype: int64"
      ]
     },
     "execution_count": 6,
     "metadata": {},
     "output_type": "execute_result"
    }
   ],
   "source": [
    "df_clean_renamed[\"GENRE\"].value_counts()\n",
    "#pas de Nan normalement car 98+41 = 139"
   ]
  },
  {
   "cell_type": "code",
   "execution_count": 25,
   "id": "42b76bdb",
   "metadata": {},
   "outputs": [
    {
     "name": "stderr",
     "output_type": "stream",
     "text": [
      "  0%|                                                   | 0/139 [00:00<?, ?it/s]/var/folders/30/z0zpp57d7xx3_p2n7w7r0vrw0000gn/T/ipykernel_77976/4291238995.py:3: SettingWithCopyWarning: \n",
      "A value is trying to be set on a copy of a slice from a DataFrame\n",
      "\n",
      "See the caveats in the documentation: https://pandas.pydata.org/pandas-docs/stable/user_guide/indexing.html#returning-a-view-versus-a-copy\n",
      "  df_clean_renamed[\"GENRE\"][i] = 1\n",
      "/var/folders/30/z0zpp57d7xx3_p2n7w7r0vrw0000gn/T/ipykernel_77976/4291238995.py:5: SettingWithCopyWarning: \n",
      "A value is trying to be set on a copy of a slice from a DataFrame\n",
      "\n",
      "See the caveats in the documentation: https://pandas.pydata.org/pandas-docs/stable/user_guide/indexing.html#returning-a-view-versus-a-copy\n",
      "  df_clean_renamed[\"GENRE\"][i] = 0\n",
      "100%|███████████████████████████████████████| 139/139 [00:00<00:00, 2049.16it/s]\n"
     ]
    }
   ],
   "source": [
    "for i in tqdm(range(len(df_clean_renamed[\"GENRE\"]))): \n",
    "    if df_clean_renamed[\"GENRE\"][i]== 'un homme':\n",
    "        df_clean_renamed[\"GENRE\"][i] = 1\n",
    "    elif df_clean_renamed[\"GENRE\"][i] =='une femme':\n",
    "        df_clean_renamed[\"GENRE\"][i] = 0"
   ]
  },
  {
   "cell_type": "code",
   "execution_count": 14,
   "id": "e2bd700f",
   "metadata": {},
   "outputs": [
    {
     "name": "stderr",
     "output_type": "stream",
     "text": [
      "/var/folders/30/z0zpp57d7xx3_p2n7w7r0vrw0000gn/T/ipykernel_69201/3972974307.py:9: UserWarning: Matplotlib is currently using module://matplotlib_inline.backend_inline, which is a non-GUI backend, so cannot show the figure.\n",
      "  g.show()\n"
     ]
    },
    {
     "data": {
      "text/plain": [
       "<Figure size 432x288 with 0 Axes>"
      ]
     },
     "metadata": {},
     "output_type": "display_data"
    },
    {
     "data": {
      "image/png": "[encoded data removed]",
      "text/plain": [
       "<Figure size 720x720 with 1 Axes>"
      ]
     },
     "metadata": {},
     "output_type": "display_data"
    }
   ],
   "source": [
    "g = plt.figure(1)\n",
    "slices2 = [98,41]\n",
    "labels2 = [\"Homme\",\"Femme\"]\n",
    "colors2 = [\"#C0F1FB\",\"#F6C0FB\"]\n",
    "plt.figure(figsize=(10,10))\n",
    "plt.pie(x=slices2,labels=labels2,colors=colors2, wedgeprops={'edgecolor':'black'},shadow=True,\n",
    "       startangle=90,autopct=\"%1.1f%%\")\n",
    "plt.title(\"Genre des participants\")\n",
    "g.show()"
   ]
  },
  {
   "cell_type": "markdown",
   "id": "999e9778",
   "metadata": {},
   "source": [
    "## Rectification de la variable AGE"
   ]
  },
  {
   "cell_type": "markdown",
   "id": "fa91f43b",
   "metadata": {},
   "source": [
    "Ce format est à revoir plutot demander l'age directement au candidat.\n",
    "Meme les tranches ne font pas de sens."
   ]
  },
  {
   "cell_type": "code",
   "execution_count": 22,
   "id": "7e7f98b9",
   "metadata": {},
   "outputs": [
    {
     "data": {
      "text/plain": [
       "51-55 ans    3\n",
       "Name: 51-55 ans, dtype: int64"
      ]
     },
     "execution_count": 22,
     "metadata": {},
     "output_type": "execute_result"
    }
   ],
   "source": [
    "df_clean_renamed[\"51-55 ans\"].value_counts()\n",
    "#les 55ans sont dans celle ou celle d'apres ca a pas de sens ?"
   ]
  },
  {
   "cell_type": "code",
   "execution_count": 26,
   "id": "fb33eae8",
   "metadata": {},
   "outputs": [],
   "source": [
    "df_clean_renamed[\"AGE\"]=df_clean_renamed[\"55 ans et plus\"]"
   ]
  },
  {
   "cell_type": "code",
   "execution_count": 27,
   "id": "9d6a4f84",
   "metadata": {},
   "outputs": [
    {
     "name": "stderr",
     "output_type": "stream",
     "text": [
      "  0%|                                                   | 0/139 [00:00<?, ?it/s]/var/folders/30/z0zpp57d7xx3_p2n7w7r0vrw0000gn/T/ipykernel_77976/687925209.py:7: SettingWithCopyWarning: \n",
      "A value is trying to be set on a copy of a slice from a DataFrame\n",
      "\n",
      "See the caveats in the documentation: https://pandas.pydata.org/pandas-docs/stable/user_guide/indexing.html#returning-a-view-versus-a-copy\n",
      "  df_clean_renamed[\"AGE\"][i] = \"26-30 ans\"\n",
      "100%|██████████████████████████████████████| 139/139 [00:00<00:00, 16402.90it/s]\n"
     ]
    }
   ],
   "source": [
    "for i in tqdm(range(len(df_clean_renamed[\"15-20 ans\"]))): \n",
    "    if df_clean_renamed[\"15-20 ans\"][i]== '15-20 ans':\n",
    "        df_clean_renamed[\"AGE\"][i] = \"15-20 ans\"\n",
    "    elif df_clean_renamed[\"21-25 ans\"][i] =='21-25 ans':\n",
    "        df_clean_renamed[\"AGE\"][i] = \"21-25 ans\" \n",
    "    elif df_clean_renamed[\"26-30 ans\"][i] =='26-30 ans':\n",
    "        df_clean_renamed[\"AGE\"][i] = \"26-30 ans\" \n",
    "    elif df_clean_renamed[\"31-35 ans\"][i] =='31-35 ans':\n",
    "        df_clean_renamed[\"AGE\"][i] = \"31-35 ans\" \n",
    "    elif df_clean_renamed[\"36-40 ans\"][i] =='36-40 ans':\n",
    "        df_clean_renamed[\"AGE\"][i] = \"36-40 ans\" \n",
    "    elif df_clean_renamed[\"41-45 ans\"][i] =='41-45 ans':\n",
    "        df_clean_renamed[\"AGE\"][i] = \"41-45 ans\" \n",
    "    elif df_clean_renamed[\"46-50 ans\"][i] =='46-50 ans':\n",
    "        df_clean_renamed[\"AGE\"][i] = \"46-50 ans\" \n",
    "    elif df_clean_renamed[\"51-55 ans\"][i] =='51-55 ans':\n",
    "        df_clean_renamed[\"AGE\"][i] = \"51-55 ans\" \n",
    "    elif df_clean_renamed[\"55 ans et plus\"][i] =='55 ans et plus':\n",
    "        df_clean_renamed[\"AGE\"][i] = \"55 ans et plus\"\n",
    "    else : df_clean_renamed[\"AGE\"][i] = 0"
   ]
  },
  {
   "cell_type": "code",
   "execution_count": 10,
   "id": "92879c32",
   "metadata": {},
   "outputs": [
    {
     "data": {
      "text/plain": [
       "26-30 ans    39\n",
       "21-25 ans    31\n",
       "31-35 ans    23\n",
       "15-20 ans    16\n",
       "41-45 ans    12\n",
       "36-40 ans    12\n",
       "46-50 ans     3\n",
       "51-55 ans     3\n",
       "Name: AGE, dtype: int64"
      ]
     },
     "execution_count": 10,
     "metadata": {},
     "output_type": "execute_result"
    }
   ],
   "source": [
    "df_clean_renamed[\"AGE\"].value_counts()"
   ]
  },
  {
   "cell_type": "code",
   "execution_count": 28,
   "id": "39db8928",
   "metadata": {},
   "outputs": [],
   "source": [
    "df_clean_renamed = df_clean_renamed.drop([\"51-55 ans\",\"46-50 ans\",\"36-40 ans\",\"41-45 ans\",\"15-20 ans\",\"31-35 ans\",\"21-25 ans\",\"26-30 ans\",\"55 ans et plus\"],axis=\"columns\")"
   ]
  },
  {
   "cell_type": "code",
   "execution_count": 59,
   "id": "6abc0552",
   "metadata": {},
   "outputs": [
    {
     "data": {
      "text/plain": [
       "17.375"
      ]
     },
     "execution_count": 59,
     "metadata": {},
     "output_type": "execute_result"
    }
   ],
   "source": [
    "(39+31+23+16+12+12+3+3)/8\n",
    "#nombre moyen de participant si on avait une répartition uniforme"
   ]
  },
  {
   "cell_type": "code",
   "execution_count": 12,
   "id": "7fda8019",
   "metadata": {},
   "outputs": [
    {
     "data": {
      "application/vnd.plotly.v1+json": {
       "config": {
        "plotlyServerURL": "https://plot.ly"
       },
       "data": [
        {
         "alignmentgroup": "True",
         "bingroup": "x",
         "hovertemplate": "GENRE=1<br>Catégorie d'age des participants=%{x}<br>count=%{y}<extra></extra>",
         "legendgroup": "1",
         "marker": {
          "color": "#C0F1FB",
          "pattern": {
           "shape": ""
          }
         },
         "name": "1",
         "offsetgroup": "1",
         "orientation": "v",
         "showlegend": true,
         "type": "histogram",
         "x": [
          "26-30 ans",
          "26-30 ans",
          "21-25 ans",
          "26-30 ans",
          "21-25 ans",
          "15-20 ans",
          "46-50 ans",
          "31-35 ans",
          "15-20 ans",
          "46-50 ans",
          "21-25 ans",
          "21-25 ans",
          "41-45 ans",
          "26-30 ans",
          "41-45 ans",
          "31-35 ans",
          "26-30 ans",
          "15-20 ans",
          "31-35 ans",
          "36-40 ans",
          "31-35 ans",
          "41-45 ans",
          "21-25 ans",
          "36-40 ans",
          "41-45 ans",
          "26-30 ans",
          "21-25 ans",
          "41-45 ans",
          "15-20 ans",
          "21-25 ans",
          "26-30 ans",
          "15-20 ans",
          "26-30 ans",
          "26-30 ans",
          "26-30 ans",
          "21-25 ans",
          "21-25 ans",
          "31-35 ans",
          "15-20 ans",
          "21-25 ans",
          "15-20 ans",
          "31-35 ans",
          "31-35 ans",
          "31-35 ans",
          "41-45 ans",
          "21-25 ans",
          "21-25 ans",
          "51-55 ans",
          "21-25 ans",
          "26-30 ans",
          "15-20 ans",
          "41-45 ans",
          "21-25 ans",
          "26-30 ans",
          "31-35 ans",
          "31-35 ans",
          "26-30 ans",
          "15-20 ans",
          "26-30 ans",
          "41-45 ans",
          "21-25 ans",
          "15-20 ans",
          "21-25 ans",
          "21-25 ans",
          "26-30 ans",
          "26-30 ans",
          "21-25 ans",
          "21-25 ans",
          "36-40 ans",
          "36-40 ans",
          "31-35 ans",
          "21-25 ans",
          "36-40 ans",
          "36-40 ans",
          "26-30 ans",
          "26-30 ans",
          "26-30 ans",
          "51-55 ans",
          "26-30 ans",
          "41-45 ans",
          "31-35 ans",
          "26-30 ans",
          "26-30 ans",
          "15-20 ans",
          "21-25 ans",
          "31-35 ans",
          "21-25 ans",
          "31-35 ans",
          "26-30 ans",
          "36-40 ans",
          "46-50 ans",
          "26-30 ans",
          "26-30 ans",
          "36-40 ans",
          "26-30 ans",
          "26-30 ans",
          "31-35 ans",
          "36-40 ans"
         ],
         "xaxis": "x",
         "yaxis": "y"
        },
        {
         "alignmentgroup": "True",
         "bingroup": "x",
         "hovertemplate": "GENRE=0<br>Catégorie d'age des participants=%{x}<br>count=%{y}<extra></extra>",
         "legendgroup": "0",
         "marker": {
          "color": "#F6C0FB",
          "pattern": {
           "shape": ""
          }
         },
         "name": "0",
         "offsetgroup": "0",
         "orientation": "v",
         "showlegend": true,
         "type": "histogram",
         "x": [
          "41-45 ans",
          "41-45 ans",
          "26-30 ans",
          "31-35 ans",
          "41-45 ans",
          "21-25 ans",
          "21-25 ans",
          "26-30 ans",
          "15-20 ans",
          "15-20 ans",
          "15-20 ans",
          "26-30 ans",
          "31-35 ans",
          "31-35 ans",
          "31-35 ans",
          "26-30 ans",
          "21-25 ans",
          "21-25 ans",
          "21-25 ans",
          "36-40 ans",
          "36-40 ans",
          "21-25 ans",
          "26-30 ans",
          "26-30 ans",
          "21-25 ans",
          "15-20 ans",
          "36-40 ans",
          "31-35 ans",
          "31-35 ans",
          "51-55 ans",
          "26-30 ans",
          "31-35 ans",
          "21-25 ans",
          "26-30 ans",
          "21-25 ans",
          "15-20 ans",
          "26-30 ans",
          "26-30 ans",
          "26-30 ans",
          "26-30 ans",
          "31-35 ans"
         ],
         "xaxis": "x",
         "yaxis": "y"
        }
       ],
       "layout": {
        "annotations": [
         {
          "arrowhead": 2,
          "showarrow": true,
          "text": "La tranche d'âge à cibler !",
          "x": "26-30 ans",
          "y": 39
         },
         {
          "arrowhead": 2,
          "showarrow": true,
          "text": "Moyenne d'une répartition uniforme",
          "x": "51-55 ans",
          "y": 18
         }
        ],
        "barmode": "relative",
        "font": {
         "family": "Rockwell"
        },
        "height": 600,
        "legend": {
         "orientation": "h",
         "title": {},
         "tracegroupgap": 0,
         "x": 0.5,
         "xanchor": "center",
         "y": 1,
         "yanchor": "bottom"
        },
        "shapes": [
         {
          "line": {
           "color": "red",
           "dash": "dot",
           "width": 3
          },
          "opacity": 1,
          "type": "line",
          "x0": 0,
          "x1": 1,
          "xref": "paper",
          "y0": 17.375,
          "y1": 17.375,
          "yref": "y"
         }
        ],
        "template": {
         "data": {
          "bar": [
           {
            "error_x": {
             "color": "rgb(36,36,36)"
            },
            "error_y": {
             "color": "rgb(36,36,36)"
            },
            "marker": {
             "line": {
              "color": "white",
              "width": 0.5
             },
             "pattern": {
              "fillmode": "overlay",
              "size": 10,
              "solidity": 0.2
             }
            },
            "type": "bar"
           }
          ],
          "barpolar": [
           {
            "marker": {
             "line": {
              "color": "white",
              "width": 0.5
             },
             "pattern": {
              "fillmode": "overlay",
              "size": 10,
              "solidity": 0.2
             }
            },
            "type": "barpolar"
           }
          ],
          "carpet": [
           {
            "aaxis": {
             "endlinecolor": "rgb(36,36,36)",
             "gridcolor": "white",
             "linecolor": "white",
             "minorgridcolor": "white",
             "startlinecolor": "rgb(36,36,36)"
            },
            "baxis": {
             "endlinecolor": "rgb(36,36,36)",
             "gridcolor": "white",
             "linecolor": "white",
             "minorgridcolor": "white",
             "startlinecolor": "rgb(36,36,36)"
            },
            "type": "carpet"
           }
          ],
          "choropleth": [
           {
            "colorbar": {
             "outlinewidth": 1,
             "tickcolor": "rgb(36,36,36)",
             "ticks": "outside"
            },
            "type": "choropleth"
           }
          ],
          "contour": [
           {
            "colorbar": {
             "outlinewidth": 1,
             "tickcolor": "rgb(36,36,36)",
             "ticks": "outside"
            },
            "colorscale": [
             [
              0,
              "#440154"
             ],
             [
              0.1111111111111111,
              "#482878"
             ],
             [
              0.2222222222222222,
              "#3e4989"
             ],
             [
              0.3333333333333333,
              "#31688e"
             ],
             [
              0.4444444444444444,
              "#26828e"
             ],
             [
              0.5555555555555556,
              "#1f9e89"
             ],
             [
              0.6666666666666666,
              "#35b779"
             ],
             [
              0.7777777777777778,
              "#6ece58"
             ],
             [
              0.8888888888888888,
              "#b5de2b"
             ],
             [
              1,
              "#fde725"
             ]
            ],
            "type": "contour"
           }
          ],
          "contourcarpet": [
           {
            "colorbar": {
             "outlinewidth": 1,
             "tickcolor": "rgb(36,36,36)",
             "ticks": "outside"
            },
            "type": "contourcarpet"
           }
          ],
          "heatmap": [
           {
            "colorbar": {
             "outlinewidth": 1,
             "tickcolor": "rgb(36,36,36)",
             "ticks": "outside"
            },
            "colorscale": [
             [
              0,
              "#440154"
             ],
             [
              0.1111111111111111,
              "#482878"
             ],
             [
              0.2222222222222222,
              "#3e4989"
             ],
             [
              0.3333333333333333,
              "#31688e"
             ],
             [
              0.4444444444444444,
              "#26828e"
             ],
             [
              0.5555555555555556,
              "#1f9e89"
             ],
             [
              0.6666666666666666,
              "#35b779"
             ],
             [
              0.7777777777777778,
              "#6ece58"
             ],
             [
              0.8888888888888888,
              "#b5de2b"
             ],
             [
              1,
              "#fde725"
             ]
            ],
            "type": "heatmap"
           }
          ],
          "heatmapgl": [
           {
            "colorbar": {
             "outlinewidth": 1,
             "tickcolor": "rgb(36,36,36)",
             "ticks": "outside"
            },
            "colorscale": [
             [
              0,
              "#440154"
             ],
             [
              0.1111111111111111,
              "#482878"
             ],
             [
              0.2222222222222222,
              "#3e4989"
             ],
             [
              0.3333333333333333,
              "#31688e"
             ],
             [
              0.4444444444444444,
              "#26828e"
             ],
             [
              0.5555555555555556,
              "#1f9e89"
             ],
             [
              0.6666666666666666,
              "#35b779"
             ],
             [
              0.7777777777777778,
              "#6ece58"
             ],
             [
              0.8888888888888888,
              "#b5de2b"
             ],
             [
              1,
              "#fde725"
             ]
            ],
            "type": "heatmapgl"
           }
          ],
          "histogram": [
           {
            "marker": {
             "line": {
              "color": "white",
              "width": 0.6
             }
            },
            "type": "histogram"
           }
          ],
          "histogram2d": [
           {
            "colorbar": {
             "outlinewidth": 1,
             "tickcolor": "rgb(36,36,36)",
             "ticks": "outside"
            },
            "colorscale": [
             [
              0,
              "#440154"
             ],
             [
              0.1111111111111111,
              "#482878"
             ],
             [
              0.2222222222222222,
              "#3e4989"
             ],
             [
              0.3333333333333333,
              "#31688e"
             ],
             [
              0.4444444444444444,
              "#26828e"
             ],
             [
              0.5555555555555556,
              "#1f9e89"
             ],
             [
              0.6666666666666666,
              "#35b779"
             ],
             [
              0.7777777777777778,
              "#6ece58"
             ],
             [
              0.8888888888888888,
              "#b5de2b"
             ],
             [
              1,
              "#fde725"
             ]
            ],
            "type": "histogram2d"
           }
          ],
          "histogram2dcontour": [
           {
            "colorbar": {
             "outlinewidth": 1,
             "tickcolor": "rgb(36,36,36)",
             "ticks": "outside"
            },
            "colorscale": [
             [
              0,
              "#440154"
             ],
             [
              0.1111111111111111,
              "#482878"
             ],
             [
              0.2222222222222222,
              "#3e4989"
             ],
             [
              0.3333333333333333,
              "#31688e"
             ],
             [
              0.4444444444444444,
              "#26828e"
             ],
             [
              0.5555555555555556,
              "#1f9e89"
             ],
             [
              0.6666666666666666,
              "#35b779"
             ],
             [
              0.7777777777777778,
              "#6ece58"
             ],
             [
              0.8888888888888888,
              "#b5de2b"
             ],
             [
              1,
              "#fde725"
             ]
            ],
            "type": "histogram2dcontour"
           }
          ],
          "mesh3d": [
           {
            "colorbar": {
             "outlinewidth": 1,
             "tickcolor": "rgb(36,36,36)",
             "ticks": "outside"
            },
            "type": "mesh3d"
           }
          ],
          "parcoords": [
           {
            "line": {
             "colorbar": {
              "outlinewidth": 1,
              "tickcolor": "rgb(36,36,36)",
              "ticks": "outside"
             }
            },
            "type": "parcoords"
           }
          ],
          "pie": [
           {
            "automargin": true,
            "type": "pie"
           }
          ],
          "scatter": [
           {
            "marker": {
             "colorbar": {
              "outlinewidth": 1,
              "tickcolor": "rgb(36,36,36)",
              "ticks": "outside"
             }
            },
            "type": "scatter"
           }
          ],
          "scatter3d": [
           {
            "line": {
             "colorbar": {
              "outlinewidth": 1,
              "tickcolor": "rgb(36,36,36)",
              "ticks": "outside"
             }
            },
            "marker": {
             "colorbar": {
              "outlinewidth": 1,
              "tickcolor": "rgb(36,36,36)",
              "ticks": "outside"
             }
            },
            "type": "scatter3d"
           }
          ],
          "scattercarpet": [
           {
            "marker": {
             "colorbar": {
              "outlinewidth": 1,
              "tickcolor": "rgb(36,36,36)",
              "ticks": "outside"
             }
            },
            "type": "scattercarpet"
           }
          ],
          "scattergeo": [
           {
            "marker": {
             "colorbar": {
              "outlinewidth": 1,
              "tickcolor": "rgb(36,36,36)",
              "ticks": "outside"
             }
            },
            "type": "scattergeo"
           }
          ],
          "scattergl": [
           {
            "marker": {
             "colorbar": {
              "outlinewidth": 1,
              "tickcolor": "rgb(36,36,36)",
              "ticks": "outside"
             }
            },
            "type": "scattergl"
           }
          ],
          "scattermapbox": [
           {
            "marker": {
             "colorbar": {
              "outlinewidth": 1,
              "tickcolor": "rgb(36,36,36)",
              "ticks": "outside"
             }
            },
            "type": "scattermapbox"
           }
          ],
          "scatterpolar": [
           {
            "marker": {
             "colorbar": {
              "outlinewidth": 1,
              "tickcolor": "rgb(36,36,36)",
              "ticks": "outside"
             }
            },
            "type": "scatterpolar"
           }
          ],
          "scatterpolargl": [
           {
            "marker": {
             "colorbar": {
              "outlinewidth": 1,
              "tickcolor": "rgb(36,36,36)",
              "ticks": "outside"
             }
            },
            "type": "scatterpolargl"
           }
          ],
          "scatterternary": [
           {
            "marker": {
             "colorbar": {
              "outlinewidth": 1,
              "tickcolor": "rgb(36,36,36)",
              "ticks": "outside"
             }
            },
            "type": "scatterternary"
           }
          ],
          "surface": [
           {
            "colorbar": {
             "outlinewidth": 1,
             "tickcolor": "rgb(36,36,36)",
             "ticks": "outside"
            },
            "colorscale": [
             [
              0,
              "#440154"
             ],
             [
              0.1111111111111111,
              "#482878"
             ],
             [
              0.2222222222222222,
              "#3e4989"
             ],
             [
              0.3333333333333333,
              "#31688e"
             ],
             [
              0.4444444444444444,
              "#26828e"
             ],
             [
              0.5555555555555556,
              "#1f9e89"
             ],
             [
              0.6666666666666666,
              "#35b779"
             ],
             [
              0.7777777777777778,
              "#6ece58"
             ],
             [
              0.8888888888888888,
              "#b5de2b"
             ],
             [
              1,
              "#fde725"
             ]
            ],
            "type": "surface"
           }
          ],
          "table": [
           {
            "cells": {
             "fill": {
              "color": "rgb(237,237,237)"
             },
             "line": {
              "color": "white"
             }
            },
            "header": {
             "fill": {
              "color": "rgb(217,217,217)"
             },
             "line": {
              "color": "white"
             }
            },
            "type": "table"
           }
          ]
         },
         "layout": {
          "annotationdefaults": {
           "arrowhead": 0,
           "arrowwidth": 1
          },
          "autotypenumbers": "strict",
          "coloraxis": {
           "colorbar": {
            "outlinewidth": 1,
            "tickcolor": "rgb(36,36,36)",
            "ticks": "outside"
           }
          },
          "colorscale": {
           "diverging": [
            [
             0,
             "rgb(103,0,31)"
            ],
            [
             0.1,
             "rgb(178,24,43)"
            ],
            [
             0.2,
             "rgb(214,96,77)"
            ],
            [
             0.3,
             "rgb(244,165,130)"
            ],
            [
             0.4,
             "rgb(253,219,199)"
            ],
            [
             0.5,
             "rgb(247,247,247)"
            ],
            [
             0.6,
             "rgb(209,229,240)"
            ],
            [
             0.7,
             "rgb(146,197,222)"
            ],
            [
             0.8,
             "rgb(67,147,195)"
            ],
            [
             0.9,
             "rgb(33,102,172)"
            ],
            [
             1,
             "rgb(5,48,97)"
            ]
           ],
           "sequential": [
            [
             0,
             "#440154"
            ],
            [
             0.1111111111111111,
             "#482878"
            ],
            [
             0.2222222222222222,
             "#3e4989"
            ],
            [
             0.3333333333333333,
             "#31688e"
            ],
            [
             0.4444444444444444,
             "#26828e"
            ],
            [
             0.5555555555555556,
             "#1f9e89"
            ],
            [
             0.6666666666666666,
             "#35b779"
            ],
            [
             0.7777777777777778,
             "#6ece58"
            ],
            [
             0.8888888888888888,
             "#b5de2b"
            ],
            [
             1,
             "#fde725"
            ]
           ],
           "sequentialminus": [
            [
             0,
             "#440154"
            ],
            [
             0.1111111111111111,
             "#482878"
            ],
            [
             0.2222222222222222,
             "#3e4989"
            ],
            [
             0.3333333333333333,
             "#31688e"
            ],
            [
             0.4444444444444444,
             "#26828e"
            ],
            [
             0.5555555555555556,
             "#1f9e89"
            ],
            [
             0.6666666666666666,
             "#35b779"
            ],
            [
             0.7777777777777778,
             "#6ece58"
            ],
            [
             0.8888888888888888,
             "#b5de2b"
            ],
            [
             1,
             "#fde725"
            ]
           ]
          },
          "colorway": [
           "#1F77B4",
           "#FF7F0E",
           "#2CA02C",
           "#D62728",
           "#9467BD",
           "#8C564B",
           "#E377C2",
           "#7F7F7F",
           "#BCBD22",
           "#17BECF"
          ],
          "font": {
           "color": "rgb(36,36,36)"
          },
          "geo": {
           "bgcolor": "white",
           "lakecolor": "white",
           "landcolor": "white",
           "showlakes": true,
           "showland": true,
           "subunitcolor": "white"
          },
          "hoverlabel": {
           "align": "left"
          },
          "hovermode": "closest",
          "mapbox": {
           "style": "light"
          },
          "paper_bgcolor": "white",
          "plot_bgcolor": "white",
          "polar": {
           "angularaxis": {
            "gridcolor": "rgb(232,232,232)",
            "linecolor": "rgb(36,36,36)",
            "showgrid": false,
            "showline": true,
            "ticks": "outside"
           },
           "bgcolor": "white",
           "radialaxis": {
            "gridcolor": "rgb(232,232,232)",
            "linecolor": "rgb(36,36,36)",
            "showgrid": false,
            "showline": true,
            "ticks": "outside"
           }
          },
          "scene": {
           "xaxis": {
            "backgroundcolor": "white",
            "gridcolor": "rgb(232,232,232)",
            "gridwidth": 2,
            "linecolor": "rgb(36,36,36)",
            "showbackground": true,
            "showgrid": false,
            "showline": true,
            "ticks": "outside",
            "zeroline": false,
            "zerolinecolor": "rgb(36,36,36)"
           },
           "yaxis": {
            "backgroundcolor": "white",
            "gridcolor": "rgb(232,232,232)",
            "gridwidth": 2,
            "linecolor": "rgb(36,36,36)",
            "showbackground": true,
            "showgrid": false,
            "showline": true,
            "ticks": "outside",
            "zeroline": false,
            "zerolinecolor": "rgb(36,36,36)"
           },
           "zaxis": {
            "backgroundcolor": "white",
            "gridcolor": "rgb(232,232,232)",
            "gridwidth": 2,
            "linecolor": "rgb(36,36,36)",
            "showbackground": true,
            "showgrid": false,
            "showline": true,
            "ticks": "outside",
            "zeroline": false,
            "zerolinecolor": "rgb(36,36,36)"
           }
          },
          "shapedefaults": {
           "fillcolor": "black",
           "line": {
            "width": 0
           },
           "opacity": 0.3
          },
          "ternary": {
           "aaxis": {
            "gridcolor": "rgb(232,232,232)",
            "linecolor": "rgb(36,36,36)",
            "showgrid": false,
            "showline": true,
            "ticks": "outside"
           },
           "baxis": {
            "gridcolor": "rgb(232,232,232)",
            "linecolor": "rgb(36,36,36)",
            "showgrid": false,
            "showline": true,
            "ticks": "outside"
           },
           "bgcolor": "white",
           "caxis": {
            "gridcolor": "rgb(232,232,232)",
            "linecolor": "rgb(36,36,36)",
            "showgrid": false,
            "showline": true,
            "ticks": "outside"
           }
          },
          "title": {
           "x": 0.05
          },
          "xaxis": {
           "automargin": true,
           "gridcolor": "rgb(232,232,232)",
           "linecolor": "rgb(36,36,36)",
           "showgrid": false,
           "showline": true,
           "ticks": "outside",
           "title": {
            "standoff": 15
           },
           "zeroline": false,
           "zerolinecolor": "rgb(36,36,36)"
          },
          "yaxis": {
           "automargin": true,
           "gridcolor": "rgb(232,232,232)",
           "linecolor": "rgb(36,36,36)",
           "showgrid": false,
           "showline": true,
           "ticks": "outside",
           "title": {
            "standoff": 15
           },
           "zeroline": false,
           "zerolinecolor": "rgb(36,36,36)"
          }
         }
        },
        "title": {
         "text": "Repartition des participants en fonction de leur age et de leur sexe"
        },
        "width": 750,
        "xaxis": {
         "anchor": "y",
         "categoryarray": [
          "15-20 ans",
          "21-25 ans",
          "26-30 ans",
          "31-35 ans",
          "36-40 ans",
          "41-45 ans",
          "46-50 ans",
          "51-55 ans"
         ],
         "categoryorder": "array",
         "domain": [
          0,
          1
         ],
         "title": {
          "text": "Catégorie d'age des participants"
         }
        },
        "yaxis": {
         "anchor": "x",
         "domain": [
          0,
          1
         ],
         "title": {
          "text": "count"
         }
        }
       }
      },
      "text/html": [
       "<div>                            <div id=\"f3a266ef-d8e6-4a18-a4ef-1684e3413e22\" class=\"plotly-graph-div\" style=\"height:600px; width:750px;\"></div>            <script type=\"text/javascript\">                require([\"plotly\"], function(Plotly) {                    window.PLOTLYENV=window.PLOTLYENV || {};                                    if (document.getElementById(\"f3a266ef-d8e6-4a18-a4ef-1684e3413e22\")) {                    Plotly.newPlot(                        \"f3a266ef-d8e6-4a18-a4ef-1684e3413e22\",                        [{\"alignmentgroup\":\"True\",\"bingroup\":\"x\",\"hovertemplate\":\"GENRE=1<br>Cat\\u00e9gorie d'age des participants=%{x}<br>count=%{y}<extra></extra>\",\"legendgroup\":\"1\",\"marker\":{\"color\":\"#C0F1FB\",\"pattern\":{\"shape\":\"\"}},\"name\":\"1\",\"offsetgroup\":\"1\",\"orientation\":\"v\",\"showlegend\":true,\"x\":[\"26-30 ans\",\"26-30 ans\",\"21-25 ans\",\"26-30 ans\",\"21-25 ans\",\"15-20 ans\",\"46-50 ans\",\"31-35 ans\",\"15-20 ans\",\"46-50 ans\",\"21-25 ans\",\"21-25 ans\",\"41-45 ans\",\"26-30 ans\",\"41-45 ans\",\"31-35 ans\",\"26-30 ans\",\"15-20 ans\",\"31-35 ans\",\"36-40 ans\",\"31-35 ans\",\"41-45 ans\",\"21-25 ans\",\"36-40 ans\",\"41-45 ans\",\"26-30 ans\",\"21-25 ans\",\"41-45 ans\",\"15-20 ans\",\"21-25 ans\",\"26-30 ans\",\"15-20 ans\",\"26-30 ans\",\"26-30 ans\",\"26-30 ans\",\"21-25 ans\",\"21-25 ans\",\"31-35 ans\",\"15-20 ans\",\"21-25 ans\",\"15-20 ans\",\"31-35 ans\",\"31-35 ans\",\"31-35 ans\",\"41-45 ans\",\"21-25 ans\",\"21-25 ans\",\"51-55 ans\",\"21-25 ans\",\"26-30 ans\",\"15-20 ans\",\"41-45 ans\",\"21-25 ans\",\"26-30 ans\",\"31-35 ans\",\"31-35 ans\",\"26-30 ans\",\"15-20 ans\",\"26-30 ans\",\"41-45 ans\",\"21-25 ans\",\"15-20 ans\",\"21-25 ans\",\"21-25 ans\",\"26-30 ans\",\"26-30 ans\",\"21-25 ans\",\"21-25 ans\",\"36-40 ans\",\"36-40 ans\",\"31-35 ans\",\"21-25 ans\",\"36-40 ans\",\"36-40 ans\",\"26-30 ans\",\"26-30 ans\",\"26-30 ans\",\"51-55 ans\",\"26-30 ans\",\"41-45 ans\",\"31-35 ans\",\"26-30 ans\",\"26-30 ans\",\"15-20 ans\",\"21-25 ans\",\"31-35 ans\",\"21-25 ans\",\"31-35 ans\",\"26-30 ans\",\"36-40 ans\",\"46-50 ans\",\"26-30 ans\",\"26-30 ans\",\"36-40 ans\",\"26-30 ans\",\"26-30 ans\",\"31-35 ans\",\"36-40 ans\"],\"xaxis\":\"x\",\"yaxis\":\"y\",\"type\":\"histogram\"},{\"alignmentgroup\":\"True\",\"bingroup\":\"x\",\"hovertemplate\":\"GENRE=0<br>Cat\\u00e9gorie d'age des participants=%{x}<br>count=%{y}<extra></extra>\",\"legendgroup\":\"0\",\"marker\":{\"color\":\"#F6C0FB\",\"pattern\":{\"shape\":\"\"}},\"name\":\"0\",\"offsetgroup\":\"0\",\"orientation\":\"v\",\"showlegend\":true,\"x\":[\"41-45 ans\",\"41-45 ans\",\"26-30 ans\",\"31-35 ans\",\"41-45 ans\",\"21-25 ans\",\"21-25 ans\",\"26-30 ans\",\"15-20 ans\",\"15-20 ans\",\"15-20 ans\",\"26-30 ans\",\"31-35 ans\",\"31-35 ans\",\"31-35 ans\",\"26-30 ans\",\"21-25 ans\",\"21-25 ans\",\"21-25 ans\",\"36-40 ans\",\"36-40 ans\",\"21-25 ans\",\"26-30 ans\",\"26-30 ans\",\"21-25 ans\",\"15-20 ans\",\"36-40 ans\",\"31-35 ans\",\"31-35 ans\",\"51-55 ans\",\"26-30 ans\",\"31-35 ans\",\"21-25 ans\",\"26-30 ans\",\"21-25 ans\",\"15-20 ans\",\"26-30 ans\",\"26-30 ans\",\"26-30 ans\",\"26-30 ans\",\"31-35 ans\"],\"xaxis\":\"x\",\"yaxis\":\"y\",\"type\":\"histogram\"}],                        {\"template\":{\"data\":{\"barpolar\":[{\"marker\":{\"line\":{\"color\":\"white\",\"width\":0.5},\"pattern\":{\"fillmode\":\"overlay\",\"size\":10,\"solidity\":0.2}},\"type\":\"barpolar\"}],\"bar\":[{\"error_x\":{\"color\":\"rgb(36,36,36)\"},\"error_y\":{\"color\":\"rgb(36,36,36)\"},\"marker\":{\"line\":{\"color\":\"white\",\"width\":0.5},\"pattern\":{\"fillmode\":\"overlay\",\"size\":10,\"solidity\":0.2}},\"type\":\"bar\"}],\"carpet\":[{\"aaxis\":{\"endlinecolor\":\"rgb(36,36,36)\",\"gridcolor\":\"white\",\"linecolor\":\"white\",\"minorgridcolor\":\"white\",\"startlinecolor\":\"rgb(36,36,36)\"},\"baxis\":{\"endlinecolor\":\"rgb(36,36,36)\",\"gridcolor\":\"white\",\"linecolor\":\"white\",\"minorgridcolor\":\"white\",\"startlinecolor\":\"rgb(36,36,36)\"},\"type\":\"carpet\"}],\"choropleth\":[{\"colorbar\":{\"outlinewidth\":1,\"tickcolor\":\"rgb(36,36,36)\",\"ticks\":\"outside\"},\"type\":\"choropleth\"}],\"contourcarpet\":[{\"colorbar\":{\"outlinewidth\":1,\"tickcolor\":\"rgb(36,36,36)\",\"ticks\":\"outside\"},\"type\":\"contourcarpet\"}],\"contour\":[{\"colorbar\":{\"outlinewidth\":1,\"tickcolor\":\"rgb(36,36,36)\",\"ticks\":\"outside\"},\"colorscale\":[[0.0,\"#440154\"],[0.1111111111111111,\"#482878\"],[0.2222222222222222,\"#3e4989\"],[0.3333333333333333,\"#31688e\"],[0.4444444444444444,\"#26828e\"],[0.5555555555555556,\"#1f9e89\"],[0.6666666666666666,\"#35b779\"],[0.7777777777777778,\"#6ece58\"],[0.8888888888888888,\"#b5de2b\"],[1.0,\"#fde725\"]],\"type\":\"contour\"}],\"heatmapgl\":[{\"colorbar\":{\"outlinewidth\":1,\"tickcolor\":\"rgb(36,36,36)\",\"ticks\":\"outside\"},\"colorscale\":[[0.0,\"#440154\"],[0.1111111111111111,\"#482878\"],[0.2222222222222222,\"#3e4989\"],[0.3333333333333333,\"#31688e\"],[0.4444444444444444,\"#26828e\"],[0.5555555555555556,\"#1f9e89\"],[0.6666666666666666,\"#35b779\"],[0.7777777777777778,\"#6ece58\"],[0.8888888888888888,\"#b5de2b\"],[1.0,\"#fde725\"]],\"type\":\"heatmapgl\"}],\"heatmap\":[{\"colorbar\":{\"outlinewidth\":1,\"tickcolor\":\"rgb(36,36,36)\",\"ticks\":\"outside\"},\"colorscale\":[[0.0,\"#440154\"],[0.1111111111111111,\"#482878\"],[0.2222222222222222,\"#3e4989\"],[0.3333333333333333,\"#31688e\"],[0.4444444444444444,\"#26828e\"],[0.5555555555555556,\"#1f9e89\"],[0.6666666666666666,\"#35b779\"],[0.7777777777777778,\"#6ece58\"],[0.8888888888888888,\"#b5de2b\"],[1.0,\"#fde725\"]],\"type\":\"heatmap\"}],\"histogram2dcontour\":[{\"colorbar\":{\"outlinewidth\":1,\"tickcolor\":\"rgb(36,36,36)\",\"ticks\":\"outside\"},\"colorscale\":[[0.0,\"#440154\"],[0.1111111111111111,\"#482878\"],[0.2222222222222222,\"#3e4989\"],[0.3333333333333333,\"#31688e\"],[0.4444444444444444,\"#26828e\"],[0.5555555555555556,\"#1f9e89\"],[0.6666666666666666,\"#35b779\"],[0.7777777777777778,\"#6ece58\"],[0.8888888888888888,\"#b5de2b\"],[1.0,\"#fde725\"]],\"type\":\"histogram2dcontour\"}],\"histogram2d\":[{\"colorbar\":{\"outlinewidth\":1,\"tickcolor\":\"rgb(36,36,36)\",\"ticks\":\"outside\"},\"colorscale\":[[0.0,\"#440154\"],[0.1111111111111111,\"#482878\"],[0.2222222222222222,\"#3e4989\"],[0.3333333333333333,\"#31688e\"],[0.4444444444444444,\"#26828e\"],[0.5555555555555556,\"#1f9e89\"],[0.6666666666666666,\"#35b779\"],[0.7777777777777778,\"#6ece58\"],[0.8888888888888888,\"#b5de2b\"],[1.0,\"#fde725\"]],\"type\":\"histogram2d\"}],\"histogram\":[{\"marker\":{\"line\":{\"color\":\"white\",\"width\":0.6}},\"type\":\"histogram\"}],\"mesh3d\":[{\"colorbar\":{\"outlinewidth\":1,\"tickcolor\":\"rgb(36,36,36)\",\"ticks\":\"outside\"},\"type\":\"mesh3d\"}],\"parcoords\":[{\"line\":{\"colorbar\":{\"outlinewidth\":1,\"tickcolor\":\"rgb(36,36,36)\",\"ticks\":\"outside\"}},\"type\":\"parcoords\"}],\"pie\":[{\"automargin\":true,\"type\":\"pie\"}],\"scatter3d\":[{\"line\":{\"colorbar\":{\"outlinewidth\":1,\"tickcolor\":\"rgb(36,36,36)\",\"ticks\":\"outside\"}},\"marker\":{\"colorbar\":{\"outlinewidth\":1,\"tickcolor\":\"rgb(36,36,36)\",\"ticks\":\"outside\"}},\"type\":\"scatter3d\"}],\"scattercarpet\":[{\"marker\":{\"colorbar\":{\"outlinewidth\":1,\"tickcolor\":\"rgb(36,36,36)\",\"ticks\":\"outside\"}},\"type\":\"scattercarpet\"}],\"scattergeo\":[{\"marker\":{\"colorbar\":{\"outlinewidth\":1,\"tickcolor\":\"rgb(36,36,36)\",\"ticks\":\"outside\"}},\"type\":\"scattergeo\"}],\"scattergl\":[{\"marker\":{\"colorbar\":{\"outlinewidth\":1,\"tickcolor\":\"rgb(36,36,36)\",\"ticks\":\"outside\"}},\"type\":\"scattergl\"}],\"scattermapbox\":[{\"marker\":{\"colorbar\":{\"outlinewidth\":1,\"tickcolor\":\"rgb(36,36,36)\",\"ticks\":\"outside\"}},\"type\":\"scattermapbox\"}],\"scatterpolargl\":[{\"marker\":{\"colorbar\":{\"outlinewidth\":1,\"tickcolor\":\"rgb(36,36,36)\",\"ticks\":\"outside\"}},\"type\":\"scatterpolargl\"}],\"scatterpolar\":[{\"marker\":{\"colorbar\":{\"outlinewidth\":1,\"tickcolor\":\"rgb(36,36,36)\",\"ticks\":\"outside\"}},\"type\":\"scatterpolar\"}],\"scatter\":[{\"marker\":{\"colorbar\":{\"outlinewidth\":1,\"tickcolor\":\"rgb(36,36,36)\",\"ticks\":\"outside\"}},\"type\":\"scatter\"}],\"scatterternary\":[{\"marker\":{\"colorbar\":{\"outlinewidth\":1,\"tickcolor\":\"rgb(36,36,36)\",\"ticks\":\"outside\"}},\"type\":\"scatterternary\"}],\"surface\":[{\"colorbar\":{\"outlinewidth\":1,\"tickcolor\":\"rgb(36,36,36)\",\"ticks\":\"outside\"},\"colorscale\":[[0.0,\"#440154\"],[0.1111111111111111,\"#482878\"],[0.2222222222222222,\"#3e4989\"],[0.3333333333333333,\"#31688e\"],[0.4444444444444444,\"#26828e\"],[0.5555555555555556,\"#1f9e89\"],[0.6666666666666666,\"#35b779\"],[0.7777777777777778,\"#6ece58\"],[0.8888888888888888,\"#b5de2b\"],[1.0,\"#fde725\"]],\"type\":\"surface\"}],\"table\":[{\"cells\":{\"fill\":{\"color\":\"rgb(237,237,237)\"},\"line\":{\"color\":\"white\"}},\"header\":{\"fill\":{\"color\":\"rgb(217,217,217)\"},\"line\":{\"color\":\"white\"}},\"type\":\"table\"}]},\"layout\":{\"annotationdefaults\":{\"arrowhead\":0,\"arrowwidth\":1},\"autotypenumbers\":\"strict\",\"coloraxis\":{\"colorbar\":{\"outlinewidth\":1,\"tickcolor\":\"rgb(36,36,36)\",\"ticks\":\"outside\"}},\"colorscale\":{\"diverging\":[[0.0,\"rgb(103,0,31)\"],[0.1,\"rgb(178,24,43)\"],[0.2,\"rgb(214,96,77)\"],[0.3,\"rgb(244,165,130)\"],[0.4,\"rgb(253,219,199)\"],[0.5,\"rgb(247,247,247)\"],[0.6,\"rgb(209,229,240)\"],[0.7,\"rgb(146,197,222)\"],[0.8,\"rgb(67,147,195)\"],[0.9,\"rgb(33,102,172)\"],[1.0,\"rgb(5,48,97)\"]],\"sequential\":[[0.0,\"#440154\"],[0.1111111111111111,\"#482878\"],[0.2222222222222222,\"#3e4989\"],[0.3333333333333333,\"#31688e\"],[0.4444444444444444,\"#26828e\"],[0.5555555555555556,\"#1f9e89\"],[0.6666666666666666,\"#35b779\"],[0.7777777777777778,\"#6ece58\"],[0.8888888888888888,\"#b5de2b\"],[1.0,\"#fde725\"]],\"sequentialminus\":[[0.0,\"#440154\"],[0.1111111111111111,\"#482878\"],[0.2222222222222222,\"#3e4989\"],[0.3333333333333333,\"#31688e\"],[0.4444444444444444,\"#26828e\"],[0.5555555555555556,\"#1f9e89\"],[0.6666666666666666,\"#35b779\"],[0.7777777777777778,\"#6ece58\"],[0.8888888888888888,\"#b5de2b\"],[1.0,\"#fde725\"]]},\"colorway\":[\"#1F77B4\",\"#FF7F0E\",\"#2CA02C\",\"#D62728\",\"#9467BD\",\"#8C564B\",\"#E377C2\",\"#7F7F7F\",\"#BCBD22\",\"#17BECF\"],\"font\":{\"color\":\"rgb(36,36,36)\"},\"geo\":{\"bgcolor\":\"white\",\"lakecolor\":\"white\",\"landcolor\":\"white\",\"showlakes\":true,\"showland\":true,\"subunitcolor\":\"white\"},\"hoverlabel\":{\"align\":\"left\"},\"hovermode\":\"closest\",\"mapbox\":{\"style\":\"light\"},\"paper_bgcolor\":\"white\",\"plot_bgcolor\":\"white\",\"polar\":{\"angularaxis\":{\"gridcolor\":\"rgb(232,232,232)\",\"linecolor\":\"rgb(36,36,36)\",\"showgrid\":false,\"showline\":true,\"ticks\":\"outside\"},\"bgcolor\":\"white\",\"radialaxis\":{\"gridcolor\":\"rgb(232,232,232)\",\"linecolor\":\"rgb(36,36,36)\",\"showgrid\":false,\"showline\":true,\"ticks\":\"outside\"}},\"scene\":{\"xaxis\":{\"backgroundcolor\":\"white\",\"gridcolor\":\"rgb(232,232,232)\",\"gridwidth\":2,\"linecolor\":\"rgb(36,36,36)\",\"showbackground\":true,\"showgrid\":false,\"showline\":true,\"ticks\":\"outside\",\"zeroline\":false,\"zerolinecolor\":\"rgb(36,36,36)\"},\"yaxis\":{\"backgroundcolor\":\"white\",\"gridcolor\":\"rgb(232,232,232)\",\"gridwidth\":2,\"linecolor\":\"rgb(36,36,36)\",\"showbackground\":true,\"showgrid\":false,\"showline\":true,\"ticks\":\"outside\",\"zeroline\":false,\"zerolinecolor\":\"rgb(36,36,36)\"},\"zaxis\":{\"backgroundcolor\":\"white\",\"gridcolor\":\"rgb(232,232,232)\",\"gridwidth\":2,\"linecolor\":\"rgb(36,36,36)\",\"showbackground\":true,\"showgrid\":false,\"showline\":true,\"ticks\":\"outside\",\"zeroline\":false,\"zerolinecolor\":\"rgb(36,36,36)\"}},\"shapedefaults\":{\"fillcolor\":\"black\",\"line\":{\"width\":0},\"opacity\":0.3},\"ternary\":{\"aaxis\":{\"gridcolor\":\"rgb(232,232,232)\",\"linecolor\":\"rgb(36,36,36)\",\"showgrid\":false,\"showline\":true,\"ticks\":\"outside\"},\"baxis\":{\"gridcolor\":\"rgb(232,232,232)\",\"linecolor\":\"rgb(36,36,36)\",\"showgrid\":false,\"showline\":true,\"ticks\":\"outside\"},\"bgcolor\":\"white\",\"caxis\":{\"gridcolor\":\"rgb(232,232,232)\",\"linecolor\":\"rgb(36,36,36)\",\"showgrid\":false,\"showline\":true,\"ticks\":\"outside\"}},\"title\":{\"x\":0.05},\"xaxis\":{\"automargin\":true,\"gridcolor\":\"rgb(232,232,232)\",\"linecolor\":\"rgb(36,36,36)\",\"showgrid\":false,\"showline\":true,\"ticks\":\"outside\",\"title\":{\"standoff\":15},\"zeroline\":false,\"zerolinecolor\":\"rgb(36,36,36)\"},\"yaxis\":{\"automargin\":true,\"gridcolor\":\"rgb(232,232,232)\",\"linecolor\":\"rgb(36,36,36)\",\"showgrid\":false,\"showline\":true,\"ticks\":\"outside\",\"title\":{\"standoff\":15},\"zeroline\":false,\"zerolinecolor\":\"rgb(36,36,36)\"}}},\"xaxis\":{\"anchor\":\"y\",\"domain\":[0.0,1.0],\"title\":{\"text\":\"Cat\\u00e9gorie d'age des participants\"},\"categoryorder\":\"array\",\"categoryarray\":[\"15-20 ans\",\"21-25 ans\",\"26-30 ans\",\"31-35 ans\",\"36-40 ans\",\"41-45 ans\",\"46-50 ans\",\"51-55 ans\"]},\"yaxis\":{\"anchor\":\"x\",\"domain\":[0.0,1.0],\"title\":{\"text\":\"count\"}},\"legend\":{\"title\":{},\"tracegroupgap\":0,\"orientation\":\"h\",\"y\":1,\"yanchor\":\"bottom\",\"x\":0.5,\"xanchor\":\"center\"},\"title\":{\"text\":\"Repartition des participants en fonction de leur age et de leur sexe\"},\"barmode\":\"relative\",\"height\":600,\"width\":750,\"font\":{\"family\":\"Rockwell\"},\"shapes\":[{\"line\":{\"color\":\"red\",\"dash\":\"dot\",\"width\":3},\"opacity\":1,\"type\":\"line\",\"x0\":0,\"x1\":1,\"xref\":\"paper\",\"y0\":17.375,\"y1\":17.375,\"yref\":\"y\"}],\"annotations\":[{\"arrowhead\":2,\"showarrow\":true,\"text\":\"La tranche d'\\u00e2ge \\u00e0 cibler !\",\"x\":\"26-30 ans\",\"y\":39},{\"arrowhead\":2,\"showarrow\":true,\"text\":\"Moyenne d'une r\\u00e9partition uniforme\",\"x\":\"51-55 ans\",\"y\":18}]},                        {\"responsive\": true}                    ).then(function(){\n",
       "                            \n",
       "var gd = document.getElementById('f3a266ef-d8e6-4a18-a4ef-1684e3413e22');\n",
       "var x = new MutationObserver(function (mutations, observer) {{\n",
       "        var display = window.getComputedStyle(gd).display;\n",
       "        if (!display || display === 'none') {{\n",
       "            console.log([gd, 'removed!']);\n",
       "            Plotly.purge(gd);\n",
       "            observer.disconnect();\n",
       "        }}\n",
       "}});\n",
       "\n",
       "// Listen for the removal of the full notebook cells\n",
       "var notebookContainer = gd.closest('#notebook-container');\n",
       "if (notebookContainer) {{\n",
       "    x.observe(notebookContainer, {childList: true});\n",
       "}}\n",
       "\n",
       "// Listen for the clearing of the current output cell\n",
       "var outputEl = gd.closest('.output');\n",
       "if (outputEl) {{\n",
       "    x.observe(outputEl, {childList: true});\n",
       "}}\n",
       "\n",
       "                        })                };                });            </script>        </div>"
      ]
     },
     "metadata": {},
     "output_type": "display_data"
    }
   ],
   "source": [
    "fig = px.histogram(\n",
    "                   df_clean_renamed, x=\"AGE\",color=\"GENRE\",\n",
    "                   title='Repartition des participants en fonction de leur age et de leur sexe',\n",
    "                   width=750, \n",
    "                   height=600,\n",
    "                   labels={\"AGE\":\"Catégorie d'age des participants\"},\n",
    "                   category_orders={\"AGE\":[\"15-20 ans\", \"21-25 ans\", \"26-30 ans\",\n",
    "                                           \"31-35 ans\",\"36-40 ans\",\n",
    "                                           \"41-45 ans\",\"46-50 ans\",\"51-55 ans\"],\n",
    "                    \"GENRE\":[1,0]}, \n",
    "                   color_discrete_map={1: \"#C0F1FB\", 0: \"#F6C0FB\"},\n",
    "                  template=\"simple_white\"\n",
    ")\n",
    "                   \n",
    "fig.update_layout(\n",
    "                  font_family=\"Rockwell\",\n",
    "                  legend=dict(title=None,\n",
    "                  orientation=\"h\", \n",
    "                  y=1,\n",
    "                  yanchor=\"bottom\",\n",
    "                  x=0.5, \n",
    "                  xanchor=\"center\"\n",
    "    )\n",
    ")\n",
    "\n",
    "fig.add_shape(\n",
    "                  type=\"line\", \n",
    "                  line_color=\"red\",\n",
    "                  line_width=3,\n",
    "                  opacity=1, \n",
    "                  line_dash=\"dot\",\n",
    "                  x0=0, \n",
    "                  x1=1, \n",
    "                  xref=\"paper\",\n",
    "                  y0=17.375, \n",
    "                  y1=17.375, \n",
    "                  yref=\"y\"\n",
    ")\n",
    "\n",
    "fig.add_annotation(\n",
    "                 text=\"La tranche d'âge à cibler !\", \n",
    "                 x=\"26-30 ans\", \n",
    "                 y=39, \n",
    "                 arrowhead=2, \n",
    "                 showarrow=True\n",
    ")\n",
    "    \n",
    "\n",
    "fig.add_annotation(\n",
    "                 text=\"Moyenne d'une répartition uniforme\", \n",
    "                 x=\"51-55 ans\", \n",
    "                 y=18, \n",
    "                 arrowhead=2, \n",
    "                 showarrow=True\n",
    ")\n",
    "fig.show()\n",
    "\n",
    "\n",
    "#1 sont les hommes et 0 les femmes j'ai pas réussi à changer dans la légende ca fait\n",
    "# 4h que je parcours toutes les fonctions plotly je vais cabler\n",
    "\n",
    "#graphique intéressant pour le ciblage marketing"
   ]
  },
  {
   "cell_type": "markdown",
   "id": "ad061499",
   "metadata": {},
   "source": [
    "### Interprétation du graphique :\n",
    "\n",
    "1) Dans toutes les tranches d'ages il y a majoritairement des hommes\n",
    "(voir graphique en camembert) dans chaque tranche d'ages la proportion homme/femme est environ la même.\n",
    "\n",
    "\n",
    "\n",
    "2) La répartition des individus en fonction des tranches d'ages est explicite que ca soit\n",
    "pour les hommes ou les femmes. On remarque qu'il y a majoritairement des individus entre\n",
    "21 et 35ans (avec une grosse part de personnes entre 26-30ans)\n",
    "\n",
    "Attention : Les répartitions d'ages est peut etre aussi lié à un bias de selection \n",
    "(peut etre qu'on fait plus de pubs dans chez les étudiants en écoles/master universitaire que chez les pros)"
   ]
  },
  {
   "cell_type": "markdown",
   "id": "c2ad99fe",
   "metadata": {},
   "source": [
    "## Rectification de la variable Je vis"
   ]
  },
  {
   "cell_type": "code",
   "execution_count": 180,
   "id": "52a0749c",
   "metadata": {},
   "outputs": [
    {
     "data": {
      "text/plain": [
       "à Strasbourg                   84\n",
       "en France                      34\n",
       "aux alentours de Strasbourg    15\n",
       "en Alsace                       4\n",
       "à l'étranger                    2\n",
       "Name: Je vis, dtype: int64"
      ]
     },
     "execution_count": 180,
     "metadata": {},
     "output_type": "execute_result"
    }
   ],
   "source": [
    "df_clean_renamed[\"Je vis\"].value_counts()"
   ]
  },
  {
   "cell_type": "code",
   "execution_count": 181,
   "id": "e059cb23",
   "metadata": {},
   "outputs": [
    {
     "data": {
      "application/vnd.plotly.v1+json": {
       "config": {
        "plotlyServerURL": "https://plot.ly"
       },
       "data": [
        {
         "alignmentgroup": "True",
         "bingroup": "x",
         "hovertemplate": "Je vis=%{x}<br>count=%{y}<extra></extra>",
         "legendgroup": "",
         "marker": {
          "color": "#636efa",
          "pattern": {
           "shape": ""
          }
         },
         "name": "",
         "offsetgroup": "",
         "orientation": "v",
         "showlegend": false,
         "type": "histogram",
         "x": [
          "à Strasbourg",
          "à Strasbourg",
          "à Strasbourg",
          "aux alentours de Strasbourg",
          "aux alentours de Strasbourg",
          "à Strasbourg",
          "aux alentours de Strasbourg",
          "en France",
          "aux alentours de Strasbourg",
          "à Strasbourg",
          "aux alentours de Strasbourg",
          "à Strasbourg",
          "à Strasbourg",
          "à Strasbourg",
          "à Strasbourg",
          "à l'étranger",
          "à Strasbourg",
          "en France",
          "à Strasbourg",
          "à Strasbourg",
          "à Strasbourg",
          "à Strasbourg",
          "à Strasbourg",
          "à Strasbourg",
          "en France",
          "à Strasbourg",
          "à Strasbourg",
          "à Strasbourg",
          "en Alsace",
          "à Strasbourg",
          "en France",
          "en France",
          "en France",
          "à Strasbourg",
          "à Strasbourg",
          "à Strasbourg",
          "à Strasbourg",
          "à Strasbourg",
          "à Strasbourg",
          "à Strasbourg",
          "à Strasbourg",
          "à Strasbourg",
          "à Strasbourg",
          "à Strasbourg",
          "à Strasbourg",
          "en France",
          "à Strasbourg",
          "en France",
          "en France",
          "à l'étranger",
          "à Strasbourg",
          "en Alsace",
          "à Strasbourg",
          "aux alentours de Strasbourg",
          "à Strasbourg",
          "aux alentours de Strasbourg",
          "à Strasbourg",
          "en France",
          "à Strasbourg",
          "à Strasbourg",
          "en France",
          "à Strasbourg",
          "en France",
          "à Strasbourg",
          "à Strasbourg",
          "à Strasbourg",
          "en France",
          "à Strasbourg",
          "à Strasbourg",
          "en France",
          "à Strasbourg",
          "en France",
          "à Strasbourg",
          "à Strasbourg",
          "à Strasbourg",
          "à Strasbourg",
          "à Strasbourg",
          "aux alentours de Strasbourg",
          "à Strasbourg",
          "à Strasbourg",
          "à Strasbourg",
          "aux alentours de Strasbourg",
          "à Strasbourg",
          "aux alentours de Strasbourg",
          "à Strasbourg",
          "en France",
          "à Strasbourg",
          "en Alsace",
          "en France",
          "à Strasbourg",
          "en France",
          "à Strasbourg",
          "à Strasbourg",
          "à Strasbourg",
          "en France",
          "en France",
          "à Strasbourg",
          "aux alentours de Strasbourg",
          "à Strasbourg",
          "en France",
          "en France",
          "à Strasbourg",
          "à Strasbourg",
          "à Strasbourg",
          "en France",
          "en France",
          "à Strasbourg",
          "à Strasbourg",
          "à Strasbourg",
          "en France",
          "en Alsace",
          "en France",
          "en France",
          "à Strasbourg",
          "à Strasbourg",
          "à Strasbourg",
          "à Strasbourg",
          "en France",
          "à Strasbourg",
          "à Strasbourg",
          "à Strasbourg",
          "à Strasbourg",
          "à Strasbourg",
          "en France",
          "en France",
          "en France",
          "en France",
          "en France",
          "aux alentours de Strasbourg",
          "à Strasbourg",
          "à Strasbourg",
          "en France",
          "à Strasbourg",
          "à Strasbourg",
          "aux alentours de Strasbourg",
          "à Strasbourg",
          "à Strasbourg",
          "aux alentours de Strasbourg",
          "aux alentours de Strasbourg"
         ],
         "xaxis": "x",
         "yaxis": "y"
        }
       ],
       "layout": {
        "barmode": "relative",
        "legend": {
         "tracegroupgap": 0
        },
        "margin": {
         "t": 60
        },
        "template": {
         "data": {
          "bar": [
           {
            "error_x": {
             "color": "#2a3f5f"
            },
            "error_y": {
             "color": "#2a3f5f"
            },
            "marker": {
             "line": {
              "color": "#E5ECF6",
              "width": 0.5
             },
             "pattern": {
              "fillmode": "overlay",
              "size": 10,
              "solidity": 0.2
             }
            },
            "type": "bar"
           }
          ],
          "barpolar": [
           {
            "marker": {
             "line": {
              "color": "#E5ECF6",
              "width": 0.5
             },
             "pattern": {
              "fillmode": "overlay",
              "size": 10,
              "solidity": 0.2
             }
            },
            "type": "barpolar"
           }
          ],
          "carpet": [
           {
            "aaxis": {
             "endlinecolor": "#2a3f5f",
             "gridcolor": "white",
             "linecolor": "white",
             "minorgridcolor": "white",
             "startlinecolor": "#2a3f5f"
            },
            "baxis": {
             "endlinecolor": "#2a3f5f",
             "gridcolor": "white",
             "linecolor": "white",
             "minorgridcolor": "white",
             "startlinecolor": "#2a3f5f"
            },
            "type": "carpet"
           }
          ],
          "choropleth": [
           {
            "colorbar": {
             "outlinewidth": 0,
             "ticks": ""
            },
            "type": "choropleth"
           }
          ],
          "contour": [
           {
            "colorbar": {
             "outlinewidth": 0,
             "ticks": ""
            },
            "colorscale": [
             [
              0,
              "#0d0887"
             ],
             [
              0.1111111111111111,
              "#46039f"
             ],
             [
              0.2222222222222222,
              "#7201a8"
             ],
             [
              0.3333333333333333,
              "#9c179e"
             ],
             [
              0.4444444444444444,
              "#bd3786"
             ],
             [
              0.5555555555555556,
              "#d8576b"
             ],
             [
              0.6666666666666666,
              "#ed7953"
             ],
             [
              0.7777777777777778,
              "#fb9f3a"
             ],
             [
              0.8888888888888888,
              "#fdca26"
             ],
             [
              1,
              "#f0f921"
             ]
            ],
            "type": "contour"
           }
          ],
          "contourcarpet": [
           {
            "colorbar": {
             "outlinewidth": 0,
             "ticks": ""
            },
            "type": "contourcarpet"
           }
          ],
          "heatmap": [
           {
            "colorbar": {
             "outlinewidth": 0,
             "ticks": ""
            },
            "colorscale": [
             [
              0,
              "#0d0887"
             ],
             [
              0.1111111111111111,
              "#46039f"
             ],
             [
              0.2222222222222222,
              "#7201a8"
             ],
             [
              0.3333333333333333,
              "#9c179e"
             ],
             [
              0.4444444444444444,
              "#bd3786"
             ],
             [
              0.5555555555555556,
              "#d8576b"
             ],
             [
              0.6666666666666666,
              "#ed7953"
             ],
             [
              0.7777777777777778,
              "#fb9f3a"
             ],
             [
              0.8888888888888888,
              "#fdca26"
             ],
             [
              1,
              "#f0f921"
             ]
            ],
            "type": "heatmap"
           }
          ],
          "heatmapgl": [
           {
            "colorbar": {
             "outlinewidth": 0,
             "ticks": ""
            },
            "colorscale": [
             [
              0,
              "#0d0887"
             ],
             [
              0.1111111111111111,
              "#46039f"
             ],
             [
              0.2222222222222222,
              "#7201a8"
             ],
             [
              0.3333333333333333,
              "#9c179e"
             ],
             [
              0.4444444444444444,
              "#bd3786"
             ],
             [
              0.5555555555555556,
              "#d8576b"
             ],
             [
              0.6666666666666666,
              "#ed7953"
             ],
             [
              0.7777777777777778,
              "#fb9f3a"
             ],
             [
              0.8888888888888888,
              "#fdca26"
             ],
             [
              1,
              "#f0f921"
             ]
            ],
            "type": "heatmapgl"
           }
          ],
          "histogram": [
           {
            "marker": {
             "pattern": {
              "fillmode": "overlay",
              "size": 10,
              "solidity": 0.2
             }
            },
            "type": "histogram"
           }
          ],
          "histogram2d": [
           {
            "colorbar": {
             "outlinewidth": 0,
             "ticks": ""
            },
            "colorscale": [
             [
              0,
              "#0d0887"
             ],
             [
              0.1111111111111111,
              "#46039f"
             ],
             [
              0.2222222222222222,
              "#7201a8"
             ],
             [
              0.3333333333333333,
              "#9c179e"
             ],
             [
              0.4444444444444444,
              "#bd3786"
             ],
             [
              0.5555555555555556,
              "#d8576b"
             ],
             [
              0.6666666666666666,
              "#ed7953"
             ],
             [
              0.7777777777777778,
              "#fb9f3a"
             ],
             [
              0.8888888888888888,
              "#fdca26"
             ],
             [
              1,
              "#f0f921"
             ]
            ],
            "type": "histogram2d"
           }
          ],
          "histogram2dcontour": [
           {
            "colorbar": {
             "outlinewidth": 0,
             "ticks": ""
            },
            "colorscale": [
             [
              0,
              "#0d0887"
             ],
             [
              0.1111111111111111,
              "#46039f"
             ],
             [
              0.2222222222222222,
              "#7201a8"
             ],
             [
              0.3333333333333333,
              "#9c179e"
             ],
             [
              0.4444444444444444,
              "#bd3786"
             ],
             [
              0.5555555555555556,
              "#d8576b"
             ],
             [
              0.6666666666666666,
              "#ed7953"
             ],
             [
              0.7777777777777778,
              "#fb9f3a"
             ],
             [
              0.8888888888888888,
              "#fdca26"
             ],
             [
              1,
              "#f0f921"
             ]
            ],
            "type": "histogram2dcontour"
           }
          ],
          "mesh3d": [
           {
            "colorbar": {
             "outlinewidth": 0,
             "ticks": ""
            },
            "type": "mesh3d"
           }
          ],
          "parcoords": [
           {
            "line": {
             "colorbar": {
              "outlinewidth": 0,
              "ticks": ""
             }
            },
            "type": "parcoords"
           }
          ],
          "pie": [
           {
            "automargin": true,
            "type": "pie"
           }
          ],
          "scatter": [
           {
            "marker": {
             "colorbar": {
              "outlinewidth": 0,
              "ticks": ""
             }
            },
            "type": "scatter"
           }
          ],
          "scatter3d": [
           {
            "line": {
             "colorbar": {
              "outlinewidth": 0,
              "ticks": ""
             }
            },
            "marker": {
             "colorbar": {
              "outlinewidth": 0,
              "ticks": ""
             }
            },
            "type": "scatter3d"
           }
          ],
          "scattercarpet": [
           {
            "marker": {
             "colorbar": {
              "outlinewidth": 0,
              "ticks": ""
             }
            },
            "type": "scattercarpet"
           }
          ],
          "scattergeo": [
           {
            "marker": {
             "colorbar": {
              "outlinewidth": 0,
              "ticks": ""
             }
            },
            "type": "scattergeo"
           }
          ],
          "scattergl": [
           {
            "marker": {
             "colorbar": {
              "outlinewidth": 0,
              "ticks": ""
             }
            },
            "type": "scattergl"
           }
          ],
          "scattermapbox": [
           {
            "marker": {
             "colorbar": {
              "outlinewidth": 0,
              "ticks": ""
             }
            },
            "type": "scattermapbox"
           }
          ],
          "scatterpolar": [
           {
            "marker": {
             "colorbar": {
              "outlinewidth": 0,
              "ticks": ""
             }
            },
            "type": "scatterpolar"
           }
          ],
          "scatterpolargl": [
           {
            "marker": {
             "colorbar": {
              "outlinewidth": 0,
              "ticks": ""
             }
            },
            "type": "scatterpolargl"
           }
          ],
          "scatterternary": [
           {
            "marker": {
             "colorbar": {
              "outlinewidth": 0,
              "ticks": ""
             }
            },
            "type": "scatterternary"
           }
          ],
          "surface": [
           {
            "colorbar": {
             "outlinewidth": 0,
             "ticks": ""
            },
            "colorscale": [
             [
              0,
              "#0d0887"
             ],
             [
              0.1111111111111111,
              "#46039f"
             ],
             [
              0.2222222222222222,
              "#7201a8"
             ],
             [
              0.3333333333333333,
              "#9c179e"
             ],
             [
              0.4444444444444444,
              "#bd3786"
             ],
             [
              0.5555555555555556,
              "#d8576b"
             ],
             [
              0.6666666666666666,
              "#ed7953"
             ],
             [
              0.7777777777777778,
              "#fb9f3a"
             ],
             [
              0.8888888888888888,
              "#fdca26"
             ],
             [
              1,
              "#f0f921"
             ]
            ],
            "type": "surface"
           }
          ],
          "table": [
           {
            "cells": {
             "fill": {
              "color": "#EBF0F8"
             },
             "line": {
              "color": "white"
             }
            },
            "header": {
             "fill": {
              "color": "#C8D4E3"
             },
             "line": {
              "color": "white"
             }
            },
            "type": "table"
           }
          ]
         },
         "layout": {
          "annotationdefaults": {
           "arrowcolor": "#2a3f5f",
           "arrowhead": 0,
           "arrowwidth": 1
          },
          "autotypenumbers": "strict",
          "coloraxis": {
           "colorbar": {
            "outlinewidth": 0,
            "ticks": ""
           }
          },
          "colorscale": {
           "diverging": [
            [
             0,
             "#8e0152"
            ],
            [
             0.1,
             "#c51b7d"
            ],
            [
             0.2,
             "#de77ae"
            ],
            [
             0.3,
             "#f1b6da"
            ],
            [
             0.4,
             "#fde0ef"
            ],
            [
             0.5,
             "#f7f7f7"
            ],
            [
             0.6,
             "#e6f5d0"
            ],
            [
             0.7,
             "#b8e186"
            ],
            [
             0.8,
             "#7fbc41"
            ],
            [
             0.9,
             "#4d9221"
            ],
            [
             1,
             "#276419"
            ]
           ],
           "sequential": [
            [
             0,
             "#0d0887"
            ],
            [
             0.1111111111111111,
             "#46039f"
            ],
            [
             0.2222222222222222,
             "#7201a8"
            ],
            [
             0.3333333333333333,
             "#9c179e"
            ],
            [
             0.4444444444444444,
             "#bd3786"
            ],
            [
             0.5555555555555556,
             "#d8576b"
            ],
            [
             0.6666666666666666,
             "#ed7953"
            ],
            [
             0.7777777777777778,
             "#fb9f3a"
            ],
            [
             0.8888888888888888,
             "#fdca26"
            ],
            [
             1,
             "#f0f921"
            ]
           ],
           "sequentialminus": [
            [
             0,
             "#0d0887"
            ],
            [
             0.1111111111111111,
             "#46039f"
            ],
            [
             0.2222222222222222,
             "#7201a8"
            ],
            [
             0.3333333333333333,
             "#9c179e"
            ],
            [
             0.4444444444444444,
             "#bd3786"
            ],
            [
             0.5555555555555556,
             "#d8576b"
            ],
            [
             0.6666666666666666,
             "#ed7953"
            ],
            [
             0.7777777777777778,
             "#fb9f3a"
            ],
            [
             0.8888888888888888,
             "#fdca26"
            ],
            [
             1,
             "#f0f921"
            ]
           ]
          },
          "colorway": [
           "#636efa",
           "#EF553B",
           "#00cc96",
           "#ab63fa",
           "#FFA15A",
           "#19d3f3",
           "#FF6692",
           "#B6E880",
           "#FF97FF",
           "#FECB52"
          ],
          "font": {
           "color": "#2a3f5f"
          },
          "geo": {
           "bgcolor": "white",
           "lakecolor": "white",
           "landcolor": "#E5ECF6",
           "showlakes": true,
           "showland": true,
           "subunitcolor": "white"
          },
          "hoverlabel": {
           "align": "left"
          },
          "hovermode": "closest",
          "mapbox": {
           "style": "light"
          },
          "paper_bgcolor": "white",
          "plot_bgcolor": "#E5ECF6",
          "polar": {
           "angularaxis": {
            "gridcolor": "white",
            "linecolor": "white",
            "ticks": ""
           },
           "bgcolor": "#E5ECF6",
           "radialaxis": {
            "gridcolor": "white",
            "linecolor": "white",
            "ticks": ""
           }
          },
          "scene": {
           "xaxis": {
            "backgroundcolor": "#E5ECF6",
            "gridcolor": "white",
            "gridwidth": 2,
            "linecolor": "white",
            "showbackground": true,
            "ticks": "",
            "zerolinecolor": "white"
           },
           "yaxis": {
            "backgroundcolor": "#E5ECF6",
            "gridcolor": "white",
            "gridwidth": 2,
            "linecolor": "white",
            "showbackground": true,
            "ticks": "",
            "zerolinecolor": "white"
           },
           "zaxis": {
            "backgroundcolor": "#E5ECF6",
            "gridcolor": "white",
            "gridwidth": 2,
            "linecolor": "white",
            "showbackground": true,
            "ticks": "",
            "zerolinecolor": "white"
           }
          },
          "shapedefaults": {
           "line": {
            "color": "#2a3f5f"
           }
          },
          "ternary": {
           "aaxis": {
            "gridcolor": "white",
            "linecolor": "white",
            "ticks": ""
           },
           "baxis": {
            "gridcolor": "white",
            "linecolor": "white",
            "ticks": ""
           },
           "bgcolor": "#E5ECF6",
           "caxis": {
            "gridcolor": "white",
            "linecolor": "white",
            "ticks": ""
           }
          },
          "title": {
           "x": 0.05
          },
          "xaxis": {
           "automargin": true,
           "gridcolor": "white",
           "linecolor": "white",
           "ticks": "",
           "title": {
            "standoff": 15
           },
           "zerolinecolor": "white",
           "zerolinewidth": 2
          },
          "yaxis": {
           "automargin": true,
           "gridcolor": "white",
           "linecolor": "white",
           "ticks": "",
           "title": {
            "standoff": 15
           },
           "zerolinecolor": "white",
           "zerolinewidth": 2
          }
         }
        },
        "xaxis": {
         "anchor": "y",
         "domain": [
          0,
          1
         ],
         "title": {
          "text": "Je vis"
         }
        },
        "yaxis": {
         "anchor": "x",
         "domain": [
          0,
          1
         ],
         "title": {
          "text": "count"
         }
        }
       }
      },
      "text/html": [
       "<div>                            <div id=\"9d7b7de6-6546-4f47-86bb-bca7662d37cb\" class=\"plotly-graph-div\" style=\"height:525px; width:100%;\"></div>            <script type=\"text/javascript\">                require([\"plotly\"], function(Plotly) {                    window.PLOTLYENV=window.PLOTLYENV || {};                                    if (document.getElementById(\"9d7b7de6-6546-4f47-86bb-bca7662d37cb\")) {                    Plotly.newPlot(                        \"9d7b7de6-6546-4f47-86bb-bca7662d37cb\",                        [{\"alignmentgroup\":\"True\",\"bingroup\":\"x\",\"hovertemplate\":\"Je vis=%{x}<br>count=%{y}<extra></extra>\",\"legendgroup\":\"\",\"marker\":{\"color\":\"#636efa\",\"pattern\":{\"shape\":\"\"}},\"name\":\"\",\"offsetgroup\":\"\",\"orientation\":\"v\",\"showlegend\":false,\"x\":[\"\\u00e0 Strasbourg\",\"\\u00e0 Strasbourg\",\"\\u00e0 Strasbourg\",\"aux alentours de Strasbourg\",\"aux alentours de Strasbourg\",\"\\u00e0 Strasbourg\",\"aux alentours de Strasbourg\",\"en France\",\"aux alentours de Strasbourg\",\"\\u00e0 Strasbourg\",\"aux alentours de Strasbourg\",\"\\u00e0 Strasbourg\",\"\\u00e0 Strasbourg\",\"\\u00e0 Strasbourg\",\"\\u00e0 Strasbourg\",\"\\u00e0 l'\\u00e9tranger\",\"\\u00e0 Strasbourg\",\"en France\",\"\\u00e0 Strasbourg\",\"\\u00e0 Strasbourg\",\"\\u00e0 Strasbourg\",\"\\u00e0 Strasbourg\",\"\\u00e0 Strasbourg\",\"\\u00e0 Strasbourg\",\"en France\",\"\\u00e0 Strasbourg\",\"\\u00e0 Strasbourg\",\"\\u00e0 Strasbourg\",\"en Alsace\",\"\\u00e0 Strasbourg\",\"en France\",\"en France\",\"en France\",\"\\u00e0 Strasbourg\",\"\\u00e0 Strasbourg\",\"\\u00e0 Strasbourg\",\"\\u00e0 Strasbourg\",\"\\u00e0 Strasbourg\",\"\\u00e0 Strasbourg\",\"\\u00e0 Strasbourg\",\"\\u00e0 Strasbourg\",\"\\u00e0 Strasbourg\",\"\\u00e0 Strasbourg\",\"\\u00e0 Strasbourg\",\"\\u00e0 Strasbourg\",\"en France\",\"\\u00e0 Strasbourg\",\"en France\",\"en France\",\"\\u00e0 l'\\u00e9tranger\",\"\\u00e0 Strasbourg\",\"en Alsace\",\"\\u00e0 Strasbourg\",\"aux alentours de Strasbourg\",\"\\u00e0 Strasbourg\",\"aux alentours de Strasbourg\",\"\\u00e0 Strasbourg\",\"en France\",\"\\u00e0 Strasbourg\",\"\\u00e0 Strasbourg\",\"en France\",\"\\u00e0 Strasbourg\",\"en France\",\"\\u00e0 Strasbourg\",\"\\u00e0 Strasbourg\",\"\\u00e0 Strasbourg\",\"en France\",\"\\u00e0 Strasbourg\",\"\\u00e0 Strasbourg\",\"en France\",\"\\u00e0 Strasbourg\",\"en France\",\"\\u00e0 Strasbourg\",\"\\u00e0 Strasbourg\",\"\\u00e0 Strasbourg\",\"\\u00e0 Strasbourg\",\"\\u00e0 Strasbourg\",\"aux alentours de Strasbourg\",\"\\u00e0 Strasbourg\",\"\\u00e0 Strasbourg\",\"\\u00e0 Strasbourg\",\"aux alentours de Strasbourg\",\"\\u00e0 Strasbourg\",\"aux alentours de Strasbourg\",\"\\u00e0 Strasbourg\",\"en France\",\"\\u00e0 Strasbourg\",\"en Alsace\",\"en France\",\"\\u00e0 Strasbourg\",\"en France\",\"\\u00e0 Strasbourg\",\"\\u00e0 Strasbourg\",\"\\u00e0 Strasbourg\",\"en France\",\"en France\",\"\\u00e0 Strasbourg\",\"aux alentours de Strasbourg\",\"\\u00e0 Strasbourg\",\"en France\",\"en France\",\"\\u00e0 Strasbourg\",\"\\u00e0 Strasbourg\",\"\\u00e0 Strasbourg\",\"en France\",\"en France\",\"\\u00e0 Strasbourg\",\"\\u00e0 Strasbourg\",\"\\u00e0 Strasbourg\",\"en France\",\"en Alsace\",\"en France\",\"en France\",\"\\u00e0 Strasbourg\",\"\\u00e0 Strasbourg\",\"\\u00e0 Strasbourg\",\"\\u00e0 Strasbourg\",\"en France\",\"\\u00e0 Strasbourg\",\"\\u00e0 Strasbourg\",\"\\u00e0 Strasbourg\",\"\\u00e0 Strasbourg\",\"\\u00e0 Strasbourg\",\"en France\",\"en France\",\"en France\",\"en France\",\"en France\",\"aux alentours de Strasbourg\",\"\\u00e0 Strasbourg\",\"\\u00e0 Strasbourg\",\"en France\",\"\\u00e0 Strasbourg\",\"\\u00e0 Strasbourg\",\"aux alentours de Strasbourg\",\"\\u00e0 Strasbourg\",\"\\u00e0 Strasbourg\",\"aux alentours de Strasbourg\",\"aux alentours de Strasbourg\"],\"xaxis\":\"x\",\"yaxis\":\"y\",\"type\":\"histogram\"}],                        {\"template\":{\"data\":{\"bar\":[{\"error_x\":{\"color\":\"#2a3f5f\"},\"error_y\":{\"color\":\"#2a3f5f\"},\"marker\":{\"line\":{\"color\":\"#E5ECF6\",\"width\":0.5},\"pattern\":{\"fillmode\":\"overlay\",\"size\":10,\"solidity\":0.2}},\"type\":\"bar\"}],\"barpolar\":[{\"marker\":{\"line\":{\"color\":\"#E5ECF6\",\"width\":0.5},\"pattern\":{\"fillmode\":\"overlay\",\"size\":10,\"solidity\":0.2}},\"type\":\"barpolar\"}],\"carpet\":[{\"aaxis\":{\"endlinecolor\":\"#2a3f5f\",\"gridcolor\":\"white\",\"linecolor\":\"white\",\"minorgridcolor\":\"white\",\"startlinecolor\":\"#2a3f5f\"},\"baxis\":{\"endlinecolor\":\"#2a3f5f\",\"gridcolor\":\"white\",\"linecolor\":\"white\",\"minorgridcolor\":\"white\",\"startlinecolor\":\"#2a3f5f\"},\"type\":\"carpet\"}],\"choropleth\":[{\"colorbar\":{\"outlinewidth\":0,\"ticks\":\"\"},\"type\":\"choropleth\"}],\"contour\":[{\"colorbar\":{\"outlinewidth\":0,\"ticks\":\"\"},\"colorscale\":[[0.0,\"#0d0887\"],[0.1111111111111111,\"#46039f\"],[0.2222222222222222,\"#7201a8\"],[0.3333333333333333,\"#9c179e\"],[0.4444444444444444,\"#bd3786\"],[0.5555555555555556,\"#d8576b\"],[0.6666666666666666,\"#ed7953\"],[0.7777777777777778,\"#fb9f3a\"],[0.8888888888888888,\"#fdca26\"],[1.0,\"#f0f921\"]],\"type\":\"contour\"}],\"contourcarpet\":[{\"colorbar\":{\"outlinewidth\":0,\"ticks\":\"\"},\"type\":\"contourcarpet\"}],\"heatmap\":[{\"colorbar\":{\"outlinewidth\":0,\"ticks\":\"\"},\"colorscale\":[[0.0,\"#0d0887\"],[0.1111111111111111,\"#46039f\"],[0.2222222222222222,\"#7201a8\"],[0.3333333333333333,\"#9c179e\"],[0.4444444444444444,\"#bd3786\"],[0.5555555555555556,\"#d8576b\"],[0.6666666666666666,\"#ed7953\"],[0.7777777777777778,\"#fb9f3a\"],[0.8888888888888888,\"#fdca26\"],[1.0,\"#f0f921\"]],\"type\":\"heatmap\"}],\"heatmapgl\":[{\"colorbar\":{\"outlinewidth\":0,\"ticks\":\"\"},\"colorscale\":[[0.0,\"#0d0887\"],[0.1111111111111111,\"#46039f\"],[0.2222222222222222,\"#7201a8\"],[0.3333333333333333,\"#9c179e\"],[0.4444444444444444,\"#bd3786\"],[0.5555555555555556,\"#d8576b\"],[0.6666666666666666,\"#ed7953\"],[0.7777777777777778,\"#fb9f3a\"],[0.8888888888888888,\"#fdca26\"],[1.0,\"#f0f921\"]],\"type\":\"heatmapgl\"}],\"histogram\":[{\"marker\":{\"pattern\":{\"fillmode\":\"overlay\",\"size\":10,\"solidity\":0.2}},\"type\":\"histogram\"}],\"histogram2d\":[{\"colorbar\":{\"outlinewidth\":0,\"ticks\":\"\"},\"colorscale\":[[0.0,\"#0d0887\"],[0.1111111111111111,\"#46039f\"],[0.2222222222222222,\"#7201a8\"],[0.3333333333333333,\"#9c179e\"],[0.4444444444444444,\"#bd3786\"],[0.5555555555555556,\"#d8576b\"],[0.6666666666666666,\"#ed7953\"],[0.7777777777777778,\"#fb9f3a\"],[0.8888888888888888,\"#fdca26\"],[1.0,\"#f0f921\"]],\"type\":\"histogram2d\"}],\"histogram2dcontour\":[{\"colorbar\":{\"outlinewidth\":0,\"ticks\":\"\"},\"colorscale\":[[0.0,\"#0d0887\"],[0.1111111111111111,\"#46039f\"],[0.2222222222222222,\"#7201a8\"],[0.3333333333333333,\"#9c179e\"],[0.4444444444444444,\"#bd3786\"],[0.5555555555555556,\"#d8576b\"],[0.6666666666666666,\"#ed7953\"],[0.7777777777777778,\"#fb9f3a\"],[0.8888888888888888,\"#fdca26\"],[1.0,\"#f0f921\"]],\"type\":\"histogram2dcontour\"}],\"mesh3d\":[{\"colorbar\":{\"outlinewidth\":0,\"ticks\":\"\"},\"type\":\"mesh3d\"}],\"parcoords\":[{\"line\":{\"colorbar\":{\"outlinewidth\":0,\"ticks\":\"\"}},\"type\":\"parcoords\"}],\"pie\":[{\"automargin\":true,\"type\":\"pie\"}],\"scatter\":[{\"marker\":{\"colorbar\":{\"outlinewidth\":0,\"ticks\":\"\"}},\"type\":\"scatter\"}],\"scatter3d\":[{\"line\":{\"colorbar\":{\"outlinewidth\":0,\"ticks\":\"\"}},\"marker\":{\"colorbar\":{\"outlinewidth\":0,\"ticks\":\"\"}},\"type\":\"scatter3d\"}],\"scattercarpet\":[{\"marker\":{\"colorbar\":{\"outlinewidth\":0,\"ticks\":\"\"}},\"type\":\"scattercarpet\"}],\"scattergeo\":[{\"marker\":{\"colorbar\":{\"outlinewidth\":0,\"ticks\":\"\"}},\"type\":\"scattergeo\"}],\"scattergl\":[{\"marker\":{\"colorbar\":{\"outlinewidth\":0,\"ticks\":\"\"}},\"type\":\"scattergl\"}],\"scattermapbox\":[{\"marker\":{\"colorbar\":{\"outlinewidth\":0,\"ticks\":\"\"}},\"type\":\"scattermapbox\"}],\"scatterpolar\":[{\"marker\":{\"colorbar\":{\"outlinewidth\":0,\"ticks\":\"\"}},\"type\":\"scatterpolar\"}],\"scatterpolargl\":[{\"marker\":{\"colorbar\":{\"outlinewidth\":0,\"ticks\":\"\"}},\"type\":\"scatterpolargl\"}],\"scatterternary\":[{\"marker\":{\"colorbar\":{\"outlinewidth\":0,\"ticks\":\"\"}},\"type\":\"scatterternary\"}],\"surface\":[{\"colorbar\":{\"outlinewidth\":0,\"ticks\":\"\"},\"colorscale\":[[0.0,\"#0d0887\"],[0.1111111111111111,\"#46039f\"],[0.2222222222222222,\"#7201a8\"],[0.3333333333333333,\"#9c179e\"],[0.4444444444444444,\"#bd3786\"],[0.5555555555555556,\"#d8576b\"],[0.6666666666666666,\"#ed7953\"],[0.7777777777777778,\"#fb9f3a\"],[0.8888888888888888,\"#fdca26\"],[1.0,\"#f0f921\"]],\"type\":\"surface\"}],\"table\":[{\"cells\":{\"fill\":{\"color\":\"#EBF0F8\"},\"line\":{\"color\":\"white\"}},\"header\":{\"fill\":{\"color\":\"#C8D4E3\"},\"line\":{\"color\":\"white\"}},\"type\":\"table\"}]},\"layout\":{\"annotationdefaults\":{\"arrowcolor\":\"#2a3f5f\",\"arrowhead\":0,\"arrowwidth\":1},\"autotypenumbers\":\"strict\",\"coloraxis\":{\"colorbar\":{\"outlinewidth\":0,\"ticks\":\"\"}},\"colorscale\":{\"diverging\":[[0,\"#8e0152\"],[0.1,\"#c51b7d\"],[0.2,\"#de77ae\"],[0.3,\"#f1b6da\"],[0.4,\"#fde0ef\"],[0.5,\"#f7f7f7\"],[0.6,\"#e6f5d0\"],[0.7,\"#b8e186\"],[0.8,\"#7fbc41\"],[0.9,\"#4d9221\"],[1,\"#276419\"]],\"sequential\":[[0.0,\"#0d0887\"],[0.1111111111111111,\"#46039f\"],[0.2222222222222222,\"#7201a8\"],[0.3333333333333333,\"#9c179e\"],[0.4444444444444444,\"#bd3786\"],[0.5555555555555556,\"#d8576b\"],[0.6666666666666666,\"#ed7953\"],[0.7777777777777778,\"#fb9f3a\"],[0.8888888888888888,\"#fdca26\"],[1.0,\"#f0f921\"]],\"sequentialminus\":[[0.0,\"#0d0887\"],[0.1111111111111111,\"#46039f\"],[0.2222222222222222,\"#7201a8\"],[0.3333333333333333,\"#9c179e\"],[0.4444444444444444,\"#bd3786\"],[0.5555555555555556,\"#d8576b\"],[0.6666666666666666,\"#ed7953\"],[0.7777777777777778,\"#fb9f3a\"],[0.8888888888888888,\"#fdca26\"],[1.0,\"#f0f921\"]]},\"colorway\":[\"#636efa\",\"#EF553B\",\"#00cc96\",\"#ab63fa\",\"#FFA15A\",\"#19d3f3\",\"#FF6692\",\"#B6E880\",\"#FF97FF\",\"#FECB52\"],\"font\":{\"color\":\"#2a3f5f\"},\"geo\":{\"bgcolor\":\"white\",\"lakecolor\":\"white\",\"landcolor\":\"#E5ECF6\",\"showlakes\":true,\"showland\":true,\"subunitcolor\":\"white\"},\"hoverlabel\":{\"align\":\"left\"},\"hovermode\":\"closest\",\"mapbox\":{\"style\":\"light\"},\"paper_bgcolor\":\"white\",\"plot_bgcolor\":\"#E5ECF6\",\"polar\":{\"angularaxis\":{\"gridcolor\":\"white\",\"linecolor\":\"white\",\"ticks\":\"\"},\"bgcolor\":\"#E5ECF6\",\"radialaxis\":{\"gridcolor\":\"white\",\"linecolor\":\"white\",\"ticks\":\"\"}},\"scene\":{\"xaxis\":{\"backgroundcolor\":\"#E5ECF6\",\"gridcolor\":\"white\",\"gridwidth\":2,\"linecolor\":\"white\",\"showbackground\":true,\"ticks\":\"\",\"zerolinecolor\":\"white\"},\"yaxis\":{\"backgroundcolor\":\"#E5ECF6\",\"gridcolor\":\"white\",\"gridwidth\":2,\"linecolor\":\"white\",\"showbackground\":true,\"ticks\":\"\",\"zerolinecolor\":\"white\"},\"zaxis\":{\"backgroundcolor\":\"#E5ECF6\",\"gridcolor\":\"white\",\"gridwidth\":2,\"linecolor\":\"white\",\"showbackground\":true,\"ticks\":\"\",\"zerolinecolor\":\"white\"}},\"shapedefaults\":{\"line\":{\"color\":\"#2a3f5f\"}},\"ternary\":{\"aaxis\":{\"gridcolor\":\"white\",\"linecolor\":\"white\",\"ticks\":\"\"},\"baxis\":{\"gridcolor\":\"white\",\"linecolor\":\"white\",\"ticks\":\"\"},\"bgcolor\":\"#E5ECF6\",\"caxis\":{\"gridcolor\":\"white\",\"linecolor\":\"white\",\"ticks\":\"\"}},\"title\":{\"x\":0.05},\"xaxis\":{\"automargin\":true,\"gridcolor\":\"white\",\"linecolor\":\"white\",\"ticks\":\"\",\"title\":{\"standoff\":15},\"zerolinecolor\":\"white\",\"zerolinewidth\":2},\"yaxis\":{\"automargin\":true,\"gridcolor\":\"white\",\"linecolor\":\"white\",\"ticks\":\"\",\"title\":{\"standoff\":15},\"zerolinecolor\":\"white\",\"zerolinewidth\":2}}},\"xaxis\":{\"anchor\":\"y\",\"domain\":[0.0,1.0],\"title\":{\"text\":\"Je vis\"}},\"yaxis\":{\"anchor\":\"x\",\"domain\":[0.0,1.0],\"title\":{\"text\":\"count\"}},\"legend\":{\"tracegroupgap\":0},\"margin\":{\"t\":60},\"barmode\":\"relative\"},                        {\"responsive\": true}                    ).then(function(){\n",
       "                            \n",
       "var gd = document.getElementById('9d7b7de6-6546-4f47-86bb-bca7662d37cb');\n",
       "var x = new MutationObserver(function (mutations, observer) {{\n",
       "        var display = window.getComputedStyle(gd).display;\n",
       "        if (!display || display === 'none') {{\n",
       "            console.log([gd, 'removed!']);\n",
       "            Plotly.purge(gd);\n",
       "            observer.disconnect();\n",
       "        }}\n",
       "}});\n",
       "\n",
       "// Listen for the removal of the full notebook cells\n",
       "var notebookContainer = gd.closest('#notebook-container');\n",
       "if (notebookContainer) {{\n",
       "    x.observe(notebookContainer, {childList: true});\n",
       "}}\n",
       "\n",
       "// Listen for the clearing of the current output cell\n",
       "var outputEl = gd.closest('.output');\n",
       "if (outputEl) {{\n",
       "    x.observe(outputEl, {childList: true});\n",
       "}}\n",
       "\n",
       "                        })                };                });            </script>        </div>"
      ]
     },
     "metadata": {},
     "output_type": "display_data"
    }
   ],
   "source": [
    "fig = px.histogram(df_clean_renamed, x=\"Je vis\")\n",
    "fig.show()\n",
    "\n",
    "#le sondage a refaire En france /en alsace /a Strasbourg c'est confus c'est du nimp\n",
    "#on va classifier d'une autre manière (pour que ca soit plus clair)"
   ]
  },
  {
   "cell_type": "code",
   "execution_count": 29,
   "id": "2052e5d5",
   "metadata": {},
   "outputs": [
    {
     "name": "stderr",
     "output_type": "stream",
     "text": [
      "  0%|                                                   | 0/139 [00:00<?, ?it/s]/var/folders/30/z0zpp57d7xx3_p2n7w7r0vrw0000gn/T/ipykernel_77976/1400069124.py:3: SettingWithCopyWarning: \n",
      "A value is trying to be set on a copy of a slice from a DataFrame\n",
      "\n",
      "See the caveats in the documentation: https://pandas.pydata.org/pandas-docs/stable/user_guide/indexing.html#returning-a-view-versus-a-copy\n",
      "  df_clean_renamed[\"Je vis\"][i] = \"Strasbourgeois\"\n",
      "/var/folders/30/z0zpp57d7xx3_p2n7w7r0vrw0000gn/T/ipykernel_77976/1400069124.py:5: SettingWithCopyWarning: \n",
      "A value is trying to be set on a copy of a slice from a DataFrame\n",
      "\n",
      "See the caveats in the documentation: https://pandas.pydata.org/pandas-docs/stable/user_guide/indexing.html#returning-a-view-versus-a-copy\n",
      "  df_clean_renamed[\"Je vis\"][i] = \"Strasbourgeois\"\n",
      "/var/folders/30/z0zpp57d7xx3_p2n7w7r0vrw0000gn/T/ipykernel_77976/1400069124.py:9: SettingWithCopyWarning: \n",
      "A value is trying to be set on a copy of a slice from a DataFrame\n",
      "\n",
      "See the caveats in the documentation: https://pandas.pydata.org/pandas-docs/stable/user_guide/indexing.html#returning-a-view-versus-a-copy\n",
      "  df_clean_renamed[\"Je vis\"][i] = \"Non Strasbourgeois\"\n",
      "/var/folders/30/z0zpp57d7xx3_p2n7w7r0vrw0000gn/T/ipykernel_77976/1400069124.py:11: SettingWithCopyWarning: \n",
      "A value is trying to be set on a copy of a slice from a DataFrame\n",
      "\n",
      "See the caveats in the documentation: https://pandas.pydata.org/pandas-docs/stable/user_guide/indexing.html#returning-a-view-versus-a-copy\n",
      "  df_clean_renamed[\"Je vis\"][i] = \"Non Strasbourgeois\"\n",
      "/var/folders/30/z0zpp57d7xx3_p2n7w7r0vrw0000gn/T/ipykernel_77976/1400069124.py:7: SettingWithCopyWarning: \n",
      "A value is trying to be set on a copy of a slice from a DataFrame\n",
      "\n",
      "See the caveats in the documentation: https://pandas.pydata.org/pandas-docs/stable/user_guide/indexing.html#returning-a-view-versus-a-copy\n",
      "  df_clean_renamed[\"Je vis\"][i] = \"Non Strasbourgeois\"\n",
      "100%|███████████████████████████████████████| 139/139 [00:00<00:00, 1618.28it/s]\n"
     ]
    }
   ],
   "source": [
    "for i in tqdm(range(len(df_clean_renamed[\"Je vis\"]))): \n",
    "    if df_clean_renamed[\"Je vis\"][i]== 'à Strasbourg':\n",
    "        df_clean_renamed[\"Je vis\"][i] = \"Strasbourgeois\"\n",
    "    elif df_clean_renamed[\"Je vis\"][i]== 'aux alentours de Strasbourg':\n",
    "        df_clean_renamed[\"Je vis\"][i] = \"Strasbourgeois\" \n",
    "    elif df_clean_renamed[\"Je vis\"][i]== 'en Alsace':\n",
    "        df_clean_renamed[\"Je vis\"][i] = \"Non Strasbourgeois\" \n",
    "    elif df_clean_renamed[\"Je vis\"][i]== 'en France':\n",
    "        df_clean_renamed[\"Je vis\"][i] = \"Non Strasbourgeois\" \n",
    "    elif df_clean_renamed[\"Je vis\"][i]== \"à l'étranger\":\n",
    "        df_clean_renamed[\"Je vis\"][i] = \"Non Strasbourgeois\"\n",
    "    else : df_clean_renamed[\"Je vis\"][i] = 0"
   ]
  },
  {
   "cell_type": "code",
   "execution_count": 183,
   "id": "24e9dfbb",
   "metadata": {},
   "outputs": [
    {
     "data": {
      "text/plain": [
       "Strasbourgeois        99\n",
       "Non Strasbourgeois    40\n",
       "Name: Je vis, dtype: int64"
      ]
     },
     "execution_count": 183,
     "metadata": {},
     "output_type": "execute_result"
    }
   ],
   "source": [
    "df_clean_renamed[\"Je vis\"].value_counts()\n",
    "#Les strasbourgeois, les francais et les etrangers"
   ]
  },
  {
   "cell_type": "code",
   "execution_count": 186,
   "id": "d36f51e3",
   "metadata": {},
   "outputs": [
    {
     "name": "stderr",
     "output_type": "stream",
     "text": [
      "/var/folders/30/z0zpp57d7xx3_p2n7w7r0vrw0000gn/T/ipykernel_70658/1073680091.py:10: UserWarning:\n",
      "\n",
      "Matplotlib is currently using module://matplotlib_inline.backend_inline, which is a non-GUI backend, so cannot show the figure.\n",
      "\n"
     ]
    },
    {
     "data": {
      "text/plain": [
       "<Figure size 432x288 with 0 Axes>"
      ]
     },
     "metadata": {},
     "output_type": "display_data"
    },
    {
     "data": {
      "image/png": "[encoded data removed]",
      "text/plain": [
       "<Figure size 720x720 with 1 Axes>"
      ]
     },
     "metadata": {},
     "output_type": "display_data"
    }
   ],
   "source": [
    "p = plt.figure(2)\n",
    "slices2 = [99,40]\n",
    "labels2 = [\"Strasbourgeois\",\"Non Strasbougeois\"]\n",
    "colors2 = [\"#803FBD\",\"#A3E4D7\"]\n",
    "explode2 = [0,0]\n",
    "plt.figure(figsize=(10,10))\n",
    "plt.pie(x=slices2,labels=labels2,colors=colors2,explode=explode2, wedgeprops={'edgecolor':'black'},shadow=True,\n",
    "       startangle=90,autopct=\"%1.1f%%\")\n",
    "plt.title(\"Provenance des participants\")\n",
    "p.show()"
   ]
  },
  {
   "cell_type": "code",
   "execution_count": 30,
   "id": "c111b6ee",
   "metadata": {},
   "outputs": [],
   "source": [
    "df_clean_renamed[\"CATEGORIE_PRO\"]=df_clean_renamed[\"AGE\"]"
   ]
  },
  {
   "cell_type": "code",
   "execution_count": 27,
   "id": "3a59201a",
   "metadata": {},
   "outputs": [],
   "source": [
    "df_clean_renamed[\"CATEGORIE_PRO\"]=df_clean_renamed[\"CATEGORIE_PRO\"].astype(object)"
   ]
  },
  {
   "cell_type": "code",
   "execution_count": 31,
   "id": "9dd0dacb",
   "metadata": {},
   "outputs": [
    {
     "name": "stderr",
     "output_type": "stream",
     "text": [
      "  0%|                                                   | 0/139 [00:00<?, ?it/s]/var/folders/30/z0zpp57d7xx3_p2n7w7r0vrw0000gn/T/ipykernel_77976/4162045641.py:7: SettingWithCopyWarning: \n",
      "A value is trying to be set on a copy of a slice from a DataFrame\n",
      "\n",
      "See the caveats in the documentation: https://pandas.pydata.org/pandas-docs/stable/user_guide/indexing.html#returning-a-view-versus-a-copy\n",
      "  df_clean_renamed[\"CATEGORIE_PRO\"][i] = \"26 ans et plus /Pro\"\n",
      "/var/folders/30/z0zpp57d7xx3_p2n7w7r0vrw0000gn/T/ipykernel_77976/4162045641.py:5: SettingWithCopyWarning: \n",
      "A value is trying to be set on a copy of a slice from a DataFrame\n",
      "\n",
      "See the caveats in the documentation: https://pandas.pydata.org/pandas-docs/stable/user_guide/indexing.html#returning-a-view-versus-a-copy\n",
      "  df_clean_renamed[\"CATEGORIE_PRO\"][i] = \"15-25 ans/étudiant\"\n",
      "/var/folders/30/z0zpp57d7xx3_p2n7w7r0vrw0000gn/T/ipykernel_77976/4162045641.py:13: SettingWithCopyWarning: \n",
      "A value is trying to be set on a copy of a slice from a DataFrame\n",
      "\n",
      "See the caveats in the documentation: https://pandas.pydata.org/pandas-docs/stable/user_guide/indexing.html#returning-a-view-versus-a-copy\n",
      "  df_clean_renamed[\"CATEGORIE_PRO\"][i] = \"26 ans et plus /Pro\"\n",
      "/var/folders/30/z0zpp57d7xx3_p2n7w7r0vrw0000gn/T/ipykernel_77976/4162045641.py:3: SettingWithCopyWarning: \n",
      "A value is trying to be set on a copy of a slice from a DataFrame\n",
      "\n",
      "See the caveats in the documentation: https://pandas.pydata.org/pandas-docs/stable/user_guide/indexing.html#returning-a-view-versus-a-copy\n",
      "  df_clean_renamed[\"CATEGORIE_PRO\"][i] = \"15-25 ans/étudiant\"\n",
      "/var/folders/30/z0zpp57d7xx3_p2n7w7r0vrw0000gn/T/ipykernel_77976/4162045641.py:15: SettingWithCopyWarning: \n",
      "A value is trying to be set on a copy of a slice from a DataFrame\n",
      "\n",
      "See the caveats in the documentation: https://pandas.pydata.org/pandas-docs/stable/user_guide/indexing.html#returning-a-view-versus-a-copy\n",
      "  df_clean_renamed[\"CATEGORIE_PRO\"][i] = \"26 ans et plus /Pro\"\n",
      "/var/folders/30/z0zpp57d7xx3_p2n7w7r0vrw0000gn/T/ipykernel_77976/4162045641.py:9: SettingWithCopyWarning: \n",
      "A value is trying to be set on a copy of a slice from a DataFrame\n",
      "\n",
      "See the caveats in the documentation: https://pandas.pydata.org/pandas-docs/stable/user_guide/indexing.html#returning-a-view-versus-a-copy\n",
      "  df_clean_renamed[\"CATEGORIE_PRO\"][i] = \"26 ans et plus /Pro\"\n",
      "/var/folders/30/z0zpp57d7xx3_p2n7w7r0vrw0000gn/T/ipykernel_77976/4162045641.py:11: SettingWithCopyWarning: \n",
      "A value is trying to be set on a copy of a slice from a DataFrame\n",
      "\n",
      "See the caveats in the documentation: https://pandas.pydata.org/pandas-docs/stable/user_guide/indexing.html#returning-a-view-versus-a-copy\n",
      "  df_clean_renamed[\"CATEGORIE_PRO\"][i] = \"26 ans et plus /Pro\"\n",
      "/var/folders/30/z0zpp57d7xx3_p2n7w7r0vrw0000gn/T/ipykernel_77976/4162045641.py:17: SettingWithCopyWarning: \n",
      "A value is trying to be set on a copy of a slice from a DataFrame\n",
      "\n",
      "See the caveats in the documentation: https://pandas.pydata.org/pandas-docs/stable/user_guide/indexing.html#returning-a-view-versus-a-copy\n",
      "  df_clean_renamed[\"CATEGORIE_PRO\"][i] = \"26 ans et plus /Pro\"\n",
      "100%|███████████████████████████████████████| 139/139 [00:00<00:00, 2209.68it/s]\n"
     ]
    }
   ],
   "source": [
    "for i in tqdm(range(len(df_clean_renamed[\"CATEGORIE_PRO\"]))): \n",
    "    if df_clean_renamed[\"CATEGORIE_PRO\"][i]== '15-20 ans':\n",
    "             df_clean_renamed[\"CATEGORIE_PRO\"][i] = \"15-25 ans/étudiant\"\n",
    "    elif df_clean_renamed[\"CATEGORIE_PRO\"][i] =='21-25 ans':\n",
    "             df_clean_renamed[\"CATEGORIE_PRO\"][i] = \"15-25 ans/étudiant\" \n",
    "    elif df_clean_renamed[\"CATEGORIE_PRO\"][i] =='26-30 ans':\n",
    "             df_clean_renamed[\"CATEGORIE_PRO\"][i] = \"26 ans et plus /Pro\" \n",
    "    elif df_clean_renamed[\"CATEGORIE_PRO\"][i] =='31-35 ans':\n",
    "             df_clean_renamed[\"CATEGORIE_PRO\"][i] = \"26 ans et plus /Pro\"  \n",
    "    elif df_clean_renamed[\"CATEGORIE_PRO\"][i] =='36-40 ans':\n",
    "             df_clean_renamed[\"CATEGORIE_PRO\"][i] = \"26 ans et plus /Pro\" \n",
    "    elif df_clean_renamed[\"CATEGORIE_PRO\"][i] =='41-45 ans':\n",
    "             df_clean_renamed[\"CATEGORIE_PRO\"][i] = \"26 ans et plus /Pro\" \n",
    "    elif df_clean_renamed[\"CATEGORIE_PRO\"][i] =='46-50 ans':\n",
    "             df_clean_renamed[\"CATEGORIE_PRO\"][i] = \"26 ans et plus /Pro\" \n",
    "    elif df_clean_renamed[\"CATEGORIE_PRO\"][i] =='51-55 ans':\n",
    "             df_clean_renamed[\"CATEGORIE_PRO\"][i] = \"26 ans et plus /Pro\" \n",
    "    elif df_clean_renamed[\"CATEGORIE_PRO\"][i] =='55 ans et plus':\n",
    "             df_clean_renamed[\"CATEGORIE_PRO\"][i] = \"26 ans et plus /Pro\"\n",
    "    else : df_clean_renamed[\"CATEGORIE_PRO\"][i] = 0\n",
    "        \n",
    "#classification étant donnée que leur variable ACTIVITE est presque nulle voir NA analyse"
   ]
  },
  {
   "cell_type": "code",
   "execution_count": 29,
   "id": "a176e1c1",
   "metadata": {},
   "outputs": [
    {
     "data": {
      "text/plain": [
       "26 ans et plus /Pro    92\n",
       "15-25 ans/étudiant     47\n",
       "Name: CATEGORIE_PRO, dtype: int64"
      ]
     },
     "execution_count": 29,
     "metadata": {},
     "output_type": "execute_result"
    }
   ],
   "source": [
    "df_clean_renamed[\"CATEGORIE_PRO\"].value_counts()"
   ]
  },
  {
   "cell_type": "code",
   "execution_count": 199,
   "id": "f8b367a0",
   "metadata": {},
   "outputs": [
    {
     "data": {
      "text/plain": [
       "Strasbourgeois        99\n",
       "Non Strasbourgeois    40\n",
       "Name: Je vis, dtype: int64"
      ]
     },
     "execution_count": 199,
     "metadata": {},
     "output_type": "execute_result"
    }
   ],
   "source": [
    "df_clean_renamed[\"Je vis\"].value_counts()"
   ]
  },
  {
   "cell_type": "code",
   "execution_count": 30,
   "id": "edac6801",
   "metadata": {},
   "outputs": [
    {
     "data": {
      "application/vnd.plotly.v1+json": {
       "config": {
        "plotlyServerURL": "https://plot.ly"
       },
       "data": [
        {
         "alignmentgroup": "True",
         "bingroup": "x",
         "hovertemplate": "CATEGORIE_PRO=26 ans et plus /Pro<br>Provenance=%{x}<br>count=%{y}<extra></extra>",
         "legendgroup": "26 ans et plus /Pro",
         "marker": {
          "color": "#26C998",
          "pattern": {
           "shape": ""
          }
         },
         "name": "26 ans et plus /Pro",
         "offsetgroup": "26 ans et plus /Pro",
         "orientation": "v",
         "showlegend": true,
         "type": "histogram",
         "x": [
          "Strasbourgeois",
          "Strasbourgeois",
          "Strasbourgeois",
          "Strasbourgeois",
          "Non Strasbourgeois",
          "Strasbourgeois",
          "Strasbourgeois",
          "Strasbourgeois",
          "Strasbourgeois",
          "Non Strasbourgeois",
          "Strasbourgeois",
          "Non Strasbourgeois",
          "Strasbourgeois",
          "Strasbourgeois",
          "Strasbourgeois",
          "Strasbourgeois",
          "Strasbourgeois",
          "Non Strasbourgeois",
          "Strasbourgeois",
          "Non Strasbourgeois",
          "Non Strasbourgeois",
          "Non Strasbourgeois",
          "Non Strasbourgeois",
          "Strasbourgeois",
          "Strasbourgeois",
          "Strasbourgeois",
          "Strasbourgeois",
          "Strasbourgeois",
          "Non Strasbourgeois",
          "Non Strasbourgeois",
          "Strasbourgeois",
          "Strasbourgeois",
          "Strasbourgeois",
          "Strasbourgeois",
          "Strasbourgeois",
          "Non Strasbourgeois",
          "Strasbourgeois",
          "Non Strasbourgeois",
          "Non Strasbourgeois",
          "Strasbourgeois",
          "Non Strasbourgeois",
          "Strasbourgeois",
          "Non Strasbourgeois",
          "Strasbourgeois",
          "Strasbourgeois",
          "Strasbourgeois",
          "Strasbourgeois",
          "Strasbourgeois",
          "Strasbourgeois",
          "Strasbourgeois",
          "Non Strasbourgeois",
          "Strasbourgeois",
          "Non Strasbourgeois",
          "Strasbourgeois",
          "Strasbourgeois",
          "Non Strasbourgeois",
          "Non Strasbourgeois",
          "Strasbourgeois",
          "Non Strasbourgeois",
          "Non Strasbourgeois",
          "Strasbourgeois",
          "Strasbourgeois",
          "Strasbourgeois",
          "Non Strasbourgeois",
          "Non Strasbourgeois",
          "Strasbourgeois",
          "Strasbourgeois",
          "Strasbourgeois",
          "Non Strasbourgeois",
          "Non Strasbourgeois",
          "Non Strasbourgeois",
          "Non Strasbourgeois",
          "Strasbourgeois",
          "Strasbourgeois",
          "Non Strasbourgeois",
          "Strasbourgeois",
          "Non Strasbourgeois",
          "Non Strasbourgeois",
          "Non Strasbourgeois",
          "Non Strasbourgeois",
          "Non Strasbourgeois",
          "Strasbourgeois",
          "Strasbourgeois",
          "Strasbourgeois",
          "Non Strasbourgeois",
          "Strasbourgeois",
          "Strasbourgeois",
          "Strasbourgeois",
          "Strasbourgeois",
          "Strasbourgeois",
          "Strasbourgeois",
          "Strasbourgeois"
         ],
         "xaxis": "x",
         "yaxis": "y"
        },
        {
         "alignmentgroup": "True",
         "bingroup": "x",
         "hovertemplate": "CATEGORIE_PRO=15-25 ans/étudiant<br>Provenance=%{x}<br>count=%{y}<extra></extra>",
         "legendgroup": "15-25 ans/étudiant",
         "marker": {
          "color": "#D3ED15",
          "pattern": {
           "shape": ""
          }
         },
         "name": "15-25 ans/étudiant",
         "offsetgroup": "15-25 ans/étudiant",
         "orientation": "v",
         "showlegend": true,
         "type": "histogram",
         "x": [
          "Strasbourgeois",
          "Strasbourgeois",
          "Strasbourgeois",
          "Strasbourgeois",
          "Strasbourgeois",
          "Strasbourgeois",
          "Strasbourgeois",
          "Strasbourgeois",
          "Strasbourgeois",
          "Strasbourgeois",
          "Strasbourgeois",
          "Strasbourgeois",
          "Strasbourgeois",
          "Strasbourgeois",
          "Strasbourgeois",
          "Strasbourgeois",
          "Strasbourgeois",
          "Strasbourgeois",
          "Non Strasbourgeois",
          "Non Strasbourgeois",
          "Strasbourgeois",
          "Non Strasbourgeois",
          "Strasbourgeois",
          "Strasbourgeois",
          "Strasbourgeois",
          "Strasbourgeois",
          "Strasbourgeois",
          "Non Strasbourgeois",
          "Strasbourgeois",
          "Strasbourgeois",
          "Strasbourgeois",
          "Strasbourgeois",
          "Strasbourgeois",
          "Strasbourgeois",
          "Strasbourgeois",
          "Non Strasbourgeois",
          "Non Strasbourgeois",
          "Strasbourgeois",
          "Strasbourgeois",
          "Strasbourgeois",
          "Strasbourgeois",
          "Strasbourgeois",
          "Strasbourgeois",
          "Strasbourgeois",
          "Strasbourgeois",
          "Strasbourgeois",
          "Strasbourgeois"
         ],
         "xaxis": "x",
         "yaxis": "y"
        }
       ],
       "layout": {
        "annotations": [
         {
          "arrowhead": 2,
          "showarrow": false,
          "text": "étudiant",
          "x": "Strasbourgeois",
          "y": 79
         },
         {
          "arrowhead": 2,
          "showarrow": false,
          "text": "Professionnel",
          "x": "Francais non Strasbourgeois",
          "y": 22
         },
         {
          "arrowhead": 2,
          "showarrow": false,
          "text": "Professionnel",
          "x": "Strasbourgeois",
          "y": 29
         },
         {
          "arrowhead": 2,
          "showarrow": false,
          "text": "étudiant",
          "x": "Francais non Strasbourgeois",
          "y": 37
         }
        ],
        "barmode": "relative",
        "font": {
         "family": "Rockwell"
        },
        "height": 600,
        "legend": {
         "orientation": "h",
         "title": {},
         "tracegroupgap": 0,
         "x": 0.5,
         "xanchor": "center",
         "y": 1,
         "yanchor": "bottom"
        },
        "template": {
         "data": {
          "bar": [
           {
            "error_x": {
             "color": "rgb(36,36,36)"
            },
            "error_y": {
             "color": "rgb(36,36,36)"
            },
            "marker": {
             "line": {
              "color": "white",
              "width": 0.5
             },
             "pattern": {
              "fillmode": "overlay",
              "size": 10,
              "solidity": 0.2
             }
            },
            "type": "bar"
           }
          ],
          "barpolar": [
           {
            "marker": {
             "line": {
              "color": "white",
              "width": 0.5
             },
             "pattern": {
              "fillmode": "overlay",
              "size": 10,
              "solidity": 0.2
             }
            },
            "type": "barpolar"
           }
          ],
          "carpet": [
           {
            "aaxis": {
             "endlinecolor": "rgb(36,36,36)",
             "gridcolor": "white",
             "linecolor": "white",
             "minorgridcolor": "white",
             "startlinecolor": "rgb(36,36,36)"
            },
            "baxis": {
             "endlinecolor": "rgb(36,36,36)",
             "gridcolor": "white",
             "linecolor": "white",
             "minorgridcolor": "white",
             "startlinecolor": "rgb(36,36,36)"
            },
            "type": "carpet"
           }
          ],
          "choropleth": [
           {
            "colorbar": {
             "outlinewidth": 1,
             "tickcolor": "rgb(36,36,36)",
             "ticks": "outside"
            },
            "type": "choropleth"
           }
          ],
          "contour": [
           {
            "colorbar": {
             "outlinewidth": 1,
             "tickcolor": "rgb(36,36,36)",
             "ticks": "outside"
            },
            "colorscale": [
             [
              0,
              "#440154"
             ],
             [
              0.1111111111111111,
              "#482878"
             ],
             [
              0.2222222222222222,
              "#3e4989"
             ],
             [
              0.3333333333333333,
              "#31688e"
             ],
             [
              0.4444444444444444,
              "#26828e"
             ],
             [
              0.5555555555555556,
              "#1f9e89"
             ],
             [
              0.6666666666666666,
              "#35b779"
             ],
             [
              0.7777777777777778,
              "#6ece58"
             ],
             [
              0.8888888888888888,
              "#b5de2b"
             ],
             [
              1,
              "#fde725"
             ]
            ],
            "type": "contour"
           }
          ],
          "contourcarpet": [
           {
            "colorbar": {
             "outlinewidth": 1,
             "tickcolor": "rgb(36,36,36)",
             "ticks": "outside"
            },
            "type": "contourcarpet"
           }
          ],
          "heatmap": [
           {
            "colorbar": {
             "outlinewidth": 1,
             "tickcolor": "rgb(36,36,36)",
             "ticks": "outside"
            },
            "colorscale": [
             [
              0,
              "#440154"
             ],
             [
              0.1111111111111111,
              "#482878"
             ],
             [
              0.2222222222222222,
              "#3e4989"
             ],
             [
              0.3333333333333333,
              "#31688e"
             ],
             [
              0.4444444444444444,
              "#26828e"
             ],
             [
              0.5555555555555556,
              "#1f9e89"
             ],
             [
              0.6666666666666666,
              "#35b779"
             ],
             [
              0.7777777777777778,
              "#6ece58"
             ],
             [
              0.8888888888888888,
              "#b5de2b"
             ],
             [
              1,
              "#fde725"
             ]
            ],
            "type": "heatmap"
           }
          ],
          "heatmapgl": [
           {
            "colorbar": {
             "outlinewidth": 1,
             "tickcolor": "rgb(36,36,36)",
             "ticks": "outside"
            },
            "colorscale": [
             [
              0,
              "#440154"
             ],
             [
              0.1111111111111111,
              "#482878"
             ],
             [
              0.2222222222222222,
              "#3e4989"
             ],
             [
              0.3333333333333333,
              "#31688e"
             ],
             [
              0.4444444444444444,
              "#26828e"
             ],
             [
              0.5555555555555556,
              "#1f9e89"
             ],
             [
              0.6666666666666666,
              "#35b779"
             ],
             [
              0.7777777777777778,
              "#6ece58"
             ],
             [
              0.8888888888888888,
              "#b5de2b"
             ],
             [
              1,
              "#fde725"
             ]
            ],
            "type": "heatmapgl"
           }
          ],
          "histogram": [
           {
            "marker": {
             "line": {
              "color": "white",
              "width": 0.6
             }
            },
            "type": "histogram"
           }
          ],
          "histogram2d": [
           {
            "colorbar": {
             "outlinewidth": 1,
             "tickcolor": "rgb(36,36,36)",
             "ticks": "outside"
            },
            "colorscale": [
             [
              0,
              "#440154"
             ],
             [
              0.1111111111111111,
              "#482878"
             ],
             [
              0.2222222222222222,
              "#3e4989"
             ],
             [
              0.3333333333333333,
              "#31688e"
             ],
             [
              0.4444444444444444,
              "#26828e"
             ],
             [
              0.5555555555555556,
              "#1f9e89"
             ],
             [
              0.6666666666666666,
              "#35b779"
             ],
             [
              0.7777777777777778,
              "#6ece58"
             ],
             [
              0.8888888888888888,
              "#b5de2b"
             ],
             [
              1,
              "#fde725"
             ]
            ],
            "type": "histogram2d"
           }
          ],
          "histogram2dcontour": [
           {
            "colorbar": {
             "outlinewidth": 1,
             "tickcolor": "rgb(36,36,36)",
             "ticks": "outside"
            },
            "colorscale": [
             [
              0,
              "#440154"
             ],
             [
              0.1111111111111111,
              "#482878"
             ],
             [
              0.2222222222222222,
              "#3e4989"
             ],
             [
              0.3333333333333333,
              "#31688e"
             ],
             [
              0.4444444444444444,
              "#26828e"
             ],
             [
              0.5555555555555556,
              "#1f9e89"
             ],
             [
              0.6666666666666666,
              "#35b779"
             ],
             [
              0.7777777777777778,
              "#6ece58"
             ],
             [
              0.8888888888888888,
              "#b5de2b"
             ],
             [
              1,
              "#fde725"
             ]
            ],
            "type": "histogram2dcontour"
           }
          ],
          "mesh3d": [
           {
            "colorbar": {
             "outlinewidth": 1,
             "tickcolor": "rgb(36,36,36)",
             "ticks": "outside"
            },
            "type": "mesh3d"
           }
          ],
          "parcoords": [
           {
            "line": {
             "colorbar": {
              "outlinewidth": 1,
              "tickcolor": "rgb(36,36,36)",
              "ticks": "outside"
             }
            },
            "type": "parcoords"
           }
          ],
          "pie": [
           {
            "automargin": true,
            "type": "pie"
           }
          ],
          "scatter": [
           {
            "marker": {
             "colorbar": {
              "outlinewidth": 1,
              "tickcolor": "rgb(36,36,36)",
              "ticks": "outside"
             }
            },
            "type": "scatter"
           }
          ],
          "scatter3d": [
           {
            "line": {
             "colorbar": {
              "outlinewidth": 1,
              "tickcolor": "rgb(36,36,36)",
              "ticks": "outside"
             }
            },
            "marker": {
             "colorbar": {
              "outlinewidth": 1,
              "tickcolor": "rgb(36,36,36)",
              "ticks": "outside"
             }
            },
            "type": "scatter3d"
           }
          ],
          "scattercarpet": [
           {
            "marker": {
             "colorbar": {
              "outlinewidth": 1,
              "tickcolor": "rgb(36,36,36)",
              "ticks": "outside"
             }
            },
            "type": "scattercarpet"
           }
          ],
          "scattergeo": [
           {
            "marker": {
             "colorbar": {
              "outlinewidth": 1,
              "tickcolor": "rgb(36,36,36)",
              "ticks": "outside"
             }
            },
            "type": "scattergeo"
           }
          ],
          "scattergl": [
           {
            "marker": {
             "colorbar": {
              "outlinewidth": 1,
              "tickcolor": "rgb(36,36,36)",
              "ticks": "outside"
             }
            },
            "type": "scattergl"
           }
          ],
          "scattermapbox": [
           {
            "marker": {
             "colorbar": {
              "outlinewidth": 1,
              "tickcolor": "rgb(36,36,36)",
              "ticks": "outside"
             }
            },
            "type": "scattermapbox"
           }
          ],
          "scatterpolar": [
           {
            "marker": {
             "colorbar": {
              "outlinewidth": 1,
              "tickcolor": "rgb(36,36,36)",
              "ticks": "outside"
             }
            },
            "type": "scatterpolar"
           }
          ],
          "scatterpolargl": [
           {
            "marker": {
             "colorbar": {
              "outlinewidth": 1,
              "tickcolor": "rgb(36,36,36)",
              "ticks": "outside"
             }
            },
            "type": "scatterpolargl"
           }
          ],
          "scatterternary": [
           {
            "marker": {
             "colorbar": {
              "outlinewidth": 1,
              "tickcolor": "rgb(36,36,36)",
              "ticks": "outside"
             }
            },
            "type": "scatterternary"
           }
          ],
          "surface": [
           {
            "colorbar": {
             "outlinewidth": 1,
             "tickcolor": "rgb(36,36,36)",
             "ticks": "outside"
            },
            "colorscale": [
             [
              0,
              "#440154"
             ],
             [
              0.1111111111111111,
              "#482878"
             ],
             [
              0.2222222222222222,
              "#3e4989"
             ],
             [
              0.3333333333333333,
              "#31688e"
             ],
             [
              0.4444444444444444,
              "#26828e"
             ],
             [
              0.5555555555555556,
              "#1f9e89"
             ],
             [
              0.6666666666666666,
              "#35b779"
             ],
             [
              0.7777777777777778,
              "#6ece58"
             ],
             [
              0.8888888888888888,
              "#b5de2b"
             ],
             [
              1,
              "#fde725"
             ]
            ],
            "type": "surface"
           }
          ],
          "table": [
           {
            "cells": {
             "fill": {
              "color": "rgb(237,237,237)"
             },
             "line": {
              "color": "white"
             }
            },
            "header": {
             "fill": {
              "color": "rgb(217,217,217)"
             },
             "line": {
              "color": "white"
             }
            },
            "type": "table"
           }
          ]
         },
         "layout": {
          "annotationdefaults": {
           "arrowhead": 0,
           "arrowwidth": 1
          },
          "autotypenumbers": "strict",
          "coloraxis": {
           "colorbar": {
            "outlinewidth": 1,
            "tickcolor": "rgb(36,36,36)",
            "ticks": "outside"
           }
          },
          "colorscale": {
           "diverging": [
            [
             0,
             "rgb(103,0,31)"
            ],
            [
             0.1,
             "rgb(178,24,43)"
            ],
            [
             0.2,
             "rgb(214,96,77)"
            ],
            [
             0.3,
             "rgb(244,165,130)"
            ],
            [
             0.4,
             "rgb(253,219,199)"
            ],
            [
             0.5,
             "rgb(247,247,247)"
            ],
            [
             0.6,
             "rgb(209,229,240)"
            ],
            [
             0.7,
             "rgb(146,197,222)"
            ],
            [
             0.8,
             "rgb(67,147,195)"
            ],
            [
             0.9,
             "rgb(33,102,172)"
            ],
            [
             1,
             "rgb(5,48,97)"
            ]
           ],
           "sequential": [
            [
             0,
             "#440154"
            ],
            [
             0.1111111111111111,
             "#482878"
            ],
            [
             0.2222222222222222,
             "#3e4989"
            ],
            [
             0.3333333333333333,
             "#31688e"
            ],
            [
             0.4444444444444444,
             "#26828e"
            ],
            [
             0.5555555555555556,
             "#1f9e89"
            ],
            [
             0.6666666666666666,
             "#35b779"
            ],
            [
             0.7777777777777778,
             "#6ece58"
            ],
            [
             0.8888888888888888,
             "#b5de2b"
            ],
            [
             1,
             "#fde725"
            ]
           ],
           "sequentialminus": [
            [
             0,
             "#440154"
            ],
            [
             0.1111111111111111,
             "#482878"
            ],
            [
             0.2222222222222222,
             "#3e4989"
            ],
            [
             0.3333333333333333,
             "#31688e"
            ],
            [
             0.4444444444444444,
             "#26828e"
            ],
            [
             0.5555555555555556,
             "#1f9e89"
            ],
            [
             0.6666666666666666,
             "#35b779"
            ],
            [
             0.7777777777777778,
             "#6ece58"
            ],
            [
             0.8888888888888888,
             "#b5de2b"
            ],
            [
             1,
             "#fde725"
            ]
           ]
          },
          "colorway": [
           "#1F77B4",
           "#FF7F0E",
           "#2CA02C",
           "#D62728",
           "#9467BD",
           "#8C564B",
           "#E377C2",
           "#7F7F7F",
           "#BCBD22",
           "#17BECF"
          ],
          "font": {
           "color": "rgb(36,36,36)"
          },
          "geo": {
           "bgcolor": "white",
           "lakecolor": "white",
           "landcolor": "white",
           "showlakes": true,
           "showland": true,
           "subunitcolor": "white"
          },
          "hoverlabel": {
           "align": "left"
          },
          "hovermode": "closest",
          "mapbox": {
           "style": "light"
          },
          "paper_bgcolor": "white",
          "plot_bgcolor": "white",
          "polar": {
           "angularaxis": {
            "gridcolor": "rgb(232,232,232)",
            "linecolor": "rgb(36,36,36)",
            "showgrid": false,
            "showline": true,
            "ticks": "outside"
           },
           "bgcolor": "white",
           "radialaxis": {
            "gridcolor": "rgb(232,232,232)",
            "linecolor": "rgb(36,36,36)",
            "showgrid": false,
            "showline": true,
            "ticks": "outside"
           }
          },
          "scene": {
           "xaxis": {
            "backgroundcolor": "white",
            "gridcolor": "rgb(232,232,232)",
            "gridwidth": 2,
            "linecolor": "rgb(36,36,36)",
            "showbackground": true,
            "showgrid": false,
            "showline": true,
            "ticks": "outside",
            "zeroline": false,
            "zerolinecolor": "rgb(36,36,36)"
           },
           "yaxis": {
            "backgroundcolor": "white",
            "gridcolor": "rgb(232,232,232)",
            "gridwidth": 2,
            "linecolor": "rgb(36,36,36)",
            "showbackground": true,
            "showgrid": false,
            "showline": true,
            "ticks": "outside",
            "zeroline": false,
            "zerolinecolor": "rgb(36,36,36)"
           },
           "zaxis": {
            "backgroundcolor": "white",
            "gridcolor": "rgb(232,232,232)",
            "gridwidth": 2,
            "linecolor": "rgb(36,36,36)",
            "showbackground": true,
            "showgrid": false,
            "showline": true,
            "ticks": "outside",
            "zeroline": false,
            "zerolinecolor": "rgb(36,36,36)"
           }
          },
          "shapedefaults": {
           "fillcolor": "black",
           "line": {
            "width": 0
           },
           "opacity": 0.3
          },
          "ternary": {
           "aaxis": {
            "gridcolor": "rgb(232,232,232)",
            "linecolor": "rgb(36,36,36)",
            "showgrid": false,
            "showline": true,
            "ticks": "outside"
           },
           "baxis": {
            "gridcolor": "rgb(232,232,232)",
            "linecolor": "rgb(36,36,36)",
            "showgrid": false,
            "showline": true,
            "ticks": "outside"
           },
           "bgcolor": "white",
           "caxis": {
            "gridcolor": "rgb(232,232,232)",
            "linecolor": "rgb(36,36,36)",
            "showgrid": false,
            "showline": true,
            "ticks": "outside"
           }
          },
          "title": {
           "x": 0.05
          },
          "xaxis": {
           "automargin": true,
           "gridcolor": "rgb(232,232,232)",
           "linecolor": "rgb(36,36,36)",
           "showgrid": false,
           "showline": true,
           "ticks": "outside",
           "title": {
            "standoff": 15
           },
           "zeroline": false,
           "zerolinecolor": "rgb(36,36,36)"
          },
          "yaxis": {
           "automargin": true,
           "gridcolor": "rgb(232,232,232)",
           "linecolor": "rgb(36,36,36)",
           "showgrid": false,
           "showline": true,
           "ticks": "outside",
           "title": {
            "standoff": 15
           },
           "zeroline": false,
           "zerolinecolor": "rgb(36,36,36)"
          }
         }
        },
        "title": {
         "text": "Proportion étudiant/pro en fonction de la provenance"
        },
        "width": 1000,
        "xaxis": {
         "anchor": "y",
         "domain": [
          0,
          1
         ],
         "title": {
          "text": "Provenance"
         }
        },
        "yaxis": {
         "anchor": "x",
         "domain": [
          0,
          1
         ],
         "title": {
          "text": "count"
         }
        }
       }
      },
      "text/html": [
       "<div>                            <div id=\"42325b23-d01e-4275-8694-e28fb40f2427\" class=\"plotly-graph-div\" style=\"height:600px; width:1000px;\"></div>            <script type=\"text/javascript\">                require([\"plotly\"], function(Plotly) {                    window.PLOTLYENV=window.PLOTLYENV || {};                                    if (document.getElementById(\"42325b23-d01e-4275-8694-e28fb40f2427\")) {                    Plotly.newPlot(                        \"42325b23-d01e-4275-8694-e28fb40f2427\",                        [{\"alignmentgroup\":\"True\",\"bingroup\":\"x\",\"hovertemplate\":\"CATEGORIE_PRO=26 ans et plus /Pro<br>Provenance=%{x}<br>count=%{y}<extra></extra>\",\"legendgroup\":\"26 ans et plus /Pro\",\"marker\":{\"color\":\"#26C998\",\"pattern\":{\"shape\":\"\"}},\"name\":\"26 ans et plus /Pro\",\"offsetgroup\":\"26 ans et plus /Pro\",\"orientation\":\"v\",\"showlegend\":true,\"x\":[\"Strasbourgeois\",\"Strasbourgeois\",\"Strasbourgeois\",\"Strasbourgeois\",\"Non Strasbourgeois\",\"Strasbourgeois\",\"Strasbourgeois\",\"Strasbourgeois\",\"Strasbourgeois\",\"Non Strasbourgeois\",\"Strasbourgeois\",\"Non Strasbourgeois\",\"Strasbourgeois\",\"Strasbourgeois\",\"Strasbourgeois\",\"Strasbourgeois\",\"Strasbourgeois\",\"Non Strasbourgeois\",\"Strasbourgeois\",\"Non Strasbourgeois\",\"Non Strasbourgeois\",\"Non Strasbourgeois\",\"Non Strasbourgeois\",\"Strasbourgeois\",\"Strasbourgeois\",\"Strasbourgeois\",\"Strasbourgeois\",\"Strasbourgeois\",\"Non Strasbourgeois\",\"Non Strasbourgeois\",\"Strasbourgeois\",\"Strasbourgeois\",\"Strasbourgeois\",\"Strasbourgeois\",\"Strasbourgeois\",\"Non Strasbourgeois\",\"Strasbourgeois\",\"Non Strasbourgeois\",\"Non Strasbourgeois\",\"Strasbourgeois\",\"Non Strasbourgeois\",\"Strasbourgeois\",\"Non Strasbourgeois\",\"Strasbourgeois\",\"Strasbourgeois\",\"Strasbourgeois\",\"Strasbourgeois\",\"Strasbourgeois\",\"Strasbourgeois\",\"Strasbourgeois\",\"Non Strasbourgeois\",\"Strasbourgeois\",\"Non Strasbourgeois\",\"Strasbourgeois\",\"Strasbourgeois\",\"Non Strasbourgeois\",\"Non Strasbourgeois\",\"Strasbourgeois\",\"Non Strasbourgeois\",\"Non Strasbourgeois\",\"Strasbourgeois\",\"Strasbourgeois\",\"Strasbourgeois\",\"Non Strasbourgeois\",\"Non Strasbourgeois\",\"Strasbourgeois\",\"Strasbourgeois\",\"Strasbourgeois\",\"Non Strasbourgeois\",\"Non Strasbourgeois\",\"Non Strasbourgeois\",\"Non Strasbourgeois\",\"Strasbourgeois\",\"Strasbourgeois\",\"Non Strasbourgeois\",\"Strasbourgeois\",\"Non Strasbourgeois\",\"Non Strasbourgeois\",\"Non Strasbourgeois\",\"Non Strasbourgeois\",\"Non Strasbourgeois\",\"Strasbourgeois\",\"Strasbourgeois\",\"Strasbourgeois\",\"Non Strasbourgeois\",\"Strasbourgeois\",\"Strasbourgeois\",\"Strasbourgeois\",\"Strasbourgeois\",\"Strasbourgeois\",\"Strasbourgeois\",\"Strasbourgeois\"],\"xaxis\":\"x\",\"yaxis\":\"y\",\"type\":\"histogram\"},{\"alignmentgroup\":\"True\",\"bingroup\":\"x\",\"hovertemplate\":\"CATEGORIE_PRO=15-25 ans/\\u00e9tudiant<br>Provenance=%{x}<br>count=%{y}<extra></extra>\",\"legendgroup\":\"15-25 ans/\\u00e9tudiant\",\"marker\":{\"color\":\"#D3ED15\",\"pattern\":{\"shape\":\"\"}},\"name\":\"15-25 ans/\\u00e9tudiant\",\"offsetgroup\":\"15-25 ans/\\u00e9tudiant\",\"orientation\":\"v\",\"showlegend\":true,\"x\":[\"Strasbourgeois\",\"Strasbourgeois\",\"Strasbourgeois\",\"Strasbourgeois\",\"Strasbourgeois\",\"Strasbourgeois\",\"Strasbourgeois\",\"Strasbourgeois\",\"Strasbourgeois\",\"Strasbourgeois\",\"Strasbourgeois\",\"Strasbourgeois\",\"Strasbourgeois\",\"Strasbourgeois\",\"Strasbourgeois\",\"Strasbourgeois\",\"Strasbourgeois\",\"Strasbourgeois\",\"Non Strasbourgeois\",\"Non Strasbourgeois\",\"Strasbourgeois\",\"Non Strasbourgeois\",\"Strasbourgeois\",\"Strasbourgeois\",\"Strasbourgeois\",\"Strasbourgeois\",\"Strasbourgeois\",\"Non Strasbourgeois\",\"Strasbourgeois\",\"Strasbourgeois\",\"Strasbourgeois\",\"Strasbourgeois\",\"Strasbourgeois\",\"Strasbourgeois\",\"Strasbourgeois\",\"Non Strasbourgeois\",\"Non Strasbourgeois\",\"Strasbourgeois\",\"Strasbourgeois\",\"Strasbourgeois\",\"Strasbourgeois\",\"Strasbourgeois\",\"Strasbourgeois\",\"Strasbourgeois\",\"Strasbourgeois\",\"Strasbourgeois\",\"Strasbourgeois\"],\"xaxis\":\"x\",\"yaxis\":\"y\",\"type\":\"histogram\"}],                        {\"template\":{\"data\":{\"barpolar\":[{\"marker\":{\"line\":{\"color\":\"white\",\"width\":0.5},\"pattern\":{\"fillmode\":\"overlay\",\"size\":10,\"solidity\":0.2}},\"type\":\"barpolar\"}],\"bar\":[{\"error_x\":{\"color\":\"rgb(36,36,36)\"},\"error_y\":{\"color\":\"rgb(36,36,36)\"},\"marker\":{\"line\":{\"color\":\"white\",\"width\":0.5},\"pattern\":{\"fillmode\":\"overlay\",\"size\":10,\"solidity\":0.2}},\"type\":\"bar\"}],\"carpet\":[{\"aaxis\":{\"endlinecolor\":\"rgb(36,36,36)\",\"gridcolor\":\"white\",\"linecolor\":\"white\",\"minorgridcolor\":\"white\",\"startlinecolor\":\"rgb(36,36,36)\"},\"baxis\":{\"endlinecolor\":\"rgb(36,36,36)\",\"gridcolor\":\"white\",\"linecolor\":\"white\",\"minorgridcolor\":\"white\",\"startlinecolor\":\"rgb(36,36,36)\"},\"type\":\"carpet\"}],\"choropleth\":[{\"colorbar\":{\"outlinewidth\":1,\"tickcolor\":\"rgb(36,36,36)\",\"ticks\":\"outside\"},\"type\":\"choropleth\"}],\"contourcarpet\":[{\"colorbar\":{\"outlinewidth\":1,\"tickcolor\":\"rgb(36,36,36)\",\"ticks\":\"outside\"},\"type\":\"contourcarpet\"}],\"contour\":[{\"colorbar\":{\"outlinewidth\":1,\"tickcolor\":\"rgb(36,36,36)\",\"ticks\":\"outside\"},\"colorscale\":[[0.0,\"#440154\"],[0.1111111111111111,\"#482878\"],[0.2222222222222222,\"#3e4989\"],[0.3333333333333333,\"#31688e\"],[0.4444444444444444,\"#26828e\"],[0.5555555555555556,\"#1f9e89\"],[0.6666666666666666,\"#35b779\"],[0.7777777777777778,\"#6ece58\"],[0.8888888888888888,\"#b5de2b\"],[1.0,\"#fde725\"]],\"type\":\"contour\"}],\"heatmapgl\":[{\"colorbar\":{\"outlinewidth\":1,\"tickcolor\":\"rgb(36,36,36)\",\"ticks\":\"outside\"},\"colorscale\":[[0.0,\"#440154\"],[0.1111111111111111,\"#482878\"],[0.2222222222222222,\"#3e4989\"],[0.3333333333333333,\"#31688e\"],[0.4444444444444444,\"#26828e\"],[0.5555555555555556,\"#1f9e89\"],[0.6666666666666666,\"#35b779\"],[0.7777777777777778,\"#6ece58\"],[0.8888888888888888,\"#b5de2b\"],[1.0,\"#fde725\"]],\"type\":\"heatmapgl\"}],\"heatmap\":[{\"colorbar\":{\"outlinewidth\":1,\"tickcolor\":\"rgb(36,36,36)\",\"ticks\":\"outside\"},\"colorscale\":[[0.0,\"#440154\"],[0.1111111111111111,\"#482878\"],[0.2222222222222222,\"#3e4989\"],[0.3333333333333333,\"#31688e\"],[0.4444444444444444,\"#26828e\"],[0.5555555555555556,\"#1f9e89\"],[0.6666666666666666,\"#35b779\"],[0.7777777777777778,\"#6ece58\"],[0.8888888888888888,\"#b5de2b\"],[1.0,\"#fde725\"]],\"type\":\"heatmap\"}],\"histogram2dcontour\":[{\"colorbar\":{\"outlinewidth\":1,\"tickcolor\":\"rgb(36,36,36)\",\"ticks\":\"outside\"},\"colorscale\":[[0.0,\"#440154\"],[0.1111111111111111,\"#482878\"],[0.2222222222222222,\"#3e4989\"],[0.3333333333333333,\"#31688e\"],[0.4444444444444444,\"#26828e\"],[0.5555555555555556,\"#1f9e89\"],[0.6666666666666666,\"#35b779\"],[0.7777777777777778,\"#6ece58\"],[0.8888888888888888,\"#b5de2b\"],[1.0,\"#fde725\"]],\"type\":\"histogram2dcontour\"}],\"histogram2d\":[{\"colorbar\":{\"outlinewidth\":1,\"tickcolor\":\"rgb(36,36,36)\",\"ticks\":\"outside\"},\"colorscale\":[[0.0,\"#440154\"],[0.1111111111111111,\"#482878\"],[0.2222222222222222,\"#3e4989\"],[0.3333333333333333,\"#31688e\"],[0.4444444444444444,\"#26828e\"],[0.5555555555555556,\"#1f9e89\"],[0.6666666666666666,\"#35b779\"],[0.7777777777777778,\"#6ece58\"],[0.8888888888888888,\"#b5de2b\"],[1.0,\"#fde725\"]],\"type\":\"histogram2d\"}],\"histogram\":[{\"marker\":{\"line\":{\"color\":\"white\",\"width\":0.6}},\"type\":\"histogram\"}],\"mesh3d\":[{\"colorbar\":{\"outlinewidth\":1,\"tickcolor\":\"rgb(36,36,36)\",\"ticks\":\"outside\"},\"type\":\"mesh3d\"}],\"parcoords\":[{\"line\":{\"colorbar\":{\"outlinewidth\":1,\"tickcolor\":\"rgb(36,36,36)\",\"ticks\":\"outside\"}},\"type\":\"parcoords\"}],\"pie\":[{\"automargin\":true,\"type\":\"pie\"}],\"scatter3d\":[{\"line\":{\"colorbar\":{\"outlinewidth\":1,\"tickcolor\":\"rgb(36,36,36)\",\"ticks\":\"outside\"}},\"marker\":{\"colorbar\":{\"outlinewidth\":1,\"tickcolor\":\"rgb(36,36,36)\",\"ticks\":\"outside\"}},\"type\":\"scatter3d\"}],\"scattercarpet\":[{\"marker\":{\"colorbar\":{\"outlinewidth\":1,\"tickcolor\":\"rgb(36,36,36)\",\"ticks\":\"outside\"}},\"type\":\"scattercarpet\"}],\"scattergeo\":[{\"marker\":{\"colorbar\":{\"outlinewidth\":1,\"tickcolor\":\"rgb(36,36,36)\",\"ticks\":\"outside\"}},\"type\":\"scattergeo\"}],\"scattergl\":[{\"marker\":{\"colorbar\":{\"outlinewidth\":1,\"tickcolor\":\"rgb(36,36,36)\",\"ticks\":\"outside\"}},\"type\":\"scattergl\"}],\"scattermapbox\":[{\"marker\":{\"colorbar\":{\"outlinewidth\":1,\"tickcolor\":\"rgb(36,36,36)\",\"ticks\":\"outside\"}},\"type\":\"scattermapbox\"}],\"scatterpolargl\":[{\"marker\":{\"colorbar\":{\"outlinewidth\":1,\"tickcolor\":\"rgb(36,36,36)\",\"ticks\":\"outside\"}},\"type\":\"scatterpolargl\"}],\"scatterpolar\":[{\"marker\":{\"colorbar\":{\"outlinewidth\":1,\"tickcolor\":\"rgb(36,36,36)\",\"ticks\":\"outside\"}},\"type\":\"scatterpolar\"}],\"scatter\":[{\"marker\":{\"colorbar\":{\"outlinewidth\":1,\"tickcolor\":\"rgb(36,36,36)\",\"ticks\":\"outside\"}},\"type\":\"scatter\"}],\"scatterternary\":[{\"marker\":{\"colorbar\":{\"outlinewidth\":1,\"tickcolor\":\"rgb(36,36,36)\",\"ticks\":\"outside\"}},\"type\":\"scatterternary\"}],\"surface\":[{\"colorbar\":{\"outlinewidth\":1,\"tickcolor\":\"rgb(36,36,36)\",\"ticks\":\"outside\"},\"colorscale\":[[0.0,\"#440154\"],[0.1111111111111111,\"#482878\"],[0.2222222222222222,\"#3e4989\"],[0.3333333333333333,\"#31688e\"],[0.4444444444444444,\"#26828e\"],[0.5555555555555556,\"#1f9e89\"],[0.6666666666666666,\"#35b779\"],[0.7777777777777778,\"#6ece58\"],[0.8888888888888888,\"#b5de2b\"],[1.0,\"#fde725\"]],\"type\":\"surface\"}],\"table\":[{\"cells\":{\"fill\":{\"color\":\"rgb(237,237,237)\"},\"line\":{\"color\":\"white\"}},\"header\":{\"fill\":{\"color\":\"rgb(217,217,217)\"},\"line\":{\"color\":\"white\"}},\"type\":\"table\"}]},\"layout\":{\"annotationdefaults\":{\"arrowhead\":0,\"arrowwidth\":1},\"autotypenumbers\":\"strict\",\"coloraxis\":{\"colorbar\":{\"outlinewidth\":1,\"tickcolor\":\"rgb(36,36,36)\",\"ticks\":\"outside\"}},\"colorscale\":{\"diverging\":[[0.0,\"rgb(103,0,31)\"],[0.1,\"rgb(178,24,43)\"],[0.2,\"rgb(214,96,77)\"],[0.3,\"rgb(244,165,130)\"],[0.4,\"rgb(253,219,199)\"],[0.5,\"rgb(247,247,247)\"],[0.6,\"rgb(209,229,240)\"],[0.7,\"rgb(146,197,222)\"],[0.8,\"rgb(67,147,195)\"],[0.9,\"rgb(33,102,172)\"],[1.0,\"rgb(5,48,97)\"]],\"sequential\":[[0.0,\"#440154\"],[0.1111111111111111,\"#482878\"],[0.2222222222222222,\"#3e4989\"],[0.3333333333333333,\"#31688e\"],[0.4444444444444444,\"#26828e\"],[0.5555555555555556,\"#1f9e89\"],[0.6666666666666666,\"#35b779\"],[0.7777777777777778,\"#6ece58\"],[0.8888888888888888,\"#b5de2b\"],[1.0,\"#fde725\"]],\"sequentialminus\":[[0.0,\"#440154\"],[0.1111111111111111,\"#482878\"],[0.2222222222222222,\"#3e4989\"],[0.3333333333333333,\"#31688e\"],[0.4444444444444444,\"#26828e\"],[0.5555555555555556,\"#1f9e89\"],[0.6666666666666666,\"#35b779\"],[0.7777777777777778,\"#6ece58\"],[0.8888888888888888,\"#b5de2b\"],[1.0,\"#fde725\"]]},\"colorway\":[\"#1F77B4\",\"#FF7F0E\",\"#2CA02C\",\"#D62728\",\"#9467BD\",\"#8C564B\",\"#E377C2\",\"#7F7F7F\",\"#BCBD22\",\"#17BECF\"],\"font\":{\"color\":\"rgb(36,36,36)\"},\"geo\":{\"bgcolor\":\"white\",\"lakecolor\":\"white\",\"landcolor\":\"white\",\"showlakes\":true,\"showland\":true,\"subunitcolor\":\"white\"},\"hoverlabel\":{\"align\":\"left\"},\"hovermode\":\"closest\",\"mapbox\":{\"style\":\"light\"},\"paper_bgcolor\":\"white\",\"plot_bgcolor\":\"white\",\"polar\":{\"angularaxis\":{\"gridcolor\":\"rgb(232,232,232)\",\"linecolor\":\"rgb(36,36,36)\",\"showgrid\":false,\"showline\":true,\"ticks\":\"outside\"},\"bgcolor\":\"white\",\"radialaxis\":{\"gridcolor\":\"rgb(232,232,232)\",\"linecolor\":\"rgb(36,36,36)\",\"showgrid\":false,\"showline\":true,\"ticks\":\"outside\"}},\"scene\":{\"xaxis\":{\"backgroundcolor\":\"white\",\"gridcolor\":\"rgb(232,232,232)\",\"gridwidth\":2,\"linecolor\":\"rgb(36,36,36)\",\"showbackground\":true,\"showgrid\":false,\"showline\":true,\"ticks\":\"outside\",\"zeroline\":false,\"zerolinecolor\":\"rgb(36,36,36)\"},\"yaxis\":{\"backgroundcolor\":\"white\",\"gridcolor\":\"rgb(232,232,232)\",\"gridwidth\":2,\"linecolor\":\"rgb(36,36,36)\",\"showbackground\":true,\"showgrid\":false,\"showline\":true,\"ticks\":\"outside\",\"zeroline\":false,\"zerolinecolor\":\"rgb(36,36,36)\"},\"zaxis\":{\"backgroundcolor\":\"white\",\"gridcolor\":\"rgb(232,232,232)\",\"gridwidth\":2,\"linecolor\":\"rgb(36,36,36)\",\"showbackground\":true,\"showgrid\":false,\"showline\":true,\"ticks\":\"outside\",\"zeroline\":false,\"zerolinecolor\":\"rgb(36,36,36)\"}},\"shapedefaults\":{\"fillcolor\":\"black\",\"line\":{\"width\":0},\"opacity\":0.3},\"ternary\":{\"aaxis\":{\"gridcolor\":\"rgb(232,232,232)\",\"linecolor\":\"rgb(36,36,36)\",\"showgrid\":false,\"showline\":true,\"ticks\":\"outside\"},\"baxis\":{\"gridcolor\":\"rgb(232,232,232)\",\"linecolor\":\"rgb(36,36,36)\",\"showgrid\":false,\"showline\":true,\"ticks\":\"outside\"},\"bgcolor\":\"white\",\"caxis\":{\"gridcolor\":\"rgb(232,232,232)\",\"linecolor\":\"rgb(36,36,36)\",\"showgrid\":false,\"showline\":true,\"ticks\":\"outside\"}},\"title\":{\"x\":0.05},\"xaxis\":{\"automargin\":true,\"gridcolor\":\"rgb(232,232,232)\",\"linecolor\":\"rgb(36,36,36)\",\"showgrid\":false,\"showline\":true,\"ticks\":\"outside\",\"title\":{\"standoff\":15},\"zeroline\":false,\"zerolinecolor\":\"rgb(36,36,36)\"},\"yaxis\":{\"automargin\":true,\"gridcolor\":\"rgb(232,232,232)\",\"linecolor\":\"rgb(36,36,36)\",\"showgrid\":false,\"showline\":true,\"ticks\":\"outside\",\"title\":{\"standoff\":15},\"zeroline\":false,\"zerolinecolor\":\"rgb(36,36,36)\"}}},\"xaxis\":{\"anchor\":\"y\",\"domain\":[0.0,1.0],\"title\":{\"text\":\"Provenance\"}},\"yaxis\":{\"anchor\":\"x\",\"domain\":[0.0,1.0],\"title\":{\"text\":\"count\"}},\"legend\":{\"title\":{},\"tracegroupgap\":0,\"orientation\":\"h\",\"y\":1,\"yanchor\":\"bottom\",\"x\":0.5,\"xanchor\":\"center\"},\"title\":{\"text\":\"Proportion \\u00e9tudiant/pro en fonction de la provenance\"},\"barmode\":\"relative\",\"height\":600,\"width\":1000,\"font\":{\"family\":\"Rockwell\"},\"annotations\":[{\"arrowhead\":2,\"showarrow\":false,\"text\":\"\\u00e9tudiant\",\"x\":\"Strasbourgeois\",\"y\":79},{\"arrowhead\":2,\"showarrow\":false,\"text\":\"Professionnel\",\"x\":\"Francais non Strasbourgeois\",\"y\":22},{\"arrowhead\":2,\"showarrow\":false,\"text\":\"Professionnel\",\"x\":\"Strasbourgeois\",\"y\":29},{\"arrowhead\":2,\"showarrow\":false,\"text\":\"\\u00e9tudiant\",\"x\":\"Francais non Strasbourgeois\",\"y\":37}]},                        {\"responsive\": true}                    ).then(function(){\n",
       "                            \n",
       "var gd = document.getElementById('42325b23-d01e-4275-8694-e28fb40f2427');\n",
       "var x = new MutationObserver(function (mutations, observer) {{\n",
       "        var display = window.getComputedStyle(gd).display;\n",
       "        if (!display || display === 'none') {{\n",
       "            console.log([gd, 'removed!']);\n",
       "            Plotly.purge(gd);\n",
       "            observer.disconnect();\n",
       "        }}\n",
       "}});\n",
       "\n",
       "// Listen for the removal of the full notebook cells\n",
       "var notebookContainer = gd.closest('#notebook-container');\n",
       "if (notebookContainer) {{\n",
       "    x.observe(notebookContainer, {childList: true});\n",
       "}}\n",
       "\n",
       "// Listen for the clearing of the current output cell\n",
       "var outputEl = gd.closest('.output');\n",
       "if (outputEl) {{\n",
       "    x.observe(outputEl, {childList: true});\n",
       "}}\n",
       "\n",
       "                        })                };                });            </script>        </div>"
      ]
     },
     "metadata": {},
     "output_type": "display_data"
    }
   ],
   "source": [
    "fig = px.histogram(\n",
    "                   df_clean_renamed, x=\"Je vis\",color=\"CATEGORIE_PRO\",\n",
    "                   title='Proportion étudiant/pro en fonction de la provenance',\n",
    "                   width=1000, \n",
    "                   height=600,\n",
    "                   labels={\"Je vis\":\"Provenance\"}, \n",
    "                   color_discrete_map={\"15-25 ans/étudiant\":\"#D3ED15\",\n",
    "                   \"26 ans et plus /Pro\": \"#26C998\"},\n",
    "                   template=\"simple_white\"\n",
    ")\n",
    "                   \n",
    "fig.update_layout(\n",
    "                  font_family=\"Rockwell\",\n",
    "                  legend=dict(title=None,\n",
    "                  orientation=\"h\", \n",
    "                  y=1,\n",
    "                  yanchor=\"bottom\",\n",
    "                  x=0.5, \n",
    "                  xanchor=\"center\"\n",
    "    )\n",
    ")\n",
    "\n",
    "\n",
    "\n",
    "fig.add_annotation(\n",
    "                 text=\"étudiant\", \n",
    "                 x=\"Strasbourgeois\", \n",
    "                 y=79, \n",
    "                 arrowhead=2, \n",
    "                 showarrow=False\n",
    ")\n",
    "    \n",
    "\n",
    "fig.add_annotation(\n",
    "                 text=\"Professionnel\", \n",
    "                 x=\"Francais non Strasbourgeois\", \n",
    "                 y=22, \n",
    "                 arrowhead=2, \n",
    "                 showarrow=False\n",
    ")\n",
    "\n",
    "fig.add_annotation(\n",
    "                 text=\"Professionnel\", \n",
    "                 x=\"Strasbourgeois\", \n",
    "                 y=29, \n",
    "                 arrowhead=2, \n",
    "                 showarrow=False\n",
    ")\n",
    "\n",
    "fig.add_annotation(\n",
    "                 text=\"étudiant\", \n",
    "                 x=\"Francais non Strasbourgeois\", \n",
    "                 y=37, \n",
    "                 arrowhead=2, \n",
    "                 showarrow=False\n",
    ")\n",
    "\n",
    "fig.show()\n",
    "\n"
   ]
  },
  {
   "cell_type": "markdown",
   "id": "1fb1fc88",
   "metadata": {},
   "source": [
    "## Interpretation du graphique : \n",
    "\n",
    "1) De maniere globale il y a peu d'étranger qui participent (étranger = hors du sol francais seulement 2 sur 139)\n",
    "\n",
    "2) On remarque que si on s'interesse à la provenance des participants, la proportion de pro parmi les gens qui\n",
    "se déplace d'une autre région pour participe à l'évenement est très élevée. Par contre, parmi les gens qui habitent à proximité (Strasbourg et autour) il y a une grande proportion d'étudiant.\n",
    "\n",
    "=> Les participants qui font des déplacements pour venir à l'evenement sont souvent des pro\n",
    "\n",
    "=> La majorité des étudiant qui participent sont strasbourgeois.\n",
    "\n",
    "3) Une majorite des participants (étudiant et pro) sont strasbourgeois"
   ]
  },
  {
   "cell_type": "markdown",
   "id": "cf727af6",
   "metadata": {},
   "source": [
    "Ce qui serait intéressant ca serait de savoir de quel école/entreprise les participants sont issus\n",
    "\n",
    "=> axe d'amélioration pour le sondage"
   ]
  },
  {
   "cell_type": "markdown",
   "id": "f73aa79c",
   "metadata": {},
   "source": [
    "## NA Analyse"
   ]
  },
  {
   "cell_type": "code",
   "execution_count": 31,
   "id": "c430cb32",
   "metadata": {},
   "outputs": [
    {
     "data": {
      "text/plain": [
       "<AxesSubplot:>"
      ]
     },
     "execution_count": 31,
     "metadata": {},
     "output_type": "execute_result"
    },
    {
     "data": {
      "image/png": "[encoded data removed]",
      "text/plain": [
       "<Figure size 1800x720 with 2 Axes>"
      ]
     },
     "metadata": {
      "needs_background": "light"
     },
     "output_type": "display_data"
    }
   ],
   "source": [
    "msno.matrix(df_clean_renamed)"
   ]
  },
  {
   "cell_type": "code",
   "execution_count": 54,
   "id": "e71d2d6f",
   "metadata": {},
   "outputs": [
    {
     "data": {
      "text/plain": [
       "cadre, profession intellectuelle supéieure    20\n",
       "étudiant                                       6\n",
       "employé                                        1\n",
       "Name: ACTIVITE, dtype: int64"
      ]
     },
     "execution_count": 54,
     "metadata": {},
     "output_type": "execute_result"
    }
   ],
   "source": [
    "df_clean_renamed[\"ACTIVITE\"].value_counts()\n",
    "#On a que les données de 27 personnes, je pense que c'est insuffisant "
   ]
  },
  {
   "cell_type": "code",
   "execution_count": 31,
   "id": "69c0a127",
   "metadata": {},
   "outputs": [],
   "source": [
    "df_clean_renamed = df_clean_renamed.drop([\"ACTIVITE\"],axis=\"columns\")"
   ]
  },
  {
   "cell_type": "markdown",
   "id": "00d9c11b",
   "metadata": {},
   "source": [
    "## Idée de choses à faire :\n",
    "\n",
    "### i) Presenter la population qui participe\n",
    "\n",
    "(age, genre, d'ou ils viennent, fonction/travail, motivation etc)\n",
    "\n",
    "CA C'EST FAIT AVEC LES 3-4 GRAPHIQUES PREMIERE PAGE DU DASHBOARD\n",
    "\n",
    "### ii) Mener une enquete de satisfaction\n",
    "\n",
    "On peut voir la satisfaction et voir les paternes de gens qui ont bcp aimé et pas avec cluster\n",
    "\n",
    "### iii) Faire des stats sur si le hackaton a apporte qql chose en terme de dev perso\n",
    "\n",
    "Cb de gens se sont remis en question\n",
    "\n",
    "### iv)  Mesurer les motivations des participants/ le networking\n",
    "\n",
    "Nottament le networking et voir le résultat si les gens ont bien réussi a se faire des contacts\n",
    "\n",
    "### v) Proposer un sondage pour améliorer les données\n",
    "\n",
    "- Demander si c'est le premier Hackaton\n",
    "\n",
    "- Demander l'age\n",
    "\n",
    "- Demander de quel entreprise/école le participant vient\n",
    "\n",
    "- Faire des questions plus courte et plus précise pour que c'est moins chiant et plus rapide à lire \n",
    "\n",
    "- Ou ils ont entendu parler du Hackaton\n",
    "\n",
    "- S'ils remplissent correctement le sondage ils gagnent un petit gadjet ou un tirage au sort jsp\n",
    "les entreprises peuvent bien donner qql chose à leur armée d'esclave"
   ]
  },
  {
   "cell_type": "markdown",
   "id": "d0da89fd",
   "metadata": {},
   "source": [
    "# ii) Enquète de satisfaction"
   ]
  },
  {
   "cell_type": "code",
   "execution_count": null,
   "id": "829e8a23",
   "metadata": {},
   "outputs": [],
   "source": [
    "pd.options.display.max_columns = 30"
   ]
  },
  {
   "cell_type": "code",
   "execution_count": 38,
   "id": "8cff445a",
   "metadata": {
    "scrolled": true
   },
   "outputs": [
    {
     "data": {
      "text/html": [
       "<div>\n",
       "<style scoped>\n",
       "    .dataframe tbody tr th:only-of-type {\n",
       "        vertical-align: middle;\n",
       "    }\n",
       "\n",
       "    .dataframe tbody tr th {\n",
       "        vertical-align: top;\n",
       "    }\n",
       "\n",
       "    .dataframe thead th {\n",
       "        text-align: right;\n",
       "    }\n",
       "</style>\n",
       "<table border=\"1\" class=\"dataframe\">\n",
       "  <thead>\n",
       "    <tr style=\"text-align: right;\">\n",
       "      <th></th>\n",
       "      <th>ID_CANDIDAT</th>\n",
       "      <th>UTILITE_INNOVATION</th>\n",
       "      <th>INFORMATION_INNOVATION</th>\n",
       "      <th>INTERET_PARTICIPANT1</th>\n",
       "      <th>INTERET_PARTICIPANT2</th>\n",
       "      <th>SATISFACTION1</th>\n",
       "      <th>SATISFACTION2</th>\n",
       "      <th>NETWORKING1</th>\n",
       "      <th>NETWORKING2</th>\n",
       "      <th>NETWORKING3</th>\n",
       "      <th>NETWORKING4</th>\n",
       "      <th>NETWORKING5</th>\n",
       "      <th>SELF_IMPROVEMENT1</th>\n",
       "      <th>SATISFACTION3</th>\n",
       "      <th>SELF_IMPROVEMENT2</th>\n",
       "      <th>SATISFACTION4</th>\n",
       "      <th>SATISFACTION5</th>\n",
       "      <th>SATISFACTION6</th>\n",
       "      <th>GENRE</th>\n",
       "      <th>Je vis</th>\n",
       "      <th>Je suis.1</th>\n",
       "      <th>ACTIVITE</th>\n",
       "      <th>Start Date (UTC)</th>\n",
       "      <th>Submit Date (UTC)</th>\n",
       "      <th>Network ID</th>\n",
       "      <th>AGE</th>\n",
       "      <th>CATEGORIE_PRO</th>\n",
       "    </tr>\n",
       "  </thead>\n",
       "  <tbody>\n",
       "    <tr>\n",
       "      <th>0</th>\n",
       "      <td>20e16c47d2e631ed3d67a5cb768b7961</td>\n",
       "      <td>5</td>\n",
       "      <td>7</td>\n",
       "      <td>6</td>\n",
       "      <td>3</td>\n",
       "      <td>4</td>\n",
       "      <td>7</td>\n",
       "      <td>2</td>\n",
       "      <td>5</td>\n",
       "      <td>6</td>\n",
       "      <td>2</td>\n",
       "      <td>2</td>\n",
       "      <td>2</td>\n",
       "      <td>5</td>\n",
       "      <td>5</td>\n",
       "      <td>6</td>\n",
       "      <td>5</td>\n",
       "      <td>6</td>\n",
       "      <td>1</td>\n",
       "      <td>Strasbourgeois</td>\n",
       "      <td>autre</td>\n",
       "      <td>étudiant</td>\n",
       "      <td>2016-11-28 09:41:01</td>\n",
       "      <td>2016-11-28 09:44:41</td>\n",
       "      <td>133b0afb84</td>\n",
       "      <td>26-30 ans</td>\n",
       "      <td>26 ans et plus /Pro</td>\n",
       "    </tr>\n",
       "    <tr>\n",
       "      <th>1</th>\n",
       "      <td>f17779bb37039c14b6a68fed710951c7</td>\n",
       "      <td>8</td>\n",
       "      <td>8</td>\n",
       "      <td>4</td>\n",
       "      <td>3</td>\n",
       "      <td>8</td>\n",
       "      <td>8</td>\n",
       "      <td>8</td>\n",
       "      <td>8</td>\n",
       "      <td>8</td>\n",
       "      <td>8</td>\n",
       "      <td>8</td>\n",
       "      <td>8</td>\n",
       "      <td>8</td>\n",
       "      <td>8</td>\n",
       "      <td>3</td>\n",
       "      <td>8</td>\n",
       "      <td>8</td>\n",
       "      <td>1</td>\n",
       "      <td>Strasbourgeois</td>\n",
       "      <td>professionnel de l'industrie</td>\n",
       "      <td>employé</td>\n",
       "      <td>2016-11-28 09:47:53</td>\n",
       "      <td>2016-11-28 09:51:58</td>\n",
       "      <td>537b758514</td>\n",
       "      <td>26-30 ans</td>\n",
       "      <td>26 ans et plus /Pro</td>\n",
       "    </tr>\n",
       "    <tr>\n",
       "      <th>2</th>\n",
       "      <td>89c1404fb58fbd6a79e5afbde9bd860c</td>\n",
       "      <td>3</td>\n",
       "      <td>3</td>\n",
       "      <td>2</td>\n",
       "      <td>1</td>\n",
       "      <td>1</td>\n",
       "      <td>1</td>\n",
       "      <td>1</td>\n",
       "      <td>3</td>\n",
       "      <td>2</td>\n",
       "      <td>1</td>\n",
       "      <td>1</td>\n",
       "      <td>2</td>\n",
       "      <td>1</td>\n",
       "      <td>2</td>\n",
       "      <td>6</td>\n",
       "      <td>3</td>\n",
       "      <td>2</td>\n",
       "      <td>1</td>\n",
       "      <td>Strasbourgeois</td>\n",
       "      <td>hacker</td>\n",
       "      <td>cadre, profession intellectuelle supéieure</td>\n",
       "      <td>2016-11-28 09:48:25</td>\n",
       "      <td>2016-11-28 09:52:14</td>\n",
       "      <td>537b758514</td>\n",
       "      <td>21-25 ans</td>\n",
       "      <td>15-25 ans/étudiant</td>\n",
       "    </tr>\n",
       "    <tr>\n",
       "      <th>3</th>\n",
       "      <td>280e96138330e2b25592ca206dcce5f9</td>\n",
       "      <td>8</td>\n",
       "      <td>7</td>\n",
       "      <td>6</td>\n",
       "      <td>7</td>\n",
       "      <td>7</td>\n",
       "      <td>8</td>\n",
       "      <td>7</td>\n",
       "      <td>7</td>\n",
       "      <td>6</td>\n",
       "      <td>8</td>\n",
       "      <td>8</td>\n",
       "      <td>6</td>\n",
       "      <td>7</td>\n",
       "      <td>7</td>\n",
       "      <td>6</td>\n",
       "      <td>7</td>\n",
       "      <td>7</td>\n",
       "      <td>0</td>\n",
       "      <td>Strasbourgeois</td>\n",
       "      <td>partenaire</td>\n",
       "      <td>cadre, profession intellectuelle supéieure</td>\n",
       "      <td>2016-11-28 09:49:56</td>\n",
       "      <td>2016-11-28 09:56:54</td>\n",
       "      <td>7423f90059</td>\n",
       "      <td>41-45 ans</td>\n",
       "      <td>26 ans et plus /Pro</td>\n",
       "    </tr>\n",
       "    <tr>\n",
       "      <th>4</th>\n",
       "      <td>810101edc4e2d54199fc6049b0052711</td>\n",
       "      <td>5</td>\n",
       "      <td>8</td>\n",
       "      <td>4</td>\n",
       "      <td>4</td>\n",
       "      <td>6</td>\n",
       "      <td>5</td>\n",
       "      <td>7</td>\n",
       "      <td>6</td>\n",
       "      <td>1</td>\n",
       "      <td>4</td>\n",
       "      <td>6</td>\n",
       "      <td>1</td>\n",
       "      <td>5</td>\n",
       "      <td>5</td>\n",
       "      <td>7</td>\n",
       "      <td>6</td>\n",
       "      <td>8</td>\n",
       "      <td>1</td>\n",
       "      <td>Strasbourgeois</td>\n",
       "      <td>autre</td>\n",
       "      <td>cadre, profession intellectuelle supéieure</td>\n",
       "      <td>2016-11-28 10:05:16</td>\n",
       "      <td>2016-11-28 10:09:17</td>\n",
       "      <td>1603b9fb57</td>\n",
       "      <td>26-30 ans</td>\n",
       "      <td>26 ans et plus /Pro</td>\n",
       "    </tr>\n",
       "    <tr>\n",
       "      <th>...</th>\n",
       "      <td>...</td>\n",
       "      <td>...</td>\n",
       "      <td>...</td>\n",
       "      <td>...</td>\n",
       "      <td>...</td>\n",
       "      <td>...</td>\n",
       "      <td>...</td>\n",
       "      <td>...</td>\n",
       "      <td>...</td>\n",
       "      <td>...</td>\n",
       "      <td>...</td>\n",
       "      <td>...</td>\n",
       "      <td>...</td>\n",
       "      <td>...</td>\n",
       "      <td>...</td>\n",
       "      <td>...</td>\n",
       "      <td>...</td>\n",
       "      <td>...</td>\n",
       "      <td>...</td>\n",
       "      <td>...</td>\n",
       "      <td>...</td>\n",
       "      <td>...</td>\n",
       "      <td>...</td>\n",
       "      <td>...</td>\n",
       "      <td>...</td>\n",
       "      <td>...</td>\n",
       "      <td>...</td>\n",
       "    </tr>\n",
       "    <tr>\n",
       "      <th>134</th>\n",
       "      <td>0f8e7b90608855a30d4754af7c65c6bb</td>\n",
       "      <td>5</td>\n",
       "      <td>5</td>\n",
       "      <td>6</td>\n",
       "      <td>4</td>\n",
       "      <td>1</td>\n",
       "      <td>4</td>\n",
       "      <td>6</td>\n",
       "      <td>4</td>\n",
       "      <td>1</td>\n",
       "      <td>4</td>\n",
       "      <td>1</td>\n",
       "      <td>1</td>\n",
       "      <td>4</td>\n",
       "      <td>5</td>\n",
       "      <td>3</td>\n",
       "      <td>6</td>\n",
       "      <td>6</td>\n",
       "      <td>1</td>\n",
       "      <td>Strasbourgeois</td>\n",
       "      <td>autre</td>\n",
       "      <td>cadre, profession intellectuelle supéieure</td>\n",
       "      <td>2017-04-28 13:51:36</td>\n",
       "      <td>2017-04-28 13:55:56</td>\n",
       "      <td>0e87204d64</td>\n",
       "      <td>26-30 ans</td>\n",
       "      <td>26 ans et plus /Pro</td>\n",
       "    </tr>\n",
       "    <tr>\n",
       "      <th>135</th>\n",
       "      <td>f45686806b730cccacadd6f6b8e3616a</td>\n",
       "      <td>6</td>\n",
       "      <td>4</td>\n",
       "      <td>7</td>\n",
       "      <td>5</td>\n",
       "      <td>6</td>\n",
       "      <td>6</td>\n",
       "      <td>7</td>\n",
       "      <td>6</td>\n",
       "      <td>6</td>\n",
       "      <td>3</td>\n",
       "      <td>5</td>\n",
       "      <td>3</td>\n",
       "      <td>6</td>\n",
       "      <td>7</td>\n",
       "      <td>6</td>\n",
       "      <td>6</td>\n",
       "      <td>6</td>\n",
       "      <td>0</td>\n",
       "      <td>Strasbourgeois</td>\n",
       "      <td>autre</td>\n",
       "      <td>cadre, profession intellectuelle supéieure</td>\n",
       "      <td>2017-04-27 12:18:23</td>\n",
       "      <td>2017-04-28 15:48:48</td>\n",
       "      <td>0064fca37e</td>\n",
       "      <td>26-30 ans</td>\n",
       "      <td>26 ans et plus /Pro</td>\n",
       "    </tr>\n",
       "    <tr>\n",
       "      <th>136</th>\n",
       "      <td>98e30c21e07151fa303f5de1d1564782</td>\n",
       "      <td>6</td>\n",
       "      <td>7</td>\n",
       "      <td>1</td>\n",
       "      <td>4</td>\n",
       "      <td>6</td>\n",
       "      <td>5</td>\n",
       "      <td>1</td>\n",
       "      <td>1</td>\n",
       "      <td>1</td>\n",
       "      <td>1</td>\n",
       "      <td>2</td>\n",
       "      <td>1</td>\n",
       "      <td>7</td>\n",
       "      <td>7</td>\n",
       "      <td>3</td>\n",
       "      <td>6</td>\n",
       "      <td>6</td>\n",
       "      <td>1</td>\n",
       "      <td>Strasbourgeois</td>\n",
       "      <td>consommateur</td>\n",
       "      <td>cadre, profession intellectuelle supéieure</td>\n",
       "      <td>2017-05-04 11:10:33</td>\n",
       "      <td>2017-05-04 11:16:18</td>\n",
       "      <td>2001:660:4</td>\n",
       "      <td>31-35 ans</td>\n",
       "      <td>26 ans et plus /Pro</td>\n",
       "    </tr>\n",
       "    <tr>\n",
       "      <th>137</th>\n",
       "      <td>3a1f074fed9b734213f794aab803c951</td>\n",
       "      <td>7</td>\n",
       "      <td>7</td>\n",
       "      <td>6</td>\n",
       "      <td>7</td>\n",
       "      <td>6</td>\n",
       "      <td>4</td>\n",
       "      <td>7</td>\n",
       "      <td>6</td>\n",
       "      <td>6</td>\n",
       "      <td>6</td>\n",
       "      <td>6</td>\n",
       "      <td>7</td>\n",
       "      <td>7</td>\n",
       "      <td>7</td>\n",
       "      <td>6</td>\n",
       "      <td>5</td>\n",
       "      <td>6</td>\n",
       "      <td>0</td>\n",
       "      <td>Strasbourgeois</td>\n",
       "      <td>organisateur</td>\n",
       "      <td>cadre, profession intellectuelle supéieure</td>\n",
       "      <td>2017-05-09 05:34:51</td>\n",
       "      <td>2017-05-09 05:40:04</td>\n",
       "      <td>4eec5a4a0d</td>\n",
       "      <td>31-35 ans</td>\n",
       "      <td>26 ans et plus /Pro</td>\n",
       "    </tr>\n",
       "    <tr>\n",
       "      <th>138</th>\n",
       "      <td>136babaf38c51e3ba2663318bb80f695</td>\n",
       "      <td>5</td>\n",
       "      <td>8</td>\n",
       "      <td>5</td>\n",
       "      <td>3</td>\n",
       "      <td>7</td>\n",
       "      <td>7</td>\n",
       "      <td>4</td>\n",
       "      <td>6</td>\n",
       "      <td>5</td>\n",
       "      <td>4</td>\n",
       "      <td>3</td>\n",
       "      <td>5</td>\n",
       "      <td>7</td>\n",
       "      <td>7</td>\n",
       "      <td>3</td>\n",
       "      <td>7</td>\n",
       "      <td>7</td>\n",
       "      <td>1</td>\n",
       "      <td>Strasbourgeois</td>\n",
       "      <td>autre</td>\n",
       "      <td>cadre, profession intellectuelle supéieure</td>\n",
       "      <td>2017-05-22 12:59:05</td>\n",
       "      <td>2017-05-22 13:15:01</td>\n",
       "      <td>4a1871ef0b</td>\n",
       "      <td>36-40 ans</td>\n",
       "      <td>26 ans et plus /Pro</td>\n",
       "    </tr>\n",
       "  </tbody>\n",
       "</table>\n",
       "<p>139 rows × 27 columns</p>\n",
       "</div>"
      ],
      "text/plain": [
       "                          ID_CANDIDAT  UTILITE_INNOVATION  \\\n",
       "0    20e16c47d2e631ed3d67a5cb768b7961                   5   \n",
       "1    f17779bb37039c14b6a68fed710951c7                   8   \n",
       "2    89c1404fb58fbd6a79e5afbde9bd860c                   3   \n",
       "3    280e96138330e2b25592ca206dcce5f9                   8   \n",
       "4    810101edc4e2d54199fc6049b0052711                   5   \n",
       "..                                ...                 ...   \n",
       "134  0f8e7b90608855a30d4754af7c65c6bb                   5   \n",
       "135  f45686806b730cccacadd6f6b8e3616a                   6   \n",
       "136  98e30c21e07151fa303f5de1d1564782                   6   \n",
       "137  3a1f074fed9b734213f794aab803c951                   7   \n",
       "138  136babaf38c51e3ba2663318bb80f695                   5   \n",
       "\n",
       "     INFORMATION_INNOVATION  INTERET_PARTICIPANT1  INTERET_PARTICIPANT2  \\\n",
       "0                         7                     6                     3   \n",
       "1                         8                     4                     3   \n",
       "2                         3                     2                     1   \n",
       "3                         7                     6                     7   \n",
       "4                         8                     4                     4   \n",
       "..                      ...                   ...                   ...   \n",
       "134                       5                     6                     4   \n",
       "135                       4                     7                     5   \n",
       "136                       7                     1                     4   \n",
       "137                       7                     6                     7   \n",
       "138                       8                     5                     3   \n",
       "\n",
       "     SATISFACTION1  SATISFACTION2  NETWORKING1  NETWORKING2  NETWORKING3  \\\n",
       "0                4              7            2            5            6   \n",
       "1                8              8            8            8            8   \n",
       "2                1              1            1            3            2   \n",
       "3                7              8            7            7            6   \n",
       "4                6              5            7            6            1   \n",
       "..             ...            ...          ...          ...          ...   \n",
       "134              1              4            6            4            1   \n",
       "135              6              6            7            6            6   \n",
       "136              6              5            1            1            1   \n",
       "137              6              4            7            6            6   \n",
       "138              7              7            4            6            5   \n",
       "\n",
       "     NETWORKING4  NETWORKING5  SELF_IMPROVEMENT1  SATISFACTION3  \\\n",
       "0              2            2                  2              5   \n",
       "1              8            8                  8              8   \n",
       "2              1            1                  2              1   \n",
       "3              8            8                  6              7   \n",
       "4              4            6                  1              5   \n",
       "..           ...          ...                ...            ...   \n",
       "134            4            1                  1              4   \n",
       "135            3            5                  3              6   \n",
       "136            1            2                  1              7   \n",
       "137            6            6                  7              7   \n",
       "138            4            3                  5              7   \n",
       "\n",
       "     SELF_IMPROVEMENT2  SATISFACTION4  SATISFACTION5  SATISFACTION6 GENRE  \\\n",
       "0                    5              6              5              6     1   \n",
       "1                    8              3              8              8     1   \n",
       "2                    2              6              3              2     1   \n",
       "3                    7              6              7              7     0   \n",
       "4                    5              7              6              8     1   \n",
       "..                 ...            ...            ...            ...   ...   \n",
       "134                  5              3              6              6     1   \n",
       "135                  7              6              6              6     0   \n",
       "136                  7              3              6              6     1   \n",
       "137                  7              6              5              6     0   \n",
       "138                  7              3              7              7     1   \n",
       "\n",
       "             Je vis                     Je suis.1  \\\n",
       "0    Strasbourgeois                         autre   \n",
       "1    Strasbourgeois  professionnel de l'industrie   \n",
       "2    Strasbourgeois                        hacker   \n",
       "3    Strasbourgeois                    partenaire   \n",
       "4    Strasbourgeois                         autre   \n",
       "..              ...                           ...   \n",
       "134  Strasbourgeois                         autre   \n",
       "135  Strasbourgeois                         autre   \n",
       "136  Strasbourgeois                  consommateur   \n",
       "137  Strasbourgeois                  organisateur   \n",
       "138  Strasbourgeois                         autre   \n",
       "\n",
       "                                       ACTIVITE     Start Date (UTC)  \\\n",
       "0                                      étudiant  2016-11-28 09:41:01   \n",
       "1                                       employé  2016-11-28 09:47:53   \n",
       "2    cadre, profession intellectuelle supéieure  2016-11-28 09:48:25   \n",
       "3    cadre, profession intellectuelle supéieure  2016-11-28 09:49:56   \n",
       "4    cadre, profession intellectuelle supéieure  2016-11-28 10:05:16   \n",
       "..                                          ...                  ...   \n",
       "134  cadre, profession intellectuelle supéieure  2017-04-28 13:51:36   \n",
       "135  cadre, profession intellectuelle supéieure  2017-04-27 12:18:23   \n",
       "136  cadre, profession intellectuelle supéieure  2017-05-04 11:10:33   \n",
       "137  cadre, profession intellectuelle supéieure  2017-05-09 05:34:51   \n",
       "138  cadre, profession intellectuelle supéieure  2017-05-22 12:59:05   \n",
       "\n",
       "       Submit Date (UTC)  Network ID        AGE        CATEGORIE_PRO  \n",
       "0    2016-11-28 09:44:41  133b0afb84  26-30 ans  26 ans et plus /Pro  \n",
       "1    2016-11-28 09:51:58  537b758514  26-30 ans  26 ans et plus /Pro  \n",
       "2    2016-11-28 09:52:14  537b758514  21-25 ans   15-25 ans/étudiant  \n",
       "3    2016-11-28 09:56:54  7423f90059  41-45 ans  26 ans et plus /Pro  \n",
       "4    2016-11-28 10:09:17  1603b9fb57  26-30 ans  26 ans et plus /Pro  \n",
       "..                   ...         ...        ...                  ...  \n",
       "134  2017-04-28 13:55:56  0e87204d64  26-30 ans  26 ans et plus /Pro  \n",
       "135  2017-04-28 15:48:48  0064fca37e  26-30 ans  26 ans et plus /Pro  \n",
       "136  2017-05-04 11:16:18  2001:660:4  31-35 ans  26 ans et plus /Pro  \n",
       "137  2017-05-09 05:40:04  4eec5a4a0d  31-35 ans  26 ans et plus /Pro  \n",
       "138  2017-05-22 13:15:01  4a1871ef0b  36-40 ans  26 ans et plus /Pro  \n",
       "\n",
       "[139 rows x 27 columns]"
      ]
     },
     "execution_count": 38,
     "metadata": {},
     "output_type": "execute_result"
    }
   ],
   "source": [
    "df_clean_renamed = df_clean_renamed.drop([\"Useless1\",\"Useless2\",\"Useless3\"],axis=\"columns\")\n",
    "df_clean_renamed"
   ]
  },
  {
   "cell_type": "markdown",
   "id": "b3034257",
   "metadata": {},
   "source": [
    "Pour l'enquète de satisfaction on a : \n",
    "\n",
    "SATISFACTION1 : Quand je participe à un hackathon, j’éprouve souvent une sensation de bien-être\n",
    "\n",
    "SATISFACTION2 : Quand je participe à un hackathon, ça m’absorbe complètement\n",
    "\n",
    "SATISFACTION3 : Globalement, je considère que participer à un projet du hackathon, ça vaut bien l’énergie que j’y consacre\n",
    "\n",
    "SATISFACTION4 : Par rapport à ce que j’en attends, je suis un peu déçu par les projets auxquels je participe\n",
    "attention elle s'interprete pas comme les autres.\n",
    "\n",
    "SATISFACTION5 : Globalement, je suis vraiment satisfait des projets auxquels j’ai participés\n",
    "\n",
    "SATISFACTION6 : Globalement, je suis vraiment satisfait des hackathons auxquels j’ai participés"
   ]
  },
  {
   "cell_type": "code",
   "execution_count": 51,
   "id": "858f476c",
   "metadata": {},
   "outputs": [
    {
     "name": "stdout",
     "output_type": "stream",
     "text": [
      "1 :  13.399280575539569\n",
      "2 :  14.370503597122301\n",
      "3 :  16.18705035971223\n",
      "4 :  8.417266187050359\n",
      "5 :  15.089928057553957\n",
      "6 :  16.241007194244602\n"
     ]
    }
   ],
   "source": [
    "print(\"1 : \",df_clean_renamed[\"SATISFACTION1\"].mean()/8*20),\n",
    "print(\"2 : \",df_clean_renamed[\"SATISFACTION2\"].mean()/8*20),\n",
    "print(\"3 : \",df_clean_renamed[\"SATISFACTION3\"].mean()/8*20),\n",
    "print(\"4 : \",df_clean_renamed[\"SATISFACTION4\"].mean()/8*20),\n",
    "print(\"5 : \",df_clean_renamed[\"SATISFACTION5\"].mean()/8*20),\n",
    "print(\"6 : \",df_clean_renamed[\"SATISFACTION6\"].mean()/8*20)\n",
    "\n",
    "# J'ai mis sur 20 pour que ca soit plus parlant\n",
    "# 3-4-5 se ressemble beaucoup comme question ce qui fait que les moyennes sont similaires\n",
    "# axe d'amélioration du sondage cad + différencié les questions"
   ]
  },
  {
   "cell_type": "markdown",
   "id": "e0e27082",
   "metadata": {},
   "source": [
    "### Premier résultat :\n",
    "\n",
    "1) Globalement les candidats sont satisfait du Hackathon et des projets (SATISFACTION3,SATISFACTION5 et SATISFACTION6 avec des moyennes suppérieures à 15/20)\n",
    "\n",
    "2) La question 1 et 2 ont moins de succès, les participants se sentent \"absobé\" 14/20 mais la sensation de bien-être est noté en moyenne à 13/20 (apres est ce vraiment ce qui est recherché)"
   ]
  },
  {
   "cell_type": "code",
   "execution_count": 55,
   "id": "c211fdb0",
   "metadata": {},
   "outputs": [
    {
     "name": "stdout",
     "output_type": "stream",
     "text": [
      "SATIS5\n",
      "7    38\n",
      "6    37\n",
      "8    23\n",
      "5    17\n",
      "4    14\n",
      "3     7\n",
      "2     2\n",
      "1     1\n",
      "Name: SATISFACTION5, dtype: int64\n",
      "SATIS6\n",
      "7    46\n",
      "6    37\n",
      "8    34\n",
      "5    10\n",
      "4     7\n",
      "2     2\n",
      "1     2\n",
      "3     1\n",
      "Name: SATISFACTION6, dtype: int64\n"
     ]
    }
   ],
   "source": [
    "print(\"SATIS5\"),\n",
    "print(df_clean_renamed[\"SATISFACTION5\"].value_counts()),\n",
    "print(\"SATIS6\"),\n",
    "print(df_clean_renamed[\"SATISFACTION6\"].value_counts())"
   ]
  },
  {
   "cell_type": "markdown",
   "id": "b0c059b8",
   "metadata": {},
   "source": [
    "### 1) Créer une nouvelle variable SATISFACTION_GLOBALE la moyenne des 6 (sauf SATISFACTION4)"
   ]
  },
  {
   "cell_type": "code",
   "execution_count": 71,
   "id": "b7e9bc30",
   "metadata": {},
   "outputs": [],
   "source": [
    "df_clean_renamed[\"SATISFACTION_GLOBAl\"]= ((df_clean_renamed[\"SATISFACTION1\"]+df_clean_renamed[\"SATISFACTION2\"]\n",
    "                                          +df_clean_renamed[\"SATISFACTION3\"]+df_clean_renamed[\"SATISFACTION5\"]+df_clean_renamed[\"SATISFACTION6\"])/5/8*20)"
   ]
  },
  {
   "cell_type": "code",
   "execution_count": 72,
   "id": "89cc368d",
   "metadata": {},
   "outputs": [
    {
     "data": {
      "text/plain": [
       "15.5    15\n",
       "16.5    13\n",
       "17.5    12\n",
       "16.0    12\n",
       "15.0    11\n",
       "14.5     9\n",
       "14.0     9\n",
       "17.0     9\n",
       "13.5     6\n",
       "18.0     6\n",
       "12.0     5\n",
       "18.5     5\n",
       "13.0     4\n",
       "11.0     3\n",
       "20.0     3\n",
       "19.5     2\n",
       "4.0      2\n",
       "10.0     2\n",
       "10.5     2\n",
       "11.5     2\n",
       "7.0      1\n",
       "9.0      1\n",
       "19.0     1\n",
       "9.5      1\n",
       "8.5      1\n",
       "6.5      1\n",
       "12.5     1\n",
       "Name: SATISFACTION_GLOBAl, dtype: int64"
      ]
     },
     "execution_count": 72,
     "metadata": {},
     "output_type": "execute_result"
    }
   ],
   "source": [
    "df_clean_renamed[\"SATISFACTION_GLOBAl\"].value_counts()"
   ]
  },
  {
   "cell_type": "code",
   "execution_count": 77,
   "id": "060218dd",
   "metadata": {},
   "outputs": [
    {
     "data": {
      "text/plain": [
       "15.057553956834532"
      ]
     },
     "execution_count": 77,
     "metadata": {},
     "output_type": "execute_result"
    }
   ],
   "source": [
    "df_clean_renamed[\"SATISFACTION_GLOBAl\"].mean()"
   ]
  },
  {
   "cell_type": "code",
   "execution_count": 81,
   "id": "43b68b7a",
   "metadata": {},
   "outputs": [
    {
     "data": {
      "application/vnd.plotly.v1+json": {
       "config": {
        "plotlyServerURL": "https://plot.ly"
       },
       "data": [
        {
         "alignmentgroup": "True",
         "bingroup": "x",
         "hovertemplate": "GENRE=1<br>SATISFACTION_GLOBAl=%{x}<br>count=%{y}<extra></extra>",
         "legendgroup": "1",
         "marker": {
          "color": "#C0F1FB",
          "pattern": {
           "shape": ""
          }
         },
         "name": "1",
         "offsetgroup": "1",
         "orientation": "v",
         "showlegend": true,
         "type": "histogram",
         "x": [
          13.5,
          20,
          4,
          15,
          14,
          16,
          17,
          14.5,
          18,
          14,
          11,
          16.5,
          17.5,
          11,
          14,
          12,
          19,
          14.5,
          14,
          18,
          17,
          13.5,
          14.5,
          16.5,
          17.5,
          12,
          15.5,
          15,
          17,
          17.5,
          16,
          16,
          12,
          16.5,
          15,
          14.5,
          17.5,
          15,
          13,
          15.5,
          14.5,
          18,
          10,
          15.5,
          18.5,
          16,
          15,
          12,
          9.5,
          16.5,
          19.5,
          15.5,
          15.5,
          18.5,
          11.5,
          10,
          16.5,
          14,
          15.5,
          15,
          11.5,
          16.5,
          18.5,
          14,
          16.5,
          16.5,
          16,
          15.5,
          12,
          13.5,
          13.5,
          15.5,
          15,
          14.5,
          13,
          15.5,
          16,
          18,
          16.5,
          18.5,
          16.5,
          13,
          9,
          14,
          16,
          16.5,
          17.5,
          17,
          14,
          13.5,
          16,
          17.5,
          15.5,
          17,
          13.5,
          10.5,
          15,
          17.5
         ],
         "xaxis": "x",
         "yaxis": "y"
        },
        {
         "alignmentgroup": "True",
         "bingroup": "x",
         "hovertemplate": "GENRE=0<br>SATISFACTION_GLOBAl=%{x}<br>count=%{y}<extra></extra>",
         "legendgroup": "0",
         "marker": {
          "color": "#F6C0FB",
          "pattern": {
           "shape": ""
          }
         },
         "name": "0",
         "offsetgroup": "0",
         "orientation": "v",
         "showlegend": true,
         "type": "histogram",
         "x": [
          18,
          20,
          4,
          11,
          6.5,
          15.5,
          15.5,
          17.5,
          15,
          15.5,
          17.5,
          15.5,
          14.5,
          17,
          17.5,
          8.5,
          10.5,
          17,
          16,
          14.5,
          18.5,
          17,
          13,
          15.5,
          15,
          18,
          17.5,
          16,
          20,
          16,
          17.5,
          16,
          16.5,
          19.5,
          14.5,
          16.5,
          17,
          7,
          12.5,
          15,
          14
         ],
         "xaxis": "x",
         "yaxis": "y"
        }
       ],
       "layout": {
        "barmode": "relative",
        "height": 600,
        "legend": {
         "title": {
          "text": "GENRE"
         },
         "tracegroupgap": 0
        },
        "template": {
         "data": {
          "bar": [
           {
            "error_x": {
             "color": "rgb(36,36,36)"
            },
            "error_y": {
             "color": "rgb(36,36,36)"
            },
            "marker": {
             "line": {
              "color": "white",
              "width": 0.5
             },
             "pattern": {
              "fillmode": "overlay",
              "size": 10,
              "solidity": 0.2
             }
            },
            "type": "bar"
           }
          ],
          "barpolar": [
           {
            "marker": {
             "line": {
              "color": "white",
              "width": 0.5
             },
             "pattern": {
              "fillmode": "overlay",
              "size": 10,
              "solidity": 0.2
             }
            },
            "type": "barpolar"
           }
          ],
          "carpet": [
           {
            "aaxis": {
             "endlinecolor": "rgb(36,36,36)",
             "gridcolor": "white",
             "linecolor": "white",
             "minorgridcolor": "white",
             "startlinecolor": "rgb(36,36,36)"
            },
            "baxis": {
             "endlinecolor": "rgb(36,36,36)",
             "gridcolor": "white",
             "linecolor": "white",
             "minorgridcolor": "white",
             "startlinecolor": "rgb(36,36,36)"
            },
            "type": "carpet"
           }
          ],
          "choropleth": [
           {
            "colorbar": {
             "outlinewidth": 1,
             "tickcolor": "rgb(36,36,36)",
             "ticks": "outside"
            },
            "type": "choropleth"
           }
          ],
          "contour": [
           {
            "colorbar": {
             "outlinewidth": 1,
             "tickcolor": "rgb(36,36,36)",
             "ticks": "outside"
            },
            "colorscale": [
             [
              0,
              "#440154"
             ],
             [
              0.1111111111111111,
              "#482878"
             ],
             [
              0.2222222222222222,
              "#3e4989"
             ],
             [
              0.3333333333333333,
              "#31688e"
             ],
             [
              0.4444444444444444,
              "#26828e"
             ],
             [
              0.5555555555555556,
              "#1f9e89"
             ],
             [
              0.6666666666666666,
              "#35b779"
             ],
             [
              0.7777777777777778,
              "#6ece58"
             ],
             [
              0.8888888888888888,
              "#b5de2b"
             ],
             [
              1,
              "#fde725"
             ]
            ],
            "type": "contour"
           }
          ],
          "contourcarpet": [
           {
            "colorbar": {
             "outlinewidth": 1,
             "tickcolor": "rgb(36,36,36)",
             "ticks": "outside"
            },
            "type": "contourcarpet"
           }
          ],
          "heatmap": [
           {
            "colorbar": {
             "outlinewidth": 1,
             "tickcolor": "rgb(36,36,36)",
             "ticks": "outside"
            },
            "colorscale": [
             [
              0,
              "#440154"
             ],
             [
              0.1111111111111111,
              "#482878"
             ],
             [
              0.2222222222222222,
              "#3e4989"
             ],
             [
              0.3333333333333333,
              "#31688e"
             ],
             [
              0.4444444444444444,
              "#26828e"
             ],
             [
              0.5555555555555556,
              "#1f9e89"
             ],
             [
              0.6666666666666666,
              "#35b779"
             ],
             [
              0.7777777777777778,
              "#6ece58"
             ],
             [
              0.8888888888888888,
              "#b5de2b"
             ],
             [
              1,
              "#fde725"
             ]
            ],
            "type": "heatmap"
           }
          ],
          "heatmapgl": [
           {
            "colorbar": {
             "outlinewidth": 1,
             "tickcolor": "rgb(36,36,36)",
             "ticks": "outside"
            },
            "colorscale": [
             [
              0,
              "#440154"
             ],
             [
              0.1111111111111111,
              "#482878"
             ],
             [
              0.2222222222222222,
              "#3e4989"
             ],
             [
              0.3333333333333333,
              "#31688e"
             ],
             [
              0.4444444444444444,
              "#26828e"
             ],
             [
              0.5555555555555556,
              "#1f9e89"
             ],
             [
              0.6666666666666666,
              "#35b779"
             ],
             [
              0.7777777777777778,
              "#6ece58"
             ],
             [
              0.8888888888888888,
              "#b5de2b"
             ],
             [
              1,
              "#fde725"
             ]
            ],
            "type": "heatmapgl"
           }
          ],
          "histogram": [
           {
            "marker": {
             "line": {
              "color": "white",
              "width": 0.6
             }
            },
            "type": "histogram"
           }
          ],
          "histogram2d": [
           {
            "colorbar": {
             "outlinewidth": 1,
             "tickcolor": "rgb(36,36,36)",
             "ticks": "outside"
            },
            "colorscale": [
             [
              0,
              "#440154"
             ],
             [
              0.1111111111111111,
              "#482878"
             ],
             [
              0.2222222222222222,
              "#3e4989"
             ],
             [
              0.3333333333333333,
              "#31688e"
             ],
             [
              0.4444444444444444,
              "#26828e"
             ],
             [
              0.5555555555555556,
              "#1f9e89"
             ],
             [
              0.6666666666666666,
              "#35b779"
             ],
             [
              0.7777777777777778,
              "#6ece58"
             ],
             [
              0.8888888888888888,
              "#b5de2b"
             ],
             [
              1,
              "#fde725"
             ]
            ],
            "type": "histogram2d"
           }
          ],
          "histogram2dcontour": [
           {
            "colorbar": {
             "outlinewidth": 1,
             "tickcolor": "rgb(36,36,36)",
             "ticks": "outside"
            },
            "colorscale": [
             [
              0,
              "#440154"
             ],
             [
              0.1111111111111111,
              "#482878"
             ],
             [
              0.2222222222222222,
              "#3e4989"
             ],
             [
              0.3333333333333333,
              "#31688e"
             ],
             [
              0.4444444444444444,
              "#26828e"
             ],
             [
              0.5555555555555556,
              "#1f9e89"
             ],
             [
              0.6666666666666666,
              "#35b779"
             ],
             [
              0.7777777777777778,
              "#6ece58"
             ],
             [
              0.8888888888888888,
              "#b5de2b"
             ],
             [
              1,
              "#fde725"
             ]
            ],
            "type": "histogram2dcontour"
           }
          ],
          "mesh3d": [
           {
            "colorbar": {
             "outlinewidth": 1,
             "tickcolor": "rgb(36,36,36)",
             "ticks": "outside"
            },
            "type": "mesh3d"
           }
          ],
          "parcoords": [
           {
            "line": {
             "colorbar": {
              "outlinewidth": 1,
              "tickcolor": "rgb(36,36,36)",
              "ticks": "outside"
             }
            },
            "type": "parcoords"
           }
          ],
          "pie": [
           {
            "automargin": true,
            "type": "pie"
           }
          ],
          "scatter": [
           {
            "marker": {
             "colorbar": {
              "outlinewidth": 1,
              "tickcolor": "rgb(36,36,36)",
              "ticks": "outside"
             }
            },
            "type": "scatter"
           }
          ],
          "scatter3d": [
           {
            "line": {
             "colorbar": {
              "outlinewidth": 1,
              "tickcolor": "rgb(36,36,36)",
              "ticks": "outside"
             }
            },
            "marker": {
             "colorbar": {
              "outlinewidth": 1,
              "tickcolor": "rgb(36,36,36)",
              "ticks": "outside"
             }
            },
            "type": "scatter3d"
           }
          ],
          "scattercarpet": [
           {
            "marker": {
             "colorbar": {
              "outlinewidth": 1,
              "tickcolor": "rgb(36,36,36)",
              "ticks": "outside"
             }
            },
            "type": "scattercarpet"
           }
          ],
          "scattergeo": [
           {
            "marker": {
             "colorbar": {
              "outlinewidth": 1,
              "tickcolor": "rgb(36,36,36)",
              "ticks": "outside"
             }
            },
            "type": "scattergeo"
           }
          ],
          "scattergl": [
           {
            "marker": {
             "colorbar": {
              "outlinewidth": 1,
              "tickcolor": "rgb(36,36,36)",
              "ticks": "outside"
             }
            },
            "type": "scattergl"
           }
          ],
          "scattermapbox": [
           {
            "marker": {
             "colorbar": {
              "outlinewidth": 1,
              "tickcolor": "rgb(36,36,36)",
              "ticks": "outside"
             }
            },
            "type": "scattermapbox"
           }
          ],
          "scatterpolar": [
           {
            "marker": {
             "colorbar": {
              "outlinewidth": 1,
              "tickcolor": "rgb(36,36,36)",
              "ticks": "outside"
             }
            },
            "type": "scatterpolar"
           }
          ],
          "scatterpolargl": [
           {
            "marker": {
             "colorbar": {
              "outlinewidth": 1,
              "tickcolor": "rgb(36,36,36)",
              "ticks": "outside"
             }
            },
            "type": "scatterpolargl"
           }
          ],
          "scatterternary": [
           {
            "marker": {
             "colorbar": {
              "outlinewidth": 1,
              "tickcolor": "rgb(36,36,36)",
              "ticks": "outside"
             }
            },
            "type": "scatterternary"
           }
          ],
          "surface": [
           {
            "colorbar": {
             "outlinewidth": 1,
             "tickcolor": "rgb(36,36,36)",
             "ticks": "outside"
            },
            "colorscale": [
             [
              0,
              "#440154"
             ],
             [
              0.1111111111111111,
              "#482878"
             ],
             [
              0.2222222222222222,
              "#3e4989"
             ],
             [
              0.3333333333333333,
              "#31688e"
             ],
             [
              0.4444444444444444,
              "#26828e"
             ],
             [
              0.5555555555555556,
              "#1f9e89"
             ],
             [
              0.6666666666666666,
              "#35b779"
             ],
             [
              0.7777777777777778,
              "#6ece58"
             ],
             [
              0.8888888888888888,
              "#b5de2b"
             ],
             [
              1,
              "#fde725"
             ]
            ],
            "type": "surface"
           }
          ],
          "table": [
           {
            "cells": {
             "fill": {
              "color": "rgb(237,237,237)"
             },
             "line": {
              "color": "white"
             }
            },
            "header": {
             "fill": {
              "color": "rgb(217,217,217)"
             },
             "line": {
              "color": "white"
             }
            },
            "type": "table"
           }
          ]
         },
         "layout": {
          "annotationdefaults": {
           "arrowhead": 0,
           "arrowwidth": 1
          },
          "autotypenumbers": "strict",
          "coloraxis": {
           "colorbar": {
            "outlinewidth": 1,
            "tickcolor": "rgb(36,36,36)",
            "ticks": "outside"
           }
          },
          "colorscale": {
           "diverging": [
            [
             0,
             "rgb(103,0,31)"
            ],
            [
             0.1,
             "rgb(178,24,43)"
            ],
            [
             0.2,
             "rgb(214,96,77)"
            ],
            [
             0.3,
             "rgb(244,165,130)"
            ],
            [
             0.4,
             "rgb(253,219,199)"
            ],
            [
             0.5,
             "rgb(247,247,247)"
            ],
            [
             0.6,
             "rgb(209,229,240)"
            ],
            [
             0.7,
             "rgb(146,197,222)"
            ],
            [
             0.8,
             "rgb(67,147,195)"
            ],
            [
             0.9,
             "rgb(33,102,172)"
            ],
            [
             1,
             "rgb(5,48,97)"
            ]
           ],
           "sequential": [
            [
             0,
             "#440154"
            ],
            [
             0.1111111111111111,
             "#482878"
            ],
            [
             0.2222222222222222,
             "#3e4989"
            ],
            [
             0.3333333333333333,
             "#31688e"
            ],
            [
             0.4444444444444444,
             "#26828e"
            ],
            [
             0.5555555555555556,
             "#1f9e89"
            ],
            [
             0.6666666666666666,
             "#35b779"
            ],
            [
             0.7777777777777778,
             "#6ece58"
            ],
            [
             0.8888888888888888,
             "#b5de2b"
            ],
            [
             1,
             "#fde725"
            ]
           ],
           "sequentialminus": [
            [
             0,
             "#440154"
            ],
            [
             0.1111111111111111,
             "#482878"
            ],
            [
             0.2222222222222222,
             "#3e4989"
            ],
            [
             0.3333333333333333,
             "#31688e"
            ],
            [
             0.4444444444444444,
             "#26828e"
            ],
            [
             0.5555555555555556,
             "#1f9e89"
            ],
            [
             0.6666666666666666,
             "#35b779"
            ],
            [
             0.7777777777777778,
             "#6ece58"
            ],
            [
             0.8888888888888888,
             "#b5de2b"
            ],
            [
             1,
             "#fde725"
            ]
           ]
          },
          "colorway": [
           "#1F77B4",
           "#FF7F0E",
           "#2CA02C",
           "#D62728",
           "#9467BD",
           "#8C564B",
           "#E377C2",
           "#7F7F7F",
           "#BCBD22",
           "#17BECF"
          ],
          "font": {
           "color": "rgb(36,36,36)"
          },
          "geo": {
           "bgcolor": "white",
           "lakecolor": "white",
           "landcolor": "white",
           "showlakes": true,
           "showland": true,
           "subunitcolor": "white"
          },
          "hoverlabel": {
           "align": "left"
          },
          "hovermode": "closest",
          "mapbox": {
           "style": "light"
          },
          "paper_bgcolor": "white",
          "plot_bgcolor": "white",
          "polar": {
           "angularaxis": {
            "gridcolor": "rgb(232,232,232)",
            "linecolor": "rgb(36,36,36)",
            "showgrid": false,
            "showline": true,
            "ticks": "outside"
           },
           "bgcolor": "white",
           "radialaxis": {
            "gridcolor": "rgb(232,232,232)",
            "linecolor": "rgb(36,36,36)",
            "showgrid": false,
            "showline": true,
            "ticks": "outside"
           }
          },
          "scene": {
           "xaxis": {
            "backgroundcolor": "white",
            "gridcolor": "rgb(232,232,232)",
            "gridwidth": 2,
            "linecolor": "rgb(36,36,36)",
            "showbackground": true,
            "showgrid": false,
            "showline": true,
            "ticks": "outside",
            "zeroline": false,
            "zerolinecolor": "rgb(36,36,36)"
           },
           "yaxis": {
            "backgroundcolor": "white",
            "gridcolor": "rgb(232,232,232)",
            "gridwidth": 2,
            "linecolor": "rgb(36,36,36)",
            "showbackground": true,
            "showgrid": false,
            "showline": true,
            "ticks": "outside",
            "zeroline": false,
            "zerolinecolor": "rgb(36,36,36)"
           },
           "zaxis": {
            "backgroundcolor": "white",
            "gridcolor": "rgb(232,232,232)",
            "gridwidth": 2,
            "linecolor": "rgb(36,36,36)",
            "showbackground": true,
            "showgrid": false,
            "showline": true,
            "ticks": "outside",
            "zeroline": false,
            "zerolinecolor": "rgb(36,36,36)"
           }
          },
          "shapedefaults": {
           "fillcolor": "black",
           "line": {
            "width": 0
           },
           "opacity": 0.3
          },
          "ternary": {
           "aaxis": {
            "gridcolor": "rgb(232,232,232)",
            "linecolor": "rgb(36,36,36)",
            "showgrid": false,
            "showline": true,
            "ticks": "outside"
           },
           "baxis": {
            "gridcolor": "rgb(232,232,232)",
            "linecolor": "rgb(36,36,36)",
            "showgrid": false,
            "showline": true,
            "ticks": "outside"
           },
           "bgcolor": "white",
           "caxis": {
            "gridcolor": "rgb(232,232,232)",
            "linecolor": "rgb(36,36,36)",
            "showgrid": false,
            "showline": true,
            "ticks": "outside"
           }
          },
          "title": {
           "x": 0.05
          },
          "xaxis": {
           "automargin": true,
           "gridcolor": "rgb(232,232,232)",
           "linecolor": "rgb(36,36,36)",
           "showgrid": false,
           "showline": true,
           "ticks": "outside",
           "title": {
            "standoff": 15
           },
           "zeroline": false,
           "zerolinecolor": "rgb(36,36,36)"
          },
          "yaxis": {
           "automargin": true,
           "gridcolor": "rgb(232,232,232)",
           "linecolor": "rgb(36,36,36)",
           "showgrid": false,
           "showline": true,
           "ticks": "outside",
           "title": {
            "standoff": 15
           },
           "zeroline": false,
           "zerolinecolor": "rgb(36,36,36)"
          }
         }
        },
        "title": {
         "text": "Satisfaction des participants en fonction de leur sexe"
        },
        "width": 750,
        "xaxis": {
         "anchor": "y",
         "domain": [
          0,
          1
         ],
         "title": {
          "text": "SATISFACTION_GLOBAl"
         }
        },
        "yaxis": {
         "anchor": "x",
         "domain": [
          0,
          1
         ],
         "title": {
          "text": "count"
         }
        }
       }
      },
      "text/html": [
       "<div>                            <div id=\"144c387a-0cb2-4ed3-a852-532d593e3726\" class=\"plotly-graph-div\" style=\"height:600px; width:750px;\"></div>            <script type=\"text/javascript\">                require([\"plotly\"], function(Plotly) {                    window.PLOTLYENV=window.PLOTLYENV || {};                                    if (document.getElementById(\"144c387a-0cb2-4ed3-a852-532d593e3726\")) {                    Plotly.newPlot(                        \"144c387a-0cb2-4ed3-a852-532d593e3726\",                        [{\"alignmentgroup\":\"True\",\"bingroup\":\"x\",\"hovertemplate\":\"GENRE=1<br>SATISFACTION_GLOBAl=%{x}<br>count=%{y}<extra></extra>\",\"legendgroup\":\"1\",\"marker\":{\"color\":\"#C0F1FB\",\"pattern\":{\"shape\":\"\"}},\"name\":\"1\",\"offsetgroup\":\"1\",\"orientation\":\"v\",\"showlegend\":true,\"x\":[13.5,20.0,4.0,15.0,14.0,16.0,17.0,14.5,18.0,14.0,11.0,16.5,17.5,11.0,14.0,12.0,19.0,14.5,14.0,18.0,17.0,13.5,14.5,16.5,17.5,12.0,15.5,15.0,17.0,17.5,16.0,16.0,12.0,16.5,15.0,14.5,17.5,15.0,13.0,15.5,14.5,18.0,10.0,15.5,18.5,16.0,15.0,12.0,9.5,16.5,19.5,15.5,15.5,18.5,11.5,10.0,16.5,14.0,15.5,15.0,11.5,16.5,18.5,14.0,16.5,16.5,16.0,15.5,12.0,13.5,13.5,15.5,15.0,14.5,13.0,15.5,16.0,18.0,16.5,18.5,16.5,13.0,9.0,14.0,16.0,16.5,17.5,17.0,14.0,13.5,16.0,17.5,15.5,17.0,13.5,10.5,15.0,17.5],\"xaxis\":\"x\",\"yaxis\":\"y\",\"type\":\"histogram\"},{\"alignmentgroup\":\"True\",\"bingroup\":\"x\",\"hovertemplate\":\"GENRE=0<br>SATISFACTION_GLOBAl=%{x}<br>count=%{y}<extra></extra>\",\"legendgroup\":\"0\",\"marker\":{\"color\":\"#F6C0FB\",\"pattern\":{\"shape\":\"\"}},\"name\":\"0\",\"offsetgroup\":\"0\",\"orientation\":\"v\",\"showlegend\":true,\"x\":[18.0,20.0,4.0,11.0,6.5,15.5,15.5,17.5,15.0,15.5,17.5,15.5,14.5,17.0,17.5,8.5,10.5,17.0,16.0,14.5,18.5,17.0,13.0,15.5,15.0,18.0,17.5,16.0,20.0,16.0,17.5,16.0,16.5,19.5,14.5,16.5,17.0,7.0,12.5,15.0,14.0],\"xaxis\":\"x\",\"yaxis\":\"y\",\"type\":\"histogram\"}],                        {\"template\":{\"data\":{\"barpolar\":[{\"marker\":{\"line\":{\"color\":\"white\",\"width\":0.5},\"pattern\":{\"fillmode\":\"overlay\",\"size\":10,\"solidity\":0.2}},\"type\":\"barpolar\"}],\"bar\":[{\"error_x\":{\"color\":\"rgb(36,36,36)\"},\"error_y\":{\"color\":\"rgb(36,36,36)\"},\"marker\":{\"line\":{\"color\":\"white\",\"width\":0.5},\"pattern\":{\"fillmode\":\"overlay\",\"size\":10,\"solidity\":0.2}},\"type\":\"bar\"}],\"carpet\":[{\"aaxis\":{\"endlinecolor\":\"rgb(36,36,36)\",\"gridcolor\":\"white\",\"linecolor\":\"white\",\"minorgridcolor\":\"white\",\"startlinecolor\":\"rgb(36,36,36)\"},\"baxis\":{\"endlinecolor\":\"rgb(36,36,36)\",\"gridcolor\":\"white\",\"linecolor\":\"white\",\"minorgridcolor\":\"white\",\"startlinecolor\":\"rgb(36,36,36)\"},\"type\":\"carpet\"}],\"choropleth\":[{\"colorbar\":{\"outlinewidth\":1,\"tickcolor\":\"rgb(36,36,36)\",\"ticks\":\"outside\"},\"type\":\"choropleth\"}],\"contourcarpet\":[{\"colorbar\":{\"outlinewidth\":1,\"tickcolor\":\"rgb(36,36,36)\",\"ticks\":\"outside\"},\"type\":\"contourcarpet\"}],\"contour\":[{\"colorbar\":{\"outlinewidth\":1,\"tickcolor\":\"rgb(36,36,36)\",\"ticks\":\"outside\"},\"colorscale\":[[0.0,\"#440154\"],[0.1111111111111111,\"#482878\"],[0.2222222222222222,\"#3e4989\"],[0.3333333333333333,\"#31688e\"],[0.4444444444444444,\"#26828e\"],[0.5555555555555556,\"#1f9e89\"],[0.6666666666666666,\"#35b779\"],[0.7777777777777778,\"#6ece58\"],[0.8888888888888888,\"#b5de2b\"],[1.0,\"#fde725\"]],\"type\":\"contour\"}],\"heatmapgl\":[{\"colorbar\":{\"outlinewidth\":1,\"tickcolor\":\"rgb(36,36,36)\",\"ticks\":\"outside\"},\"colorscale\":[[0.0,\"#440154\"],[0.1111111111111111,\"#482878\"],[0.2222222222222222,\"#3e4989\"],[0.3333333333333333,\"#31688e\"],[0.4444444444444444,\"#26828e\"],[0.5555555555555556,\"#1f9e89\"],[0.6666666666666666,\"#35b779\"],[0.7777777777777778,\"#6ece58\"],[0.8888888888888888,\"#b5de2b\"],[1.0,\"#fde725\"]],\"type\":\"heatmapgl\"}],\"heatmap\":[{\"colorbar\":{\"outlinewidth\":1,\"tickcolor\":\"rgb(36,36,36)\",\"ticks\":\"outside\"},\"colorscale\":[[0.0,\"#440154\"],[0.1111111111111111,\"#482878\"],[0.2222222222222222,\"#3e4989\"],[0.3333333333333333,\"#31688e\"],[0.4444444444444444,\"#26828e\"],[0.5555555555555556,\"#1f9e89\"],[0.6666666666666666,\"#35b779\"],[0.7777777777777778,\"#6ece58\"],[0.8888888888888888,\"#b5de2b\"],[1.0,\"#fde725\"]],\"type\":\"heatmap\"}],\"histogram2dcontour\":[{\"colorbar\":{\"outlinewidth\":1,\"tickcolor\":\"rgb(36,36,36)\",\"ticks\":\"outside\"},\"colorscale\":[[0.0,\"#440154\"],[0.1111111111111111,\"#482878\"],[0.2222222222222222,\"#3e4989\"],[0.3333333333333333,\"#31688e\"],[0.4444444444444444,\"#26828e\"],[0.5555555555555556,\"#1f9e89\"],[0.6666666666666666,\"#35b779\"],[0.7777777777777778,\"#6ece58\"],[0.8888888888888888,\"#b5de2b\"],[1.0,\"#fde725\"]],\"type\":\"histogram2dcontour\"}],\"histogram2d\":[{\"colorbar\":{\"outlinewidth\":1,\"tickcolor\":\"rgb(36,36,36)\",\"ticks\":\"outside\"},\"colorscale\":[[0.0,\"#440154\"],[0.1111111111111111,\"#482878\"],[0.2222222222222222,\"#3e4989\"],[0.3333333333333333,\"#31688e\"],[0.4444444444444444,\"#26828e\"],[0.5555555555555556,\"#1f9e89\"],[0.6666666666666666,\"#35b779\"],[0.7777777777777778,\"#6ece58\"],[0.8888888888888888,\"#b5de2b\"],[1.0,\"#fde725\"]],\"type\":\"histogram2d\"}],\"histogram\":[{\"marker\":{\"line\":{\"color\":\"white\",\"width\":0.6}},\"type\":\"histogram\"}],\"mesh3d\":[{\"colorbar\":{\"outlinewidth\":1,\"tickcolor\":\"rgb(36,36,36)\",\"ticks\":\"outside\"},\"type\":\"mesh3d\"}],\"parcoords\":[{\"line\":{\"colorbar\":{\"outlinewidth\":1,\"tickcolor\":\"rgb(36,36,36)\",\"ticks\":\"outside\"}},\"type\":\"parcoords\"}],\"pie\":[{\"automargin\":true,\"type\":\"pie\"}],\"scatter3d\":[{\"line\":{\"colorbar\":{\"outlinewidth\":1,\"tickcolor\":\"rgb(36,36,36)\",\"ticks\":\"outside\"}},\"marker\":{\"colorbar\":{\"outlinewidth\":1,\"tickcolor\":\"rgb(36,36,36)\",\"ticks\":\"outside\"}},\"type\":\"scatter3d\"}],\"scattercarpet\":[{\"marker\":{\"colorbar\":{\"outlinewidth\":1,\"tickcolor\":\"rgb(36,36,36)\",\"ticks\":\"outside\"}},\"type\":\"scattercarpet\"}],\"scattergeo\":[{\"marker\":{\"colorbar\":{\"outlinewidth\":1,\"tickcolor\":\"rgb(36,36,36)\",\"ticks\":\"outside\"}},\"type\":\"scattergeo\"}],\"scattergl\":[{\"marker\":{\"colorbar\":{\"outlinewidth\":1,\"tickcolor\":\"rgb(36,36,36)\",\"ticks\":\"outside\"}},\"type\":\"scattergl\"}],\"scattermapbox\":[{\"marker\":{\"colorbar\":{\"outlinewidth\":1,\"tickcolor\":\"rgb(36,36,36)\",\"ticks\":\"outside\"}},\"type\":\"scattermapbox\"}],\"scatterpolargl\":[{\"marker\":{\"colorbar\":{\"outlinewidth\":1,\"tickcolor\":\"rgb(36,36,36)\",\"ticks\":\"outside\"}},\"type\":\"scatterpolargl\"}],\"scatterpolar\":[{\"marker\":{\"colorbar\":{\"outlinewidth\":1,\"tickcolor\":\"rgb(36,36,36)\",\"ticks\":\"outside\"}},\"type\":\"scatterpolar\"}],\"scatter\":[{\"marker\":{\"colorbar\":{\"outlinewidth\":1,\"tickcolor\":\"rgb(36,36,36)\",\"ticks\":\"outside\"}},\"type\":\"scatter\"}],\"scatterternary\":[{\"marker\":{\"colorbar\":{\"outlinewidth\":1,\"tickcolor\":\"rgb(36,36,36)\",\"ticks\":\"outside\"}},\"type\":\"scatterternary\"}],\"surface\":[{\"colorbar\":{\"outlinewidth\":1,\"tickcolor\":\"rgb(36,36,36)\",\"ticks\":\"outside\"},\"colorscale\":[[0.0,\"#440154\"],[0.1111111111111111,\"#482878\"],[0.2222222222222222,\"#3e4989\"],[0.3333333333333333,\"#31688e\"],[0.4444444444444444,\"#26828e\"],[0.5555555555555556,\"#1f9e89\"],[0.6666666666666666,\"#35b779\"],[0.7777777777777778,\"#6ece58\"],[0.8888888888888888,\"#b5de2b\"],[1.0,\"#fde725\"]],\"type\":\"surface\"}],\"table\":[{\"cells\":{\"fill\":{\"color\":\"rgb(237,237,237)\"},\"line\":{\"color\":\"white\"}},\"header\":{\"fill\":{\"color\":\"rgb(217,217,217)\"},\"line\":{\"color\":\"white\"}},\"type\":\"table\"}]},\"layout\":{\"annotationdefaults\":{\"arrowhead\":0,\"arrowwidth\":1},\"autotypenumbers\":\"strict\",\"coloraxis\":{\"colorbar\":{\"outlinewidth\":1,\"tickcolor\":\"rgb(36,36,36)\",\"ticks\":\"outside\"}},\"colorscale\":{\"diverging\":[[0.0,\"rgb(103,0,31)\"],[0.1,\"rgb(178,24,43)\"],[0.2,\"rgb(214,96,77)\"],[0.3,\"rgb(244,165,130)\"],[0.4,\"rgb(253,219,199)\"],[0.5,\"rgb(247,247,247)\"],[0.6,\"rgb(209,229,240)\"],[0.7,\"rgb(146,197,222)\"],[0.8,\"rgb(67,147,195)\"],[0.9,\"rgb(33,102,172)\"],[1.0,\"rgb(5,48,97)\"]],\"sequential\":[[0.0,\"#440154\"],[0.1111111111111111,\"#482878\"],[0.2222222222222222,\"#3e4989\"],[0.3333333333333333,\"#31688e\"],[0.4444444444444444,\"#26828e\"],[0.5555555555555556,\"#1f9e89\"],[0.6666666666666666,\"#35b779\"],[0.7777777777777778,\"#6ece58\"],[0.8888888888888888,\"#b5de2b\"],[1.0,\"#fde725\"]],\"sequentialminus\":[[0.0,\"#440154\"],[0.1111111111111111,\"#482878\"],[0.2222222222222222,\"#3e4989\"],[0.3333333333333333,\"#31688e\"],[0.4444444444444444,\"#26828e\"],[0.5555555555555556,\"#1f9e89\"],[0.6666666666666666,\"#35b779\"],[0.7777777777777778,\"#6ece58\"],[0.8888888888888888,\"#b5de2b\"],[1.0,\"#fde725\"]]},\"colorway\":[\"#1F77B4\",\"#FF7F0E\",\"#2CA02C\",\"#D62728\",\"#9467BD\",\"#8C564B\",\"#E377C2\",\"#7F7F7F\",\"#BCBD22\",\"#17BECF\"],\"font\":{\"color\":\"rgb(36,36,36)\"},\"geo\":{\"bgcolor\":\"white\",\"lakecolor\":\"white\",\"landcolor\":\"white\",\"showlakes\":true,\"showland\":true,\"subunitcolor\":\"white\"},\"hoverlabel\":{\"align\":\"left\"},\"hovermode\":\"closest\",\"mapbox\":{\"style\":\"light\"},\"paper_bgcolor\":\"white\",\"plot_bgcolor\":\"white\",\"polar\":{\"angularaxis\":{\"gridcolor\":\"rgb(232,232,232)\",\"linecolor\":\"rgb(36,36,36)\",\"showgrid\":false,\"showline\":true,\"ticks\":\"outside\"},\"bgcolor\":\"white\",\"radialaxis\":{\"gridcolor\":\"rgb(232,232,232)\",\"linecolor\":\"rgb(36,36,36)\",\"showgrid\":false,\"showline\":true,\"ticks\":\"outside\"}},\"scene\":{\"xaxis\":{\"backgroundcolor\":\"white\",\"gridcolor\":\"rgb(232,232,232)\",\"gridwidth\":2,\"linecolor\":\"rgb(36,36,36)\",\"showbackground\":true,\"showgrid\":false,\"showline\":true,\"ticks\":\"outside\",\"zeroline\":false,\"zerolinecolor\":\"rgb(36,36,36)\"},\"yaxis\":{\"backgroundcolor\":\"white\",\"gridcolor\":\"rgb(232,232,232)\",\"gridwidth\":2,\"linecolor\":\"rgb(36,36,36)\",\"showbackground\":true,\"showgrid\":false,\"showline\":true,\"ticks\":\"outside\",\"zeroline\":false,\"zerolinecolor\":\"rgb(36,36,36)\"},\"zaxis\":{\"backgroundcolor\":\"white\",\"gridcolor\":\"rgb(232,232,232)\",\"gridwidth\":2,\"linecolor\":\"rgb(36,36,36)\",\"showbackground\":true,\"showgrid\":false,\"showline\":true,\"ticks\":\"outside\",\"zeroline\":false,\"zerolinecolor\":\"rgb(36,36,36)\"}},\"shapedefaults\":{\"fillcolor\":\"black\",\"line\":{\"width\":0},\"opacity\":0.3},\"ternary\":{\"aaxis\":{\"gridcolor\":\"rgb(232,232,232)\",\"linecolor\":\"rgb(36,36,36)\",\"showgrid\":false,\"showline\":true,\"ticks\":\"outside\"},\"baxis\":{\"gridcolor\":\"rgb(232,232,232)\",\"linecolor\":\"rgb(36,36,36)\",\"showgrid\":false,\"showline\":true,\"ticks\":\"outside\"},\"bgcolor\":\"white\",\"caxis\":{\"gridcolor\":\"rgb(232,232,232)\",\"linecolor\":\"rgb(36,36,36)\",\"showgrid\":false,\"showline\":true,\"ticks\":\"outside\"}},\"title\":{\"x\":0.05},\"xaxis\":{\"automargin\":true,\"gridcolor\":\"rgb(232,232,232)\",\"linecolor\":\"rgb(36,36,36)\",\"showgrid\":false,\"showline\":true,\"ticks\":\"outside\",\"title\":{\"standoff\":15},\"zeroline\":false,\"zerolinecolor\":\"rgb(36,36,36)\"},\"yaxis\":{\"automargin\":true,\"gridcolor\":\"rgb(232,232,232)\",\"linecolor\":\"rgb(36,36,36)\",\"showgrid\":false,\"showline\":true,\"ticks\":\"outside\",\"title\":{\"standoff\":15},\"zeroline\":false,\"zerolinecolor\":\"rgb(36,36,36)\"}}},\"xaxis\":{\"anchor\":\"y\",\"domain\":[0.0,1.0],\"title\":{\"text\":\"SATISFACTION_GLOBAl\"}},\"yaxis\":{\"anchor\":\"x\",\"domain\":[0.0,1.0],\"title\":{\"text\":\"count\"}},\"legend\":{\"title\":{\"text\":\"GENRE\"},\"tracegroupgap\":0},\"title\":{\"text\":\"Satisfaction des participants en fonction de leur sexe\"},\"barmode\":\"relative\",\"height\":600,\"width\":750},                        {\"responsive\": true}                    ).then(function(){\n",
       "                            \n",
       "var gd = document.getElementById('144c387a-0cb2-4ed3-a852-532d593e3726');\n",
       "var x = new MutationObserver(function (mutations, observer) {{\n",
       "        var display = window.getComputedStyle(gd).display;\n",
       "        if (!display || display === 'none') {{\n",
       "            console.log([gd, 'removed!']);\n",
       "            Plotly.purge(gd);\n",
       "            observer.disconnect();\n",
       "        }}\n",
       "}});\n",
       "\n",
       "// Listen for the removal of the full notebook cells\n",
       "var notebookContainer = gd.closest('#notebook-container');\n",
       "if (notebookContainer) {{\n",
       "    x.observe(notebookContainer, {childList: true});\n",
       "}}\n",
       "\n",
       "// Listen for the clearing of the current output cell\n",
       "var outputEl = gd.closest('.output');\n",
       "if (outputEl) {{\n",
       "    x.observe(outputEl, {childList: true});\n",
       "}}\n",
       "\n",
       "                        })                };                });            </script>        </div>"
      ]
     },
     "metadata": {},
     "output_type": "display_data"
    }
   ],
   "source": [
    "fig = px.histogram(\n",
    "                   df_clean_renamed, x=\"SATISFACTION_GLOBAl\",color=\"GENRE\",\n",
    "                   title='Satisfaction des participants en fonction de leur sexe',\n",
    "                   width=750, \n",
    "                   height=600,\n",
    "                   labels={\"SATISFACTION_GLOBAL\":\"Moyenne de la note de satisfaction (sur 20)\"},\n",
    "                   color_discrete_map={1: \"#C0F1FB\", 0: \"#F6C0FB\"},\n",
    "                   template=\"simple_white\"\n",
    ")                   \n",
    "fig.show()"
   ]
  },
  {
   "cell_type": "code",
   "execution_count": 85,
   "id": "9f920477",
   "metadata": {},
   "outputs": [
    {
     "data": {
      "application/vnd.plotly.v1+json": {
       "config": {
        "plotlyServerURL": "https://plot.ly"
       },
       "data": [
        {
         "alignmentgroup": "True",
         "bingroup": "x",
         "hovertemplate": "CATEGORIE_PRO=26 ans et plus /Pro<br>SATISFACTION_GLOBAl=%{x}<br>count=%{y}<extra></extra>",
         "legendgroup": "26 ans et plus /Pro",
         "marker": {
          "color": "#2CA02C",
          "pattern": {
           "shape": ""
          }
         },
         "name": "26 ans et plus /Pro",
         "offsetgroup": "26 ans et plus /Pro",
         "orientation": "v",
         "showlegend": true,
         "type": "histogram",
         "x": [
          13.5,
          20,
          18,
          15,
          17,
          14.5,
          14,
          20,
          17.5,
          11,
          14,
          12,
          19,
          4,
          11,
          6.5,
          14,
          18,
          17,
          13.5,
          16.5,
          17.5,
          17.5,
          12,
          15,
          16,
          12,
          16.5,
          15,
          15,
          15.5,
          18,
          10,
          15.5,
          18.5,
          14.5,
          17,
          17.5,
          8.5,
          12,
          16.5,
          15.5,
          18.5,
          11.5,
          10,
          16.5,
          15.5,
          14.5,
          15,
          16.5,
          18.5,
          16.5,
          12,
          13,
          15.5,
          13.5,
          13.5,
          17.5,
          15,
          14.5,
          13,
          15.5,
          16,
          18,
          16.5,
          16,
          20,
          16,
          18.5,
          17.5,
          16.5,
          16,
          19.5,
          13,
          9,
          16.5,
          17,
          14,
          13.5,
          17,
          16,
          17.5,
          7,
          15.5,
          17,
          12.5,
          13.5,
          10.5,
          15,
          15,
          14,
          17.5
         ],
         "xaxis": "x",
         "yaxis": "y"
        },
        {
         "alignmentgroup": "True",
         "bingroup": "x",
         "hovertemplate": "CATEGORIE_PRO=15-25 ans/étudiant<br>SATISFACTION_GLOBAl=%{x}<br>count=%{y}<extra></extra>",
         "legendgroup": "15-25 ans/étudiant",
         "marker": {
          "color": "#D62728",
          "pattern": {
           "shape": ""
          }
         },
         "name": "15-25 ans/étudiant",
         "offsetgroup": "15-25 ans/étudiant",
         "orientation": "v",
         "showlegend": true,
         "type": "histogram",
         "x": [
          4,
          14,
          16,
          18,
          11,
          16.5,
          14.5,
          15.5,
          15.5,
          14.5,
          15.5,
          15,
          15.5,
          17,
          17.5,
          17.5,
          16,
          14.5,
          17.5,
          13,
          15.5,
          14.5,
          16,
          15,
          10.5,
          9.5,
          19.5,
          15.5,
          17,
          16,
          14,
          11.5,
          16.5,
          18.5,
          14,
          16,
          15.5,
          17,
          15,
          15.5,
          18,
          16.5,
          14.5,
          14,
          16.5,
          16,
          17.5
         ],
         "xaxis": "x",
         "yaxis": "y"
        }
       ],
       "layout": {
        "barmode": "relative",
        "height": 600,
        "legend": {
         "title": {
          "text": "CATEGORIE_PRO"
         },
         "tracegroupgap": 0
        },
        "template": {
         "data": {
          "bar": [
           {
            "error_x": {
             "color": "rgb(36,36,36)"
            },
            "error_y": {
             "color": "rgb(36,36,36)"
            },
            "marker": {
             "line": {
              "color": "white",
              "width": 0.5
             },
             "pattern": {
              "fillmode": "overlay",
              "size": 10,
              "solidity": 0.2
             }
            },
            "type": "bar"
           }
          ],
          "barpolar": [
           {
            "marker": {
             "line": {
              "color": "white",
              "width": 0.5
             },
             "pattern": {
              "fillmode": "overlay",
              "size": 10,
              "solidity": 0.2
             }
            },
            "type": "barpolar"
           }
          ],
          "carpet": [
           {
            "aaxis": {
             "endlinecolor": "rgb(36,36,36)",
             "gridcolor": "white",
             "linecolor": "white",
             "minorgridcolor": "white",
             "startlinecolor": "rgb(36,36,36)"
            },
            "baxis": {
             "endlinecolor": "rgb(36,36,36)",
             "gridcolor": "white",
             "linecolor": "white",
             "minorgridcolor": "white",
             "startlinecolor": "rgb(36,36,36)"
            },
            "type": "carpet"
           }
          ],
          "choropleth": [
           {
            "colorbar": {
             "outlinewidth": 1,
             "tickcolor": "rgb(36,36,36)",
             "ticks": "outside"
            },
            "type": "choropleth"
           }
          ],
          "contour": [
           {
            "colorbar": {
             "outlinewidth": 1,
             "tickcolor": "rgb(36,36,36)",
             "ticks": "outside"
            },
            "colorscale": [
             [
              0,
              "#440154"
             ],
             [
              0.1111111111111111,
              "#482878"
             ],
             [
              0.2222222222222222,
              "#3e4989"
             ],
             [
              0.3333333333333333,
              "#31688e"
             ],
             [
              0.4444444444444444,
              "#26828e"
             ],
             [
              0.5555555555555556,
              "#1f9e89"
             ],
             [
              0.6666666666666666,
              "#35b779"
             ],
             [
              0.7777777777777778,
              "#6ece58"
             ],
             [
              0.8888888888888888,
              "#b5de2b"
             ],
             [
              1,
              "#fde725"
             ]
            ],
            "type": "contour"
           }
          ],
          "contourcarpet": [
           {
            "colorbar": {
             "outlinewidth": 1,
             "tickcolor": "rgb(36,36,36)",
             "ticks": "outside"
            },
            "type": "contourcarpet"
           }
          ],
          "heatmap": [
           {
            "colorbar": {
             "outlinewidth": 1,
             "tickcolor": "rgb(36,36,36)",
             "ticks": "outside"
            },
            "colorscale": [
             [
              0,
              "#440154"
             ],
             [
              0.1111111111111111,
              "#482878"
             ],
             [
              0.2222222222222222,
              "#3e4989"
             ],
             [
              0.3333333333333333,
              "#31688e"
             ],
             [
              0.4444444444444444,
              "#26828e"
             ],
             [
              0.5555555555555556,
              "#1f9e89"
             ],
             [
              0.6666666666666666,
              "#35b779"
             ],
             [
              0.7777777777777778,
              "#6ece58"
             ],
             [
              0.8888888888888888,
              "#b5de2b"
             ],
             [
              1,
              "#fde725"
             ]
            ],
            "type": "heatmap"
           }
          ],
          "heatmapgl": [
           {
            "colorbar": {
             "outlinewidth": 1,
             "tickcolor": "rgb(36,36,36)",
             "ticks": "outside"
            },
            "colorscale": [
             [
              0,
              "#440154"
             ],
             [
              0.1111111111111111,
              "#482878"
             ],
             [
              0.2222222222222222,
              "#3e4989"
             ],
             [
              0.3333333333333333,
              "#31688e"
             ],
             [
              0.4444444444444444,
              "#26828e"
             ],
             [
              0.5555555555555556,
              "#1f9e89"
             ],
             [
              0.6666666666666666,
              "#35b779"
             ],
             [
              0.7777777777777778,
              "#6ece58"
             ],
             [
              0.8888888888888888,
              "#b5de2b"
             ],
             [
              1,
              "#fde725"
             ]
            ],
            "type": "heatmapgl"
           }
          ],
          "histogram": [
           {
            "marker": {
             "line": {
              "color": "white",
              "width": 0.6
             }
            },
            "type": "histogram"
           }
          ],
          "histogram2d": [
           {
            "colorbar": {
             "outlinewidth": 1,
             "tickcolor": "rgb(36,36,36)",
             "ticks": "outside"
            },
            "colorscale": [
             [
              0,
              "#440154"
             ],
             [
              0.1111111111111111,
              "#482878"
             ],
             [
              0.2222222222222222,
              "#3e4989"
             ],
             [
              0.3333333333333333,
              "#31688e"
             ],
             [
              0.4444444444444444,
              "#26828e"
             ],
             [
              0.5555555555555556,
              "#1f9e89"
             ],
             [
              0.6666666666666666,
              "#35b779"
             ],
             [
              0.7777777777777778,
              "#6ece58"
             ],
             [
              0.8888888888888888,
              "#b5de2b"
             ],
             [
              1,
              "#fde725"
             ]
            ],
            "type": "histogram2d"
           }
          ],
          "histogram2dcontour": [
           {
            "colorbar": {
             "outlinewidth": 1,
             "tickcolor": "rgb(36,36,36)",
             "ticks": "outside"
            },
            "colorscale": [
             [
              0,
              "#440154"
             ],
             [
              0.1111111111111111,
              "#482878"
             ],
             [
              0.2222222222222222,
              "#3e4989"
             ],
             [
              0.3333333333333333,
              "#31688e"
             ],
             [
              0.4444444444444444,
              "#26828e"
             ],
             [
              0.5555555555555556,
              "#1f9e89"
             ],
             [
              0.6666666666666666,
              "#35b779"
             ],
             [
              0.7777777777777778,
              "#6ece58"
             ],
             [
              0.8888888888888888,
              "#b5de2b"
             ],
             [
              1,
              "#fde725"
             ]
            ],
            "type": "histogram2dcontour"
           }
          ],
          "mesh3d": [
           {
            "colorbar": {
             "outlinewidth": 1,
             "tickcolor": "rgb(36,36,36)",
             "ticks": "outside"
            },
            "type": "mesh3d"
           }
          ],
          "parcoords": [
           {
            "line": {
             "colorbar": {
              "outlinewidth": 1,
              "tickcolor": "rgb(36,36,36)",
              "ticks": "outside"
             }
            },
            "type": "parcoords"
           }
          ],
          "pie": [
           {
            "automargin": true,
            "type": "pie"
           }
          ],
          "scatter": [
           {
            "marker": {
             "colorbar": {
              "outlinewidth": 1,
              "tickcolor": "rgb(36,36,36)",
              "ticks": "outside"
             }
            },
            "type": "scatter"
           }
          ],
          "scatter3d": [
           {
            "line": {
             "colorbar": {
              "outlinewidth": 1,
              "tickcolor": "rgb(36,36,36)",
              "ticks": "outside"
             }
            },
            "marker": {
             "colorbar": {
              "outlinewidth": 1,
              "tickcolor": "rgb(36,36,36)",
              "ticks": "outside"
             }
            },
            "type": "scatter3d"
           }
          ],
          "scattercarpet": [
           {
            "marker": {
             "colorbar": {
              "outlinewidth": 1,
              "tickcolor": "rgb(36,36,36)",
              "ticks": "outside"
             }
            },
            "type": "scattercarpet"
           }
          ],
          "scattergeo": [
           {
            "marker": {
             "colorbar": {
              "outlinewidth": 1,
              "tickcolor": "rgb(36,36,36)",
              "ticks": "outside"
             }
            },
            "type": "scattergeo"
           }
          ],
          "scattergl": [
           {
            "marker": {
             "colorbar": {
              "outlinewidth": 1,
              "tickcolor": "rgb(36,36,36)",
              "ticks": "outside"
             }
            },
            "type": "scattergl"
           }
          ],
          "scattermapbox": [
           {
            "marker": {
             "colorbar": {
              "outlinewidth": 1,
              "tickcolor": "rgb(36,36,36)",
              "ticks": "outside"
             }
            },
            "type": "scattermapbox"
           }
          ],
          "scatterpolar": [
           {
            "marker": {
             "colorbar": {
              "outlinewidth": 1,
              "tickcolor": "rgb(36,36,36)",
              "ticks": "outside"
             }
            },
            "type": "scatterpolar"
           }
          ],
          "scatterpolargl": [
           {
            "marker": {
             "colorbar": {
              "outlinewidth": 1,
              "tickcolor": "rgb(36,36,36)",
              "ticks": "outside"
             }
            },
            "type": "scatterpolargl"
           }
          ],
          "scatterternary": [
           {
            "marker": {
             "colorbar": {
              "outlinewidth": 1,
              "tickcolor": "rgb(36,36,36)",
              "ticks": "outside"
             }
            },
            "type": "scatterternary"
           }
          ],
          "surface": [
           {
            "colorbar": {
             "outlinewidth": 1,
             "tickcolor": "rgb(36,36,36)",
             "ticks": "outside"
            },
            "colorscale": [
             [
              0,
              "#440154"
             ],
             [
              0.1111111111111111,
              "#482878"
             ],
             [
              0.2222222222222222,
              "#3e4989"
             ],
             [
              0.3333333333333333,
              "#31688e"
             ],
             [
              0.4444444444444444,
              "#26828e"
             ],
             [
              0.5555555555555556,
              "#1f9e89"
             ],
             [
              0.6666666666666666,
              "#35b779"
             ],
             [
              0.7777777777777778,
              "#6ece58"
             ],
             [
              0.8888888888888888,
              "#b5de2b"
             ],
             [
              1,
              "#fde725"
             ]
            ],
            "type": "surface"
           }
          ],
          "table": [
           {
            "cells": {
             "fill": {
              "color": "rgb(237,237,237)"
             },
             "line": {
              "color": "white"
             }
            },
            "header": {
             "fill": {
              "color": "rgb(217,217,217)"
             },
             "line": {
              "color": "white"
             }
            },
            "type": "table"
           }
          ]
         },
         "layout": {
          "annotationdefaults": {
           "arrowhead": 0,
           "arrowwidth": 1
          },
          "autotypenumbers": "strict",
          "coloraxis": {
           "colorbar": {
            "outlinewidth": 1,
            "tickcolor": "rgb(36,36,36)",
            "ticks": "outside"
           }
          },
          "colorscale": {
           "diverging": [
            [
             0,
             "rgb(103,0,31)"
            ],
            [
             0.1,
             "rgb(178,24,43)"
            ],
            [
             0.2,
             "rgb(214,96,77)"
            ],
            [
             0.3,
             "rgb(244,165,130)"
            ],
            [
             0.4,
             "rgb(253,219,199)"
            ],
            [
             0.5,
             "rgb(247,247,247)"
            ],
            [
             0.6,
             "rgb(209,229,240)"
            ],
            [
             0.7,
             "rgb(146,197,222)"
            ],
            [
             0.8,
             "rgb(67,147,195)"
            ],
            [
             0.9,
             "rgb(33,102,172)"
            ],
            [
             1,
             "rgb(5,48,97)"
            ]
           ],
           "sequential": [
            [
             0,
             "#440154"
            ],
            [
             0.1111111111111111,
             "#482878"
            ],
            [
             0.2222222222222222,
             "#3e4989"
            ],
            [
             0.3333333333333333,
             "#31688e"
            ],
            [
             0.4444444444444444,
             "#26828e"
            ],
            [
             0.5555555555555556,
             "#1f9e89"
            ],
            [
             0.6666666666666666,
             "#35b779"
            ],
            [
             0.7777777777777778,
             "#6ece58"
            ],
            [
             0.8888888888888888,
             "#b5de2b"
            ],
            [
             1,
             "#fde725"
            ]
           ],
           "sequentialminus": [
            [
             0,
             "#440154"
            ],
            [
             0.1111111111111111,
             "#482878"
            ],
            [
             0.2222222222222222,
             "#3e4989"
            ],
            [
             0.3333333333333333,
             "#31688e"
            ],
            [
             0.4444444444444444,
             "#26828e"
            ],
            [
             0.5555555555555556,
             "#1f9e89"
            ],
            [
             0.6666666666666666,
             "#35b779"
            ],
            [
             0.7777777777777778,
             "#6ece58"
            ],
            [
             0.8888888888888888,
             "#b5de2b"
            ],
            [
             1,
             "#fde725"
            ]
           ]
          },
          "colorway": [
           "#1F77B4",
           "#FF7F0E",
           "#2CA02C",
           "#D62728",
           "#9467BD",
           "#8C564B",
           "#E377C2",
           "#7F7F7F",
           "#BCBD22",
           "#17BECF"
          ],
          "font": {
           "color": "rgb(36,36,36)"
          },
          "geo": {
           "bgcolor": "white",
           "lakecolor": "white",
           "landcolor": "white",
           "showlakes": true,
           "showland": true,
           "subunitcolor": "white"
          },
          "hoverlabel": {
           "align": "left"
          },
          "hovermode": "closest",
          "mapbox": {
           "style": "light"
          },
          "paper_bgcolor": "white",
          "plot_bgcolor": "white",
          "polar": {
           "angularaxis": {
            "gridcolor": "rgb(232,232,232)",
            "linecolor": "rgb(36,36,36)",
            "showgrid": false,
            "showline": true,
            "ticks": "outside"
           },
           "bgcolor": "white",
           "radialaxis": {
            "gridcolor": "rgb(232,232,232)",
            "linecolor": "rgb(36,36,36)",
            "showgrid": false,
            "showline": true,
            "ticks": "outside"
           }
          },
          "scene": {
           "xaxis": {
            "backgroundcolor": "white",
            "gridcolor": "rgb(232,232,232)",
            "gridwidth": 2,
            "linecolor": "rgb(36,36,36)",
            "showbackground": true,
            "showgrid": false,
            "showline": true,
            "ticks": "outside",
            "zeroline": false,
            "zerolinecolor": "rgb(36,36,36)"
           },
           "yaxis": {
            "backgroundcolor": "white",
            "gridcolor": "rgb(232,232,232)",
            "gridwidth": 2,
            "linecolor": "rgb(36,36,36)",
            "showbackground": true,
            "showgrid": false,
            "showline": true,
            "ticks": "outside",
            "zeroline": false,
            "zerolinecolor": "rgb(36,36,36)"
           },
           "zaxis": {
            "backgroundcolor": "white",
            "gridcolor": "rgb(232,232,232)",
            "gridwidth": 2,
            "linecolor": "rgb(36,36,36)",
            "showbackground": true,
            "showgrid": false,
            "showline": true,
            "ticks": "outside",
            "zeroline": false,
            "zerolinecolor": "rgb(36,36,36)"
           }
          },
          "shapedefaults": {
           "fillcolor": "black",
           "line": {
            "width": 0
           },
           "opacity": 0.3
          },
          "ternary": {
           "aaxis": {
            "gridcolor": "rgb(232,232,232)",
            "linecolor": "rgb(36,36,36)",
            "showgrid": false,
            "showline": true,
            "ticks": "outside"
           },
           "baxis": {
            "gridcolor": "rgb(232,232,232)",
            "linecolor": "rgb(36,36,36)",
            "showgrid": false,
            "showline": true,
            "ticks": "outside"
           },
           "bgcolor": "white",
           "caxis": {
            "gridcolor": "rgb(232,232,232)",
            "linecolor": "rgb(36,36,36)",
            "showgrid": false,
            "showline": true,
            "ticks": "outside"
           }
          },
          "title": {
           "x": 0.05
          },
          "xaxis": {
           "automargin": true,
           "gridcolor": "rgb(232,232,232)",
           "linecolor": "rgb(36,36,36)",
           "showgrid": false,
           "showline": true,
           "ticks": "outside",
           "title": {
            "standoff": 15
           },
           "zeroline": false,
           "zerolinecolor": "rgb(36,36,36)"
          },
          "yaxis": {
           "automargin": true,
           "gridcolor": "rgb(232,232,232)",
           "linecolor": "rgb(36,36,36)",
           "showgrid": false,
           "showline": true,
           "ticks": "outside",
           "title": {
            "standoff": 15
           },
           "zeroline": false,
           "zerolinecolor": "rgb(36,36,36)"
          }
         }
        },
        "title": {
         "text": "Satisfaction des participants en fonction de leur catégorie pro"
        },
        "width": 750,
        "xaxis": {
         "anchor": "y",
         "domain": [
          0,
          1
         ],
         "title": {
          "text": "SATISFACTION_GLOBAl"
         }
        },
        "yaxis": {
         "anchor": "x",
         "domain": [
          0,
          1
         ],
         "title": {
          "text": "count"
         }
        }
       }
      },
      "text/html": [
       "<div>                            <div id=\"36949667-c723-4c5e-b3cf-7d2e5fbe4589\" class=\"plotly-graph-div\" style=\"height:600px; width:750px;\"></div>            <script type=\"text/javascript\">                require([\"plotly\"], function(Plotly) {                    window.PLOTLYENV=window.PLOTLYENV || {};                                    if (document.getElementById(\"36949667-c723-4c5e-b3cf-7d2e5fbe4589\")) {                    Plotly.newPlot(                        \"36949667-c723-4c5e-b3cf-7d2e5fbe4589\",                        [{\"alignmentgroup\":\"True\",\"bingroup\":\"x\",\"hovertemplate\":\"CATEGORIE_PRO=26 ans et plus /Pro<br>SATISFACTION_GLOBAl=%{x}<br>count=%{y}<extra></extra>\",\"legendgroup\":\"26 ans et plus /Pro\",\"marker\":{\"color\":\"#2CA02C\",\"pattern\":{\"shape\":\"\"}},\"name\":\"26 ans et plus /Pro\",\"offsetgroup\":\"26 ans et plus /Pro\",\"orientation\":\"v\",\"showlegend\":true,\"x\":[13.5,20.0,18.0,15.0,17.0,14.5,14.0,20.0,17.5,11.0,14.0,12.0,19.0,4.0,11.0,6.5,14.0,18.0,17.0,13.5,16.5,17.5,17.5,12.0,15.0,16.0,12.0,16.5,15.0,15.0,15.5,18.0,10.0,15.5,18.5,14.5,17.0,17.5,8.5,12.0,16.5,15.5,18.5,11.5,10.0,16.5,15.5,14.5,15.0,16.5,18.5,16.5,12.0,13.0,15.5,13.5,13.5,17.5,15.0,14.5,13.0,15.5,16.0,18.0,16.5,16.0,20.0,16.0,18.5,17.5,16.5,16.0,19.5,13.0,9.0,16.5,17.0,14.0,13.5,17.0,16.0,17.5,7.0,15.5,17.0,12.5,13.5,10.5,15.0,15.0,14.0,17.5],\"xaxis\":\"x\",\"yaxis\":\"y\",\"type\":\"histogram\"},{\"alignmentgroup\":\"True\",\"bingroup\":\"x\",\"hovertemplate\":\"CATEGORIE_PRO=15-25 ans/\\u00e9tudiant<br>SATISFACTION_GLOBAl=%{x}<br>count=%{y}<extra></extra>\",\"legendgroup\":\"15-25 ans/\\u00e9tudiant\",\"marker\":{\"color\":\"#D62728\",\"pattern\":{\"shape\":\"\"}},\"name\":\"15-25 ans/\\u00e9tudiant\",\"offsetgroup\":\"15-25 ans/\\u00e9tudiant\",\"orientation\":\"v\",\"showlegend\":true,\"x\":[4.0,14.0,16.0,18.0,11.0,16.5,14.5,15.5,15.5,14.5,15.5,15.0,15.5,17.0,17.5,17.5,16.0,14.5,17.5,13.0,15.5,14.5,16.0,15.0,10.5,9.5,19.5,15.5,17.0,16.0,14.0,11.5,16.5,18.5,14.0,16.0,15.5,17.0,15.0,15.5,18.0,16.5,14.5,14.0,16.5,16.0,17.5],\"xaxis\":\"x\",\"yaxis\":\"y\",\"type\":\"histogram\"}],                        {\"template\":{\"data\":{\"barpolar\":[{\"marker\":{\"line\":{\"color\":\"white\",\"width\":0.5},\"pattern\":{\"fillmode\":\"overlay\",\"size\":10,\"solidity\":0.2}},\"type\":\"barpolar\"}],\"bar\":[{\"error_x\":{\"color\":\"rgb(36,36,36)\"},\"error_y\":{\"color\":\"rgb(36,36,36)\"},\"marker\":{\"line\":{\"color\":\"white\",\"width\":0.5},\"pattern\":{\"fillmode\":\"overlay\",\"size\":10,\"solidity\":0.2}},\"type\":\"bar\"}],\"carpet\":[{\"aaxis\":{\"endlinecolor\":\"rgb(36,36,36)\",\"gridcolor\":\"white\",\"linecolor\":\"white\",\"minorgridcolor\":\"white\",\"startlinecolor\":\"rgb(36,36,36)\"},\"baxis\":{\"endlinecolor\":\"rgb(36,36,36)\",\"gridcolor\":\"white\",\"linecolor\":\"white\",\"minorgridcolor\":\"white\",\"startlinecolor\":\"rgb(36,36,36)\"},\"type\":\"carpet\"}],\"choropleth\":[{\"colorbar\":{\"outlinewidth\":1,\"tickcolor\":\"rgb(36,36,36)\",\"ticks\":\"outside\"},\"type\":\"choropleth\"}],\"contourcarpet\":[{\"colorbar\":{\"outlinewidth\":1,\"tickcolor\":\"rgb(36,36,36)\",\"ticks\":\"outside\"},\"type\":\"contourcarpet\"}],\"contour\":[{\"colorbar\":{\"outlinewidth\":1,\"tickcolor\":\"rgb(36,36,36)\",\"ticks\":\"outside\"},\"colorscale\":[[0.0,\"#440154\"],[0.1111111111111111,\"#482878\"],[0.2222222222222222,\"#3e4989\"],[0.3333333333333333,\"#31688e\"],[0.4444444444444444,\"#26828e\"],[0.5555555555555556,\"#1f9e89\"],[0.6666666666666666,\"#35b779\"],[0.7777777777777778,\"#6ece58\"],[0.8888888888888888,\"#b5de2b\"],[1.0,\"#fde725\"]],\"type\":\"contour\"}],\"heatmapgl\":[{\"colorbar\":{\"outlinewidth\":1,\"tickcolor\":\"rgb(36,36,36)\",\"ticks\":\"outside\"},\"colorscale\":[[0.0,\"#440154\"],[0.1111111111111111,\"#482878\"],[0.2222222222222222,\"#3e4989\"],[0.3333333333333333,\"#31688e\"],[0.4444444444444444,\"#26828e\"],[0.5555555555555556,\"#1f9e89\"],[0.6666666666666666,\"#35b779\"],[0.7777777777777778,\"#6ece58\"],[0.8888888888888888,\"#b5de2b\"],[1.0,\"#fde725\"]],\"type\":\"heatmapgl\"}],\"heatmap\":[{\"colorbar\":{\"outlinewidth\":1,\"tickcolor\":\"rgb(36,36,36)\",\"ticks\":\"outside\"},\"colorscale\":[[0.0,\"#440154\"],[0.1111111111111111,\"#482878\"],[0.2222222222222222,\"#3e4989\"],[0.3333333333333333,\"#31688e\"],[0.4444444444444444,\"#26828e\"],[0.5555555555555556,\"#1f9e89\"],[0.6666666666666666,\"#35b779\"],[0.7777777777777778,\"#6ece58\"],[0.8888888888888888,\"#b5de2b\"],[1.0,\"#fde725\"]],\"type\":\"heatmap\"}],\"histogram2dcontour\":[{\"colorbar\":{\"outlinewidth\":1,\"tickcolor\":\"rgb(36,36,36)\",\"ticks\":\"outside\"},\"colorscale\":[[0.0,\"#440154\"],[0.1111111111111111,\"#482878\"],[0.2222222222222222,\"#3e4989\"],[0.3333333333333333,\"#31688e\"],[0.4444444444444444,\"#26828e\"],[0.5555555555555556,\"#1f9e89\"],[0.6666666666666666,\"#35b779\"],[0.7777777777777778,\"#6ece58\"],[0.8888888888888888,\"#b5de2b\"],[1.0,\"#fde725\"]],\"type\":\"histogram2dcontour\"}],\"histogram2d\":[{\"colorbar\":{\"outlinewidth\":1,\"tickcolor\":\"rgb(36,36,36)\",\"ticks\":\"outside\"},\"colorscale\":[[0.0,\"#440154\"],[0.1111111111111111,\"#482878\"],[0.2222222222222222,\"#3e4989\"],[0.3333333333333333,\"#31688e\"],[0.4444444444444444,\"#26828e\"],[0.5555555555555556,\"#1f9e89\"],[0.6666666666666666,\"#35b779\"],[0.7777777777777778,\"#6ece58\"],[0.8888888888888888,\"#b5de2b\"],[1.0,\"#fde725\"]],\"type\":\"histogram2d\"}],\"histogram\":[{\"marker\":{\"line\":{\"color\":\"white\",\"width\":0.6}},\"type\":\"histogram\"}],\"mesh3d\":[{\"colorbar\":{\"outlinewidth\":1,\"tickcolor\":\"rgb(36,36,36)\",\"ticks\":\"outside\"},\"type\":\"mesh3d\"}],\"parcoords\":[{\"line\":{\"colorbar\":{\"outlinewidth\":1,\"tickcolor\":\"rgb(36,36,36)\",\"ticks\":\"outside\"}},\"type\":\"parcoords\"}],\"pie\":[{\"automargin\":true,\"type\":\"pie\"}],\"scatter3d\":[{\"line\":{\"colorbar\":{\"outlinewidth\":1,\"tickcolor\":\"rgb(36,36,36)\",\"ticks\":\"outside\"}},\"marker\":{\"colorbar\":{\"outlinewidth\":1,\"tickcolor\":\"rgb(36,36,36)\",\"ticks\":\"outside\"}},\"type\":\"scatter3d\"}],\"scattercarpet\":[{\"marker\":{\"colorbar\":{\"outlinewidth\":1,\"tickcolor\":\"rgb(36,36,36)\",\"ticks\":\"outside\"}},\"type\":\"scattercarpet\"}],\"scattergeo\":[{\"marker\":{\"colorbar\":{\"outlinewidth\":1,\"tickcolor\":\"rgb(36,36,36)\",\"ticks\":\"outside\"}},\"type\":\"scattergeo\"}],\"scattergl\":[{\"marker\":{\"colorbar\":{\"outlinewidth\":1,\"tickcolor\":\"rgb(36,36,36)\",\"ticks\":\"outside\"}},\"type\":\"scattergl\"}],\"scattermapbox\":[{\"marker\":{\"colorbar\":{\"outlinewidth\":1,\"tickcolor\":\"rgb(36,36,36)\",\"ticks\":\"outside\"}},\"type\":\"scattermapbox\"}],\"scatterpolargl\":[{\"marker\":{\"colorbar\":{\"outlinewidth\":1,\"tickcolor\":\"rgb(36,36,36)\",\"ticks\":\"outside\"}},\"type\":\"scatterpolargl\"}],\"scatterpolar\":[{\"marker\":{\"colorbar\":{\"outlinewidth\":1,\"tickcolor\":\"rgb(36,36,36)\",\"ticks\":\"outside\"}},\"type\":\"scatterpolar\"}],\"scatter\":[{\"marker\":{\"colorbar\":{\"outlinewidth\":1,\"tickcolor\":\"rgb(36,36,36)\",\"ticks\":\"outside\"}},\"type\":\"scatter\"}],\"scatterternary\":[{\"marker\":{\"colorbar\":{\"outlinewidth\":1,\"tickcolor\":\"rgb(36,36,36)\",\"ticks\":\"outside\"}},\"type\":\"scatterternary\"}],\"surface\":[{\"colorbar\":{\"outlinewidth\":1,\"tickcolor\":\"rgb(36,36,36)\",\"ticks\":\"outside\"},\"colorscale\":[[0.0,\"#440154\"],[0.1111111111111111,\"#482878\"],[0.2222222222222222,\"#3e4989\"],[0.3333333333333333,\"#31688e\"],[0.4444444444444444,\"#26828e\"],[0.5555555555555556,\"#1f9e89\"],[0.6666666666666666,\"#35b779\"],[0.7777777777777778,\"#6ece58\"],[0.8888888888888888,\"#b5de2b\"],[1.0,\"#fde725\"]],\"type\":\"surface\"}],\"table\":[{\"cells\":{\"fill\":{\"color\":\"rgb(237,237,237)\"},\"line\":{\"color\":\"white\"}},\"header\":{\"fill\":{\"color\":\"rgb(217,217,217)\"},\"line\":{\"color\":\"white\"}},\"type\":\"table\"}]},\"layout\":{\"annotationdefaults\":{\"arrowhead\":0,\"arrowwidth\":1},\"autotypenumbers\":\"strict\",\"coloraxis\":{\"colorbar\":{\"outlinewidth\":1,\"tickcolor\":\"rgb(36,36,36)\",\"ticks\":\"outside\"}},\"colorscale\":{\"diverging\":[[0.0,\"rgb(103,0,31)\"],[0.1,\"rgb(178,24,43)\"],[0.2,\"rgb(214,96,77)\"],[0.3,\"rgb(244,165,130)\"],[0.4,\"rgb(253,219,199)\"],[0.5,\"rgb(247,247,247)\"],[0.6,\"rgb(209,229,240)\"],[0.7,\"rgb(146,197,222)\"],[0.8,\"rgb(67,147,195)\"],[0.9,\"rgb(33,102,172)\"],[1.0,\"rgb(5,48,97)\"]],\"sequential\":[[0.0,\"#440154\"],[0.1111111111111111,\"#482878\"],[0.2222222222222222,\"#3e4989\"],[0.3333333333333333,\"#31688e\"],[0.4444444444444444,\"#26828e\"],[0.5555555555555556,\"#1f9e89\"],[0.6666666666666666,\"#35b779\"],[0.7777777777777778,\"#6ece58\"],[0.8888888888888888,\"#b5de2b\"],[1.0,\"#fde725\"]],\"sequentialminus\":[[0.0,\"#440154\"],[0.1111111111111111,\"#482878\"],[0.2222222222222222,\"#3e4989\"],[0.3333333333333333,\"#31688e\"],[0.4444444444444444,\"#26828e\"],[0.5555555555555556,\"#1f9e89\"],[0.6666666666666666,\"#35b779\"],[0.7777777777777778,\"#6ece58\"],[0.8888888888888888,\"#b5de2b\"],[1.0,\"#fde725\"]]},\"colorway\":[\"#1F77B4\",\"#FF7F0E\",\"#2CA02C\",\"#D62728\",\"#9467BD\",\"#8C564B\",\"#E377C2\",\"#7F7F7F\",\"#BCBD22\",\"#17BECF\"],\"font\":{\"color\":\"rgb(36,36,36)\"},\"geo\":{\"bgcolor\":\"white\",\"lakecolor\":\"white\",\"landcolor\":\"white\",\"showlakes\":true,\"showland\":true,\"subunitcolor\":\"white\"},\"hoverlabel\":{\"align\":\"left\"},\"hovermode\":\"closest\",\"mapbox\":{\"style\":\"light\"},\"paper_bgcolor\":\"white\",\"plot_bgcolor\":\"white\",\"polar\":{\"angularaxis\":{\"gridcolor\":\"rgb(232,232,232)\",\"linecolor\":\"rgb(36,36,36)\",\"showgrid\":false,\"showline\":true,\"ticks\":\"outside\"},\"bgcolor\":\"white\",\"radialaxis\":{\"gridcolor\":\"rgb(232,232,232)\",\"linecolor\":\"rgb(36,36,36)\",\"showgrid\":false,\"showline\":true,\"ticks\":\"outside\"}},\"scene\":{\"xaxis\":{\"backgroundcolor\":\"white\",\"gridcolor\":\"rgb(232,232,232)\",\"gridwidth\":2,\"linecolor\":\"rgb(36,36,36)\",\"showbackground\":true,\"showgrid\":false,\"showline\":true,\"ticks\":\"outside\",\"zeroline\":false,\"zerolinecolor\":\"rgb(36,36,36)\"},\"yaxis\":{\"backgroundcolor\":\"white\",\"gridcolor\":\"rgb(232,232,232)\",\"gridwidth\":2,\"linecolor\":\"rgb(36,36,36)\",\"showbackground\":true,\"showgrid\":false,\"showline\":true,\"ticks\":\"outside\",\"zeroline\":false,\"zerolinecolor\":\"rgb(36,36,36)\"},\"zaxis\":{\"backgroundcolor\":\"white\",\"gridcolor\":\"rgb(232,232,232)\",\"gridwidth\":2,\"linecolor\":\"rgb(36,36,36)\",\"showbackground\":true,\"showgrid\":false,\"showline\":true,\"ticks\":\"outside\",\"zeroline\":false,\"zerolinecolor\":\"rgb(36,36,36)\"}},\"shapedefaults\":{\"fillcolor\":\"black\",\"line\":{\"width\":0},\"opacity\":0.3},\"ternary\":{\"aaxis\":{\"gridcolor\":\"rgb(232,232,232)\",\"linecolor\":\"rgb(36,36,36)\",\"showgrid\":false,\"showline\":true,\"ticks\":\"outside\"},\"baxis\":{\"gridcolor\":\"rgb(232,232,232)\",\"linecolor\":\"rgb(36,36,36)\",\"showgrid\":false,\"showline\":true,\"ticks\":\"outside\"},\"bgcolor\":\"white\",\"caxis\":{\"gridcolor\":\"rgb(232,232,232)\",\"linecolor\":\"rgb(36,36,36)\",\"showgrid\":false,\"showline\":true,\"ticks\":\"outside\"}},\"title\":{\"x\":0.05},\"xaxis\":{\"automargin\":true,\"gridcolor\":\"rgb(232,232,232)\",\"linecolor\":\"rgb(36,36,36)\",\"showgrid\":false,\"showline\":true,\"ticks\":\"outside\",\"title\":{\"standoff\":15},\"zeroline\":false,\"zerolinecolor\":\"rgb(36,36,36)\"},\"yaxis\":{\"automargin\":true,\"gridcolor\":\"rgb(232,232,232)\",\"linecolor\":\"rgb(36,36,36)\",\"showgrid\":false,\"showline\":true,\"ticks\":\"outside\",\"title\":{\"standoff\":15},\"zeroline\":false,\"zerolinecolor\":\"rgb(36,36,36)\"}}},\"xaxis\":{\"anchor\":\"y\",\"domain\":[0.0,1.0],\"title\":{\"text\":\"SATISFACTION_GLOBAl\"}},\"yaxis\":{\"anchor\":\"x\",\"domain\":[0.0,1.0],\"title\":{\"text\":\"count\"}},\"legend\":{\"title\":{\"text\":\"CATEGORIE_PRO\"},\"tracegroupgap\":0},\"title\":{\"text\":\"Satisfaction des participants en fonction de leur cat\\u00e9gorie pro\"},\"barmode\":\"relative\",\"height\":600,\"width\":750},                        {\"responsive\": true}                    ).then(function(){\n",
       "                            \n",
       "var gd = document.getElementById('36949667-c723-4c5e-b3cf-7d2e5fbe4589');\n",
       "var x = new MutationObserver(function (mutations, observer) {{\n",
       "        var display = window.getComputedStyle(gd).display;\n",
       "        if (!display || display === 'none') {{\n",
       "            console.log([gd, 'removed!']);\n",
       "            Plotly.purge(gd);\n",
       "            observer.disconnect();\n",
       "        }}\n",
       "}});\n",
       "\n",
       "// Listen for the removal of the full notebook cells\n",
       "var notebookContainer = gd.closest('#notebook-container');\n",
       "if (notebookContainer) {{\n",
       "    x.observe(notebookContainer, {childList: true});\n",
       "}}\n",
       "\n",
       "// Listen for the clearing of the current output cell\n",
       "var outputEl = gd.closest('.output');\n",
       "if (outputEl) {{\n",
       "    x.observe(outputEl, {childList: true});\n",
       "}}\n",
       "\n",
       "                        })                };                });            </script>        </div>"
      ]
     },
     "metadata": {},
     "output_type": "display_data"
    }
   ],
   "source": [
    "fig = px.histogram(\n",
    "                   df_clean_renamed, x=\"SATISFACTION_GLOBAl\",color=\"CATEGORIE_PRO\",\n",
    "                   title='Satisfaction des participants en fonction de leur catégorie pro',\n",
    "                   width=750, \n",
    "                   height=600,\n",
    "                   labels={\"SATISFACTION_GLOBAL\":\"Moyenne de la note de satisfaction (sur 20)\"},\n",
    "                   color_discrete_map={1: \"#C0F1FB\", 0: \"#F6C0FB\"},\n",
    "                   template=\"simple_white\"\n",
    ")                   \n",
    "fig.show()"
   ]
  },
  {
   "cell_type": "code",
   "execution_count": 86,
   "id": "ffc753b7",
   "metadata": {},
   "outputs": [
    {
     "data": {
      "application/vnd.plotly.v1+json": {
       "config": {
        "plotlyServerURL": "https://plot.ly"
       },
       "data": [
        {
         "alignmentgroup": "True",
         "bingroup": "x",
         "hovertemplate": "Je vis=Strasbourgeois<br>SATISFACTION_GLOBAl=%{x}<br>count=%{y}<extra></extra>",
         "legendgroup": "Strasbourgeois",
         "marker": {
          "color": "#1F77B4",
          "pattern": {
           "shape": ""
          }
         },
         "name": "Strasbourgeois",
         "offsetgroup": "Strasbourgeois",
         "orientation": "v",
         "showlegend": true,
         "type": "histogram",
         "x": [
          13.5,
          20,
          4,
          18,
          15,
          14,
          16,
          14.5,
          18,
          14,
          20,
          11,
          16.5,
          17.5,
          14,
          19,
          4,
          14.5,
          11,
          6.5,
          14,
          17,
          15.5,
          15.5,
          14.5,
          12,
          15.5,
          15,
          15,
          15.5,
          17,
          17.5,
          17.5,
          16,
          16,
          12,
          16.5,
          14.5,
          15.5,
          15.5,
          18,
          10,
          15.5,
          18.5,
          16,
          17,
          15,
          10.5,
          12,
          9.5,
          19.5,
          15.5,
          17,
          16,
          11.5,
          10,
          16.5,
          14,
          15.5,
          14.5,
          15,
          11.5,
          16.5,
          18.5,
          14,
          16.5,
          16.5,
          17,
          13,
          15.5,
          15,
          15.5,
          18,
          17.5,
          13,
          15.5,
          16,
          16,
          20,
          16,
          16.5,
          19.5,
          13,
          14.5,
          14,
          16.5,
          16,
          16.5,
          17.5,
          17.5,
          7,
          15.5,
          12.5,
          13.5,
          10.5,
          15,
          15,
          14,
          17.5
         ],
         "xaxis": "x",
         "yaxis": "y"
        },
        {
         "alignmentgroup": "True",
         "bingroup": "x",
         "hovertemplate": "Je vis=Non Strasbourgeois<br>SATISFACTION_GLOBAl=%{x}<br>count=%{y}<extra></extra>",
         "legendgroup": "Non Strasbourgeois",
         "marker": {
          "color": "#FF7F0E",
          "pattern": {
           "shape": ""
          }
         },
         "name": "Non Strasbourgeois",
         "offsetgroup": "Non Strasbourgeois",
         "orientation": "v",
         "showlegend": true,
         "type": "histogram",
         "x": [
          17,
          11,
          12,
          18,
          13.5,
          16.5,
          17.5,
          17.5,
          15,
          17.5,
          15,
          13,
          14.5,
          14.5,
          17.5,
          8.5,
          16.5,
          15.5,
          18.5,
          18.5,
          16,
          15.5,
          12,
          13.5,
          13.5,
          15,
          14.5,
          18,
          16.5,
          18.5,
          17.5,
          16.5,
          16,
          9,
          17,
          14,
          13.5,
          17,
          16,
          17
         ],
         "xaxis": "x",
         "yaxis": "y"
        }
       ],
       "layout": {
        "barmode": "relative",
        "height": 600,
        "legend": {
         "title": {
          "text": "Je vis"
         },
         "tracegroupgap": 0
        },
        "template": {
         "data": {
          "bar": [
           {
            "error_x": {
             "color": "rgb(36,36,36)"
            },
            "error_y": {
             "color": "rgb(36,36,36)"
            },
            "marker": {
             "line": {
              "color": "white",
              "width": 0.5
             },
             "pattern": {
              "fillmode": "overlay",
              "size": 10,
              "solidity": 0.2
             }
            },
            "type": "bar"
           }
          ],
          "barpolar": [
           {
            "marker": {
             "line": {
              "color": "white",
              "width": 0.5
             },
             "pattern": {
              "fillmode": "overlay",
              "size": 10,
              "solidity": 0.2
             }
            },
            "type": "barpolar"
           }
          ],
          "carpet": [
           {
            "aaxis": {
             "endlinecolor": "rgb(36,36,36)",
             "gridcolor": "white",
             "linecolor": "white",
             "minorgridcolor": "white",
             "startlinecolor": "rgb(36,36,36)"
            },
            "baxis": {
             "endlinecolor": "rgb(36,36,36)",
             "gridcolor": "white",
             "linecolor": "white",
             "minorgridcolor": "white",
             "startlinecolor": "rgb(36,36,36)"
            },
            "type": "carpet"
           }
          ],
          "choropleth": [
           {
            "colorbar": {
             "outlinewidth": 1,
             "tickcolor": "rgb(36,36,36)",
             "ticks": "outside"
            },
            "type": "choropleth"
           }
          ],
          "contour": [
           {
            "colorbar": {
             "outlinewidth": 1,
             "tickcolor": "rgb(36,36,36)",
             "ticks": "outside"
            },
            "colorscale": [
             [
              0,
              "#440154"
             ],
             [
              0.1111111111111111,
              "#482878"
             ],
             [
              0.2222222222222222,
              "#3e4989"
             ],
             [
              0.3333333333333333,
              "#31688e"
             ],
             [
              0.4444444444444444,
              "#26828e"
             ],
             [
              0.5555555555555556,
              "#1f9e89"
             ],
             [
              0.6666666666666666,
              "#35b779"
             ],
             [
              0.7777777777777778,
              "#6ece58"
             ],
             [
              0.8888888888888888,
              "#b5de2b"
             ],
             [
              1,
              "#fde725"
             ]
            ],
            "type": "contour"
           }
          ],
          "contourcarpet": [
           {
            "colorbar": {
             "outlinewidth": 1,
             "tickcolor": "rgb(36,36,36)",
             "ticks": "outside"
            },
            "type": "contourcarpet"
           }
          ],
          "heatmap": [
           {
            "colorbar": {
             "outlinewidth": 1,
             "tickcolor": "rgb(36,36,36)",
             "ticks": "outside"
            },
            "colorscale": [
             [
              0,
              "#440154"
             ],
             [
              0.1111111111111111,
              "#482878"
             ],
             [
              0.2222222222222222,
              "#3e4989"
             ],
             [
              0.3333333333333333,
              "#31688e"
             ],
             [
              0.4444444444444444,
              "#26828e"
             ],
             [
              0.5555555555555556,
              "#1f9e89"
             ],
             [
              0.6666666666666666,
              "#35b779"
             ],
             [
              0.7777777777777778,
              "#6ece58"
             ],
             [
              0.8888888888888888,
              "#b5de2b"
             ],
             [
              1,
              "#fde725"
             ]
            ],
            "type": "heatmap"
           }
          ],
          "heatmapgl": [
           {
            "colorbar": {
             "outlinewidth": 1,
             "tickcolor": "rgb(36,36,36)",
             "ticks": "outside"
            },
            "colorscale": [
             [
              0,
              "#440154"
             ],
             [
              0.1111111111111111,
              "#482878"
             ],
             [
              0.2222222222222222,
              "#3e4989"
             ],
             [
              0.3333333333333333,
              "#31688e"
             ],
             [
              0.4444444444444444,
              "#26828e"
             ],
             [
              0.5555555555555556,
              "#1f9e89"
             ],
             [
              0.6666666666666666,
              "#35b779"
             ],
             [
              0.7777777777777778,
              "#6ece58"
             ],
             [
              0.8888888888888888,
              "#b5de2b"
             ],
             [
              1,
              "#fde725"
             ]
            ],
            "type": "heatmapgl"
           }
          ],
          "histogram": [
           {
            "marker": {
             "line": {
              "color": "white",
              "width": 0.6
             }
            },
            "type": "histogram"
           }
          ],
          "histogram2d": [
           {
            "colorbar": {
             "outlinewidth": 1,
             "tickcolor": "rgb(36,36,36)",
             "ticks": "outside"
            },
            "colorscale": [
             [
              0,
              "#440154"
             ],
             [
              0.1111111111111111,
              "#482878"
             ],
             [
              0.2222222222222222,
              "#3e4989"
             ],
             [
              0.3333333333333333,
              "#31688e"
             ],
             [
              0.4444444444444444,
              "#26828e"
             ],
             [
              0.5555555555555556,
              "#1f9e89"
             ],
             [
              0.6666666666666666,
              "#35b779"
             ],
             [
              0.7777777777777778,
              "#6ece58"
             ],
             [
              0.8888888888888888,
              "#b5de2b"
             ],
             [
              1,
              "#fde725"
             ]
            ],
            "type": "histogram2d"
           }
          ],
          "histogram2dcontour": [
           {
            "colorbar": {
             "outlinewidth": 1,
             "tickcolor": "rgb(36,36,36)",
             "ticks": "outside"
            },
            "colorscale": [
             [
              0,
              "#440154"
             ],
             [
              0.1111111111111111,
              "#482878"
             ],
             [
              0.2222222222222222,
              "#3e4989"
             ],
             [
              0.3333333333333333,
              "#31688e"
             ],
             [
              0.4444444444444444,
              "#26828e"
             ],
             [
              0.5555555555555556,
              "#1f9e89"
             ],
             [
              0.6666666666666666,
              "#35b779"
             ],
             [
              0.7777777777777778,
              "#6ece58"
             ],
             [
              0.8888888888888888,
              "#b5de2b"
             ],
             [
              1,
              "#fde725"
             ]
            ],
            "type": "histogram2dcontour"
           }
          ],
          "mesh3d": [
           {
            "colorbar": {
             "outlinewidth": 1,
             "tickcolor": "rgb(36,36,36)",
             "ticks": "outside"
            },
            "type": "mesh3d"
           }
          ],
          "parcoords": [
           {
            "line": {
             "colorbar": {
              "outlinewidth": 1,
              "tickcolor": "rgb(36,36,36)",
              "ticks": "outside"
             }
            },
            "type": "parcoords"
           }
          ],
          "pie": [
           {
            "automargin": true,
            "type": "pie"
           }
          ],
          "scatter": [
           {
            "marker": {
             "colorbar": {
              "outlinewidth": 1,
              "tickcolor": "rgb(36,36,36)",
              "ticks": "outside"
             }
            },
            "type": "scatter"
           }
          ],
          "scatter3d": [
           {
            "line": {
             "colorbar": {
              "outlinewidth": 1,
              "tickcolor": "rgb(36,36,36)",
              "ticks": "outside"
             }
            },
            "marker": {
             "colorbar": {
              "outlinewidth": 1,
              "tickcolor": "rgb(36,36,36)",
              "ticks": "outside"
             }
            },
            "type": "scatter3d"
           }
          ],
          "scattercarpet": [
           {
            "marker": {
             "colorbar": {
              "outlinewidth": 1,
              "tickcolor": "rgb(36,36,36)",
              "ticks": "outside"
             }
            },
            "type": "scattercarpet"
           }
          ],
          "scattergeo": [
           {
            "marker": {
             "colorbar": {
              "outlinewidth": 1,
              "tickcolor": "rgb(36,36,36)",
              "ticks": "outside"
             }
            },
            "type": "scattergeo"
           }
          ],
          "scattergl": [
           {
            "marker": {
             "colorbar": {
              "outlinewidth": 1,
              "tickcolor": "rgb(36,36,36)",
              "ticks": "outside"
             }
            },
            "type": "scattergl"
           }
          ],
          "scattermapbox": [
           {
            "marker": {
             "colorbar": {
              "outlinewidth": 1,
              "tickcolor": "rgb(36,36,36)",
              "ticks": "outside"
             }
            },
            "type": "scattermapbox"
           }
          ],
          "scatterpolar": [
           {
            "marker": {
             "colorbar": {
              "outlinewidth": 1,
              "tickcolor": "rgb(36,36,36)",
              "ticks": "outside"
             }
            },
            "type": "scatterpolar"
           }
          ],
          "scatterpolargl": [
           {
            "marker": {
             "colorbar": {
              "outlinewidth": 1,
              "tickcolor": "rgb(36,36,36)",
              "ticks": "outside"
             }
            },
            "type": "scatterpolargl"
           }
          ],
          "scatterternary": [
           {
            "marker": {
             "colorbar": {
              "outlinewidth": 1,
              "tickcolor": "rgb(36,36,36)",
              "ticks": "outside"
             }
            },
            "type": "scatterternary"
           }
          ],
          "surface": [
           {
            "colorbar": {
             "outlinewidth": 1,
             "tickcolor": "rgb(36,36,36)",
             "ticks": "outside"
            },
            "colorscale": [
             [
              0,
              "#440154"
             ],
             [
              0.1111111111111111,
              "#482878"
             ],
             [
              0.2222222222222222,
              "#3e4989"
             ],
             [
              0.3333333333333333,
              "#31688e"
             ],
             [
              0.4444444444444444,
              "#26828e"
             ],
             [
              0.5555555555555556,
              "#1f9e89"
             ],
             [
              0.6666666666666666,
              "#35b779"
             ],
             [
              0.7777777777777778,
              "#6ece58"
             ],
             [
              0.8888888888888888,
              "#b5de2b"
             ],
             [
              1,
              "#fde725"
             ]
            ],
            "type": "surface"
           }
          ],
          "table": [
           {
            "cells": {
             "fill": {
              "color": "rgb(237,237,237)"
             },
             "line": {
              "color": "white"
             }
            },
            "header": {
             "fill": {
              "color": "rgb(217,217,217)"
             },
             "line": {
              "color": "white"
             }
            },
            "type": "table"
           }
          ]
         },
         "layout": {
          "annotationdefaults": {
           "arrowhead": 0,
           "arrowwidth": 1
          },
          "autotypenumbers": "strict",
          "coloraxis": {
           "colorbar": {
            "outlinewidth": 1,
            "tickcolor": "rgb(36,36,36)",
            "ticks": "outside"
           }
          },
          "colorscale": {
           "diverging": [
            [
             0,
             "rgb(103,0,31)"
            ],
            [
             0.1,
             "rgb(178,24,43)"
            ],
            [
             0.2,
             "rgb(214,96,77)"
            ],
            [
             0.3,
             "rgb(244,165,130)"
            ],
            [
             0.4,
             "rgb(253,219,199)"
            ],
            [
             0.5,
             "rgb(247,247,247)"
            ],
            [
             0.6,
             "rgb(209,229,240)"
            ],
            [
             0.7,
             "rgb(146,197,222)"
            ],
            [
             0.8,
             "rgb(67,147,195)"
            ],
            [
             0.9,
             "rgb(33,102,172)"
            ],
            [
             1,
             "rgb(5,48,97)"
            ]
           ],
           "sequential": [
            [
             0,
             "#440154"
            ],
            [
             0.1111111111111111,
             "#482878"
            ],
            [
             0.2222222222222222,
             "#3e4989"
            ],
            [
             0.3333333333333333,
             "#31688e"
            ],
            [
             0.4444444444444444,
             "#26828e"
            ],
            [
             0.5555555555555556,
             "#1f9e89"
            ],
            [
             0.6666666666666666,
             "#35b779"
            ],
            [
             0.7777777777777778,
             "#6ece58"
            ],
            [
             0.8888888888888888,
             "#b5de2b"
            ],
            [
             1,
             "#fde725"
            ]
           ],
           "sequentialminus": [
            [
             0,
             "#440154"
            ],
            [
             0.1111111111111111,
             "#482878"
            ],
            [
             0.2222222222222222,
             "#3e4989"
            ],
            [
             0.3333333333333333,
             "#31688e"
            ],
            [
             0.4444444444444444,
             "#26828e"
            ],
            [
             0.5555555555555556,
             "#1f9e89"
            ],
            [
             0.6666666666666666,
             "#35b779"
            ],
            [
             0.7777777777777778,
             "#6ece58"
            ],
            [
             0.8888888888888888,
             "#b5de2b"
            ],
            [
             1,
             "#fde725"
            ]
           ]
          },
          "colorway": [
           "#1F77B4",
           "#FF7F0E",
           "#2CA02C",
           "#D62728",
           "#9467BD",
           "#8C564B",
           "#E377C2",
           "#7F7F7F",
           "#BCBD22",
           "#17BECF"
          ],
          "font": {
           "color": "rgb(36,36,36)"
          },
          "geo": {
           "bgcolor": "white",
           "lakecolor": "white",
           "landcolor": "white",
           "showlakes": true,
           "showland": true,
           "subunitcolor": "white"
          },
          "hoverlabel": {
           "align": "left"
          },
          "hovermode": "closest",
          "mapbox": {
           "style": "light"
          },
          "paper_bgcolor": "white",
          "plot_bgcolor": "white",
          "polar": {
           "angularaxis": {
            "gridcolor": "rgb(232,232,232)",
            "linecolor": "rgb(36,36,36)",
            "showgrid": false,
            "showline": true,
            "ticks": "outside"
           },
           "bgcolor": "white",
           "radialaxis": {
            "gridcolor": "rgb(232,232,232)",
            "linecolor": "rgb(36,36,36)",
            "showgrid": false,
            "showline": true,
            "ticks": "outside"
           }
          },
          "scene": {
           "xaxis": {
            "backgroundcolor": "white",
            "gridcolor": "rgb(232,232,232)",
            "gridwidth": 2,
            "linecolor": "rgb(36,36,36)",
            "showbackground": true,
            "showgrid": false,
            "showline": true,
            "ticks": "outside",
            "zeroline": false,
            "zerolinecolor": "rgb(36,36,36)"
           },
           "yaxis": {
            "backgroundcolor": "white",
            "gridcolor": "rgb(232,232,232)",
            "gridwidth": 2,
            "linecolor": "rgb(36,36,36)",
            "showbackground": true,
            "showgrid": false,
            "showline": true,
            "ticks": "outside",
            "zeroline": false,
            "zerolinecolor": "rgb(36,36,36)"
           },
           "zaxis": {
            "backgroundcolor": "white",
            "gridcolor": "rgb(232,232,232)",
            "gridwidth": 2,
            "linecolor": "rgb(36,36,36)",
            "showbackground": true,
            "showgrid": false,
            "showline": true,
            "ticks": "outside",
            "zeroline": false,
            "zerolinecolor": "rgb(36,36,36)"
           }
          },
          "shapedefaults": {
           "fillcolor": "black",
           "line": {
            "width": 0
           },
           "opacity": 0.3
          },
          "ternary": {
           "aaxis": {
            "gridcolor": "rgb(232,232,232)",
            "linecolor": "rgb(36,36,36)",
            "showgrid": false,
            "showline": true,
            "ticks": "outside"
           },
           "baxis": {
            "gridcolor": "rgb(232,232,232)",
            "linecolor": "rgb(36,36,36)",
            "showgrid": false,
            "showline": true,
            "ticks": "outside"
           },
           "bgcolor": "white",
           "caxis": {
            "gridcolor": "rgb(232,232,232)",
            "linecolor": "rgb(36,36,36)",
            "showgrid": false,
            "showline": true,
            "ticks": "outside"
           }
          },
          "title": {
           "x": 0.05
          },
          "xaxis": {
           "automargin": true,
           "gridcolor": "rgb(232,232,232)",
           "linecolor": "rgb(36,36,36)",
           "showgrid": false,
           "showline": true,
           "ticks": "outside",
           "title": {
            "standoff": 15
           },
           "zeroline": false,
           "zerolinecolor": "rgb(36,36,36)"
          },
          "yaxis": {
           "automargin": true,
           "gridcolor": "rgb(232,232,232)",
           "linecolor": "rgb(36,36,36)",
           "showgrid": false,
           "showline": true,
           "ticks": "outside",
           "title": {
            "standoff": 15
           },
           "zeroline": false,
           "zerolinecolor": "rgb(36,36,36)"
          }
         }
        },
        "title": {
         "text": "Satisfaction des participants en fonction de leur provenance"
        },
        "width": 750,
        "xaxis": {
         "anchor": "y",
         "domain": [
          0,
          1
         ],
         "title": {
          "text": "SATISFACTION_GLOBAl"
         }
        },
        "yaxis": {
         "anchor": "x",
         "domain": [
          0,
          1
         ],
         "title": {
          "text": "count"
         }
        }
       }
      },
      "text/html": [
       "<div>                            <div id=\"0bc7ca9a-2b74-450e-8356-9b8107a63c62\" class=\"plotly-graph-div\" style=\"height:600px; width:750px;\"></div>            <script type=\"text/javascript\">                require([\"plotly\"], function(Plotly) {                    window.PLOTLYENV=window.PLOTLYENV || {};                                    if (document.getElementById(\"0bc7ca9a-2b74-450e-8356-9b8107a63c62\")) {                    Plotly.newPlot(                        \"0bc7ca9a-2b74-450e-8356-9b8107a63c62\",                        [{\"alignmentgroup\":\"True\",\"bingroup\":\"x\",\"hovertemplate\":\"Je vis=Strasbourgeois<br>SATISFACTION_GLOBAl=%{x}<br>count=%{y}<extra></extra>\",\"legendgroup\":\"Strasbourgeois\",\"marker\":{\"color\":\"#1F77B4\",\"pattern\":{\"shape\":\"\"}},\"name\":\"Strasbourgeois\",\"offsetgroup\":\"Strasbourgeois\",\"orientation\":\"v\",\"showlegend\":true,\"x\":[13.5,20.0,4.0,18.0,15.0,14.0,16.0,14.5,18.0,14.0,20.0,11.0,16.5,17.5,14.0,19.0,4.0,14.5,11.0,6.5,14.0,17.0,15.5,15.5,14.5,12.0,15.5,15.0,15.0,15.5,17.0,17.5,17.5,16.0,16.0,12.0,16.5,14.5,15.5,15.5,18.0,10.0,15.5,18.5,16.0,17.0,15.0,10.5,12.0,9.5,19.5,15.5,17.0,16.0,11.5,10.0,16.5,14.0,15.5,14.5,15.0,11.5,16.5,18.5,14.0,16.5,16.5,17.0,13.0,15.5,15.0,15.5,18.0,17.5,13.0,15.5,16.0,16.0,20.0,16.0,16.5,19.5,13.0,14.5,14.0,16.5,16.0,16.5,17.5,17.5,7.0,15.5,12.5,13.5,10.5,15.0,15.0,14.0,17.5],\"xaxis\":\"x\",\"yaxis\":\"y\",\"type\":\"histogram\"},{\"alignmentgroup\":\"True\",\"bingroup\":\"x\",\"hovertemplate\":\"Je vis=Non Strasbourgeois<br>SATISFACTION_GLOBAl=%{x}<br>count=%{y}<extra></extra>\",\"legendgroup\":\"Non Strasbourgeois\",\"marker\":{\"color\":\"#FF7F0E\",\"pattern\":{\"shape\":\"\"}},\"name\":\"Non Strasbourgeois\",\"offsetgroup\":\"Non Strasbourgeois\",\"orientation\":\"v\",\"showlegend\":true,\"x\":[17.0,11.0,12.0,18.0,13.5,16.5,17.5,17.5,15.0,17.5,15.0,13.0,14.5,14.5,17.5,8.5,16.5,15.5,18.5,18.5,16.0,15.5,12.0,13.5,13.5,15.0,14.5,18.0,16.5,18.5,17.5,16.5,16.0,9.0,17.0,14.0,13.5,17.0,16.0,17.0],\"xaxis\":\"x\",\"yaxis\":\"y\",\"type\":\"histogram\"}],                        {\"template\":{\"data\":{\"barpolar\":[{\"marker\":{\"line\":{\"color\":\"white\",\"width\":0.5},\"pattern\":{\"fillmode\":\"overlay\",\"size\":10,\"solidity\":0.2}},\"type\":\"barpolar\"}],\"bar\":[{\"error_x\":{\"color\":\"rgb(36,36,36)\"},\"error_y\":{\"color\":\"rgb(36,36,36)\"},\"marker\":{\"line\":{\"color\":\"white\",\"width\":0.5},\"pattern\":{\"fillmode\":\"overlay\",\"size\":10,\"solidity\":0.2}},\"type\":\"bar\"}],\"carpet\":[{\"aaxis\":{\"endlinecolor\":\"rgb(36,36,36)\",\"gridcolor\":\"white\",\"linecolor\":\"white\",\"minorgridcolor\":\"white\",\"startlinecolor\":\"rgb(36,36,36)\"},\"baxis\":{\"endlinecolor\":\"rgb(36,36,36)\",\"gridcolor\":\"white\",\"linecolor\":\"white\",\"minorgridcolor\":\"white\",\"startlinecolor\":\"rgb(36,36,36)\"},\"type\":\"carpet\"}],\"choropleth\":[{\"colorbar\":{\"outlinewidth\":1,\"tickcolor\":\"rgb(36,36,36)\",\"ticks\":\"outside\"},\"type\":\"choropleth\"}],\"contourcarpet\":[{\"colorbar\":{\"outlinewidth\":1,\"tickcolor\":\"rgb(36,36,36)\",\"ticks\":\"outside\"},\"type\":\"contourcarpet\"}],\"contour\":[{\"colorbar\":{\"outlinewidth\":1,\"tickcolor\":\"rgb(36,36,36)\",\"ticks\":\"outside\"},\"colorscale\":[[0.0,\"#440154\"],[0.1111111111111111,\"#482878\"],[0.2222222222222222,\"#3e4989\"],[0.3333333333333333,\"#31688e\"],[0.4444444444444444,\"#26828e\"],[0.5555555555555556,\"#1f9e89\"],[0.6666666666666666,\"#35b779\"],[0.7777777777777778,\"#6ece58\"],[0.8888888888888888,\"#b5de2b\"],[1.0,\"#fde725\"]],\"type\":\"contour\"}],\"heatmapgl\":[{\"colorbar\":{\"outlinewidth\":1,\"tickcolor\":\"rgb(36,36,36)\",\"ticks\":\"outside\"},\"colorscale\":[[0.0,\"#440154\"],[0.1111111111111111,\"#482878\"],[0.2222222222222222,\"#3e4989\"],[0.3333333333333333,\"#31688e\"],[0.4444444444444444,\"#26828e\"],[0.5555555555555556,\"#1f9e89\"],[0.6666666666666666,\"#35b779\"],[0.7777777777777778,\"#6ece58\"],[0.8888888888888888,\"#b5de2b\"],[1.0,\"#fde725\"]],\"type\":\"heatmapgl\"}],\"heatmap\":[{\"colorbar\":{\"outlinewidth\":1,\"tickcolor\":\"rgb(36,36,36)\",\"ticks\":\"outside\"},\"colorscale\":[[0.0,\"#440154\"],[0.1111111111111111,\"#482878\"],[0.2222222222222222,\"#3e4989\"],[0.3333333333333333,\"#31688e\"],[0.4444444444444444,\"#26828e\"],[0.5555555555555556,\"#1f9e89\"],[0.6666666666666666,\"#35b779\"],[0.7777777777777778,\"#6ece58\"],[0.8888888888888888,\"#b5de2b\"],[1.0,\"#fde725\"]],\"type\":\"heatmap\"}],\"histogram2dcontour\":[{\"colorbar\":{\"outlinewidth\":1,\"tickcolor\":\"rgb(36,36,36)\",\"ticks\":\"outside\"},\"colorscale\":[[0.0,\"#440154\"],[0.1111111111111111,\"#482878\"],[0.2222222222222222,\"#3e4989\"],[0.3333333333333333,\"#31688e\"],[0.4444444444444444,\"#26828e\"],[0.5555555555555556,\"#1f9e89\"],[0.6666666666666666,\"#35b779\"],[0.7777777777777778,\"#6ece58\"],[0.8888888888888888,\"#b5de2b\"],[1.0,\"#fde725\"]],\"type\":\"histogram2dcontour\"}],\"histogram2d\":[{\"colorbar\":{\"outlinewidth\":1,\"tickcolor\":\"rgb(36,36,36)\",\"ticks\":\"outside\"},\"colorscale\":[[0.0,\"#440154\"],[0.1111111111111111,\"#482878\"],[0.2222222222222222,\"#3e4989\"],[0.3333333333333333,\"#31688e\"],[0.4444444444444444,\"#26828e\"],[0.5555555555555556,\"#1f9e89\"],[0.6666666666666666,\"#35b779\"],[0.7777777777777778,\"#6ece58\"],[0.8888888888888888,\"#b5de2b\"],[1.0,\"#fde725\"]],\"type\":\"histogram2d\"}],\"histogram\":[{\"marker\":{\"line\":{\"color\":\"white\",\"width\":0.6}},\"type\":\"histogram\"}],\"mesh3d\":[{\"colorbar\":{\"outlinewidth\":1,\"tickcolor\":\"rgb(36,36,36)\",\"ticks\":\"outside\"},\"type\":\"mesh3d\"}],\"parcoords\":[{\"line\":{\"colorbar\":{\"outlinewidth\":1,\"tickcolor\":\"rgb(36,36,36)\",\"ticks\":\"outside\"}},\"type\":\"parcoords\"}],\"pie\":[{\"automargin\":true,\"type\":\"pie\"}],\"scatter3d\":[{\"line\":{\"colorbar\":{\"outlinewidth\":1,\"tickcolor\":\"rgb(36,36,36)\",\"ticks\":\"outside\"}},\"marker\":{\"colorbar\":{\"outlinewidth\":1,\"tickcolor\":\"rgb(36,36,36)\",\"ticks\":\"outside\"}},\"type\":\"scatter3d\"}],\"scattercarpet\":[{\"marker\":{\"colorbar\":{\"outlinewidth\":1,\"tickcolor\":\"rgb(36,36,36)\",\"ticks\":\"outside\"}},\"type\":\"scattercarpet\"}],\"scattergeo\":[{\"marker\":{\"colorbar\":{\"outlinewidth\":1,\"tickcolor\":\"rgb(36,36,36)\",\"ticks\":\"outside\"}},\"type\":\"scattergeo\"}],\"scattergl\":[{\"marker\":{\"colorbar\":{\"outlinewidth\":1,\"tickcolor\":\"rgb(36,36,36)\",\"ticks\":\"outside\"}},\"type\":\"scattergl\"}],\"scattermapbox\":[{\"marker\":{\"colorbar\":{\"outlinewidth\":1,\"tickcolor\":\"rgb(36,36,36)\",\"ticks\":\"outside\"}},\"type\":\"scattermapbox\"}],\"scatterpolargl\":[{\"marker\":{\"colorbar\":{\"outlinewidth\":1,\"tickcolor\":\"rgb(36,36,36)\",\"ticks\":\"outside\"}},\"type\":\"scatterpolargl\"}],\"scatterpolar\":[{\"marker\":{\"colorbar\":{\"outlinewidth\":1,\"tickcolor\":\"rgb(36,36,36)\",\"ticks\":\"outside\"}},\"type\":\"scatterpolar\"}],\"scatter\":[{\"marker\":{\"colorbar\":{\"outlinewidth\":1,\"tickcolor\":\"rgb(36,36,36)\",\"ticks\":\"outside\"}},\"type\":\"scatter\"}],\"scatterternary\":[{\"marker\":{\"colorbar\":{\"outlinewidth\":1,\"tickcolor\":\"rgb(36,36,36)\",\"ticks\":\"outside\"}},\"type\":\"scatterternary\"}],\"surface\":[{\"colorbar\":{\"outlinewidth\":1,\"tickcolor\":\"rgb(36,36,36)\",\"ticks\":\"outside\"},\"colorscale\":[[0.0,\"#440154\"],[0.1111111111111111,\"#482878\"],[0.2222222222222222,\"#3e4989\"],[0.3333333333333333,\"#31688e\"],[0.4444444444444444,\"#26828e\"],[0.5555555555555556,\"#1f9e89\"],[0.6666666666666666,\"#35b779\"],[0.7777777777777778,\"#6ece58\"],[0.8888888888888888,\"#b5de2b\"],[1.0,\"#fde725\"]],\"type\":\"surface\"}],\"table\":[{\"cells\":{\"fill\":{\"color\":\"rgb(237,237,237)\"},\"line\":{\"color\":\"white\"}},\"header\":{\"fill\":{\"color\":\"rgb(217,217,217)\"},\"line\":{\"color\":\"white\"}},\"type\":\"table\"}]},\"layout\":{\"annotationdefaults\":{\"arrowhead\":0,\"arrowwidth\":1},\"autotypenumbers\":\"strict\",\"coloraxis\":{\"colorbar\":{\"outlinewidth\":1,\"tickcolor\":\"rgb(36,36,36)\",\"ticks\":\"outside\"}},\"colorscale\":{\"diverging\":[[0.0,\"rgb(103,0,31)\"],[0.1,\"rgb(178,24,43)\"],[0.2,\"rgb(214,96,77)\"],[0.3,\"rgb(244,165,130)\"],[0.4,\"rgb(253,219,199)\"],[0.5,\"rgb(247,247,247)\"],[0.6,\"rgb(209,229,240)\"],[0.7,\"rgb(146,197,222)\"],[0.8,\"rgb(67,147,195)\"],[0.9,\"rgb(33,102,172)\"],[1.0,\"rgb(5,48,97)\"]],\"sequential\":[[0.0,\"#440154\"],[0.1111111111111111,\"#482878\"],[0.2222222222222222,\"#3e4989\"],[0.3333333333333333,\"#31688e\"],[0.4444444444444444,\"#26828e\"],[0.5555555555555556,\"#1f9e89\"],[0.6666666666666666,\"#35b779\"],[0.7777777777777778,\"#6ece58\"],[0.8888888888888888,\"#b5de2b\"],[1.0,\"#fde725\"]],\"sequentialminus\":[[0.0,\"#440154\"],[0.1111111111111111,\"#482878\"],[0.2222222222222222,\"#3e4989\"],[0.3333333333333333,\"#31688e\"],[0.4444444444444444,\"#26828e\"],[0.5555555555555556,\"#1f9e89\"],[0.6666666666666666,\"#35b779\"],[0.7777777777777778,\"#6ece58\"],[0.8888888888888888,\"#b5de2b\"],[1.0,\"#fde725\"]]},\"colorway\":[\"#1F77B4\",\"#FF7F0E\",\"#2CA02C\",\"#D62728\",\"#9467BD\",\"#8C564B\",\"#E377C2\",\"#7F7F7F\",\"#BCBD22\",\"#17BECF\"],\"font\":{\"color\":\"rgb(36,36,36)\"},\"geo\":{\"bgcolor\":\"white\",\"lakecolor\":\"white\",\"landcolor\":\"white\",\"showlakes\":true,\"showland\":true,\"subunitcolor\":\"white\"},\"hoverlabel\":{\"align\":\"left\"},\"hovermode\":\"closest\",\"mapbox\":{\"style\":\"light\"},\"paper_bgcolor\":\"white\",\"plot_bgcolor\":\"white\",\"polar\":{\"angularaxis\":{\"gridcolor\":\"rgb(232,232,232)\",\"linecolor\":\"rgb(36,36,36)\",\"showgrid\":false,\"showline\":true,\"ticks\":\"outside\"},\"bgcolor\":\"white\",\"radialaxis\":{\"gridcolor\":\"rgb(232,232,232)\",\"linecolor\":\"rgb(36,36,36)\",\"showgrid\":false,\"showline\":true,\"ticks\":\"outside\"}},\"scene\":{\"xaxis\":{\"backgroundcolor\":\"white\",\"gridcolor\":\"rgb(232,232,232)\",\"gridwidth\":2,\"linecolor\":\"rgb(36,36,36)\",\"showbackground\":true,\"showgrid\":false,\"showline\":true,\"ticks\":\"outside\",\"zeroline\":false,\"zerolinecolor\":\"rgb(36,36,36)\"},\"yaxis\":{\"backgroundcolor\":\"white\",\"gridcolor\":\"rgb(232,232,232)\",\"gridwidth\":2,\"linecolor\":\"rgb(36,36,36)\",\"showbackground\":true,\"showgrid\":false,\"showline\":true,\"ticks\":\"outside\",\"zeroline\":false,\"zerolinecolor\":\"rgb(36,36,36)\"},\"zaxis\":{\"backgroundcolor\":\"white\",\"gridcolor\":\"rgb(232,232,232)\",\"gridwidth\":2,\"linecolor\":\"rgb(36,36,36)\",\"showbackground\":true,\"showgrid\":false,\"showline\":true,\"ticks\":\"outside\",\"zeroline\":false,\"zerolinecolor\":\"rgb(36,36,36)\"}},\"shapedefaults\":{\"fillcolor\":\"black\",\"line\":{\"width\":0},\"opacity\":0.3},\"ternary\":{\"aaxis\":{\"gridcolor\":\"rgb(232,232,232)\",\"linecolor\":\"rgb(36,36,36)\",\"showgrid\":false,\"showline\":true,\"ticks\":\"outside\"},\"baxis\":{\"gridcolor\":\"rgb(232,232,232)\",\"linecolor\":\"rgb(36,36,36)\",\"showgrid\":false,\"showline\":true,\"ticks\":\"outside\"},\"bgcolor\":\"white\",\"caxis\":{\"gridcolor\":\"rgb(232,232,232)\",\"linecolor\":\"rgb(36,36,36)\",\"showgrid\":false,\"showline\":true,\"ticks\":\"outside\"}},\"title\":{\"x\":0.05},\"xaxis\":{\"automargin\":true,\"gridcolor\":\"rgb(232,232,232)\",\"linecolor\":\"rgb(36,36,36)\",\"showgrid\":false,\"showline\":true,\"ticks\":\"outside\",\"title\":{\"standoff\":15},\"zeroline\":false,\"zerolinecolor\":\"rgb(36,36,36)\"},\"yaxis\":{\"automargin\":true,\"gridcolor\":\"rgb(232,232,232)\",\"linecolor\":\"rgb(36,36,36)\",\"showgrid\":false,\"showline\":true,\"ticks\":\"outside\",\"title\":{\"standoff\":15},\"zeroline\":false,\"zerolinecolor\":\"rgb(36,36,36)\"}}},\"xaxis\":{\"anchor\":\"y\",\"domain\":[0.0,1.0],\"title\":{\"text\":\"SATISFACTION_GLOBAl\"}},\"yaxis\":{\"anchor\":\"x\",\"domain\":[0.0,1.0],\"title\":{\"text\":\"count\"}},\"legend\":{\"title\":{\"text\":\"Je vis\"},\"tracegroupgap\":0},\"title\":{\"text\":\"Satisfaction des participants en fonction de leur provenance\"},\"barmode\":\"relative\",\"height\":600,\"width\":750},                        {\"responsive\": true}                    ).then(function(){\n",
       "                            \n",
       "var gd = document.getElementById('0bc7ca9a-2b74-450e-8356-9b8107a63c62');\n",
       "var x = new MutationObserver(function (mutations, observer) {{\n",
       "        var display = window.getComputedStyle(gd).display;\n",
       "        if (!display || display === 'none') {{\n",
       "            console.log([gd, 'removed!']);\n",
       "            Plotly.purge(gd);\n",
       "            observer.disconnect();\n",
       "        }}\n",
       "}});\n",
       "\n",
       "// Listen for the removal of the full notebook cells\n",
       "var notebookContainer = gd.closest('#notebook-container');\n",
       "if (notebookContainer) {{\n",
       "    x.observe(notebookContainer, {childList: true});\n",
       "}}\n",
       "\n",
       "// Listen for the clearing of the current output cell\n",
       "var outputEl = gd.closest('.output');\n",
       "if (outputEl) {{\n",
       "    x.observe(outputEl, {childList: true});\n",
       "}}\n",
       "\n",
       "                        })                };                });            </script>        </div>"
      ]
     },
     "metadata": {},
     "output_type": "display_data"
    }
   ],
   "source": [
    "fig = px.histogram(\n",
    "                   df_clean_renamed, x=\"SATISFACTION_GLOBAl\",color=\"Je vis\",\n",
    "                   title='Satisfaction des participants en fonction de leur provenance',\n",
    "                   width=750, \n",
    "                   height=600,\n",
    "                   labels={\"SATISFACTION_GLOBAL\":\"Moyenne de la note de satisfaction (sur 20)\"},\n",
    "                   template=\"simple_white\"\n",
    ")                   \n",
    "fig.show()"
   ]
  },
  {
   "cell_type": "markdown",
   "id": "77ba4680",
   "metadata": {},
   "source": [
    "### Deuxième résultat :\n",
    "\n",
    "1) Globalement les candidats féminins comme masculins ont des réponses similaires sur la satisfaction globale.\n",
    "\n",
    "2) Globalement les candidats qu'on qualifie comme étudiant ou pro ont une satisfaction similaire.\n",
    "\n",
    "3) La satisafaction est la même pour les individus de Strasbourg et ceux d'ailleurs.\n",
    "\n",
    "-> C'est une bonne nouvelle on n'identifie pas vraiment une tranche de population à qui l'évenement a particulièrement déplu."
   ]
  },
  {
   "cell_type": "markdown",
   "id": "d26b3014",
   "metadata": {},
   "source": [
    "### On va particulièrement s'interesser aux individus à qui l'évenement a déplu (Satisfaction globale < 10/20)"
   ]
  },
  {
   "cell_type": "code",
   "execution_count": 92,
   "id": "fb3d52d4",
   "metadata": {},
   "outputs": [],
   "source": [
    "df_PARTICIPANT_NON_SATISFAIT = df_clean_renamed[df_clean_renamed[\"SATISFACTION_GLOBAl\"]<=10]"
   ]
  },
  {
   "cell_type": "code",
   "execution_count": 93,
   "id": "6a463644",
   "metadata": {},
   "outputs": [
    {
     "data": {
      "text/plain": [
       "ID_CANDIDAT               9\n",
       "UTILITE_INNOVATION        9\n",
       "INFORMATION_INNOVATION    9\n",
       "INTERET_PARTICIPANT1      9\n",
       "INTERET_PARTICIPANT2      9\n",
       "SATISFACTION1             9\n",
       "SATISFACTION2             9\n",
       "NETWORKING1               9\n",
       "NETWORKING2               9\n",
       "NETWORKING3               9\n",
       "NETWORKING4               9\n",
       "NETWORKING5               9\n",
       "SELF_IMPROVEMENT1         9\n",
       "SATISFACTION3             9\n",
       "SELF_IMPROVEMENT2         9\n",
       "SATISFACTION4             9\n",
       "SATISFACTION5             9\n",
       "SATISFACTION6             9\n",
       "GENRE                     9\n",
       "Je vis                    9\n",
       "Je suis.1                 9\n",
       "ACTIVITE                  2\n",
       "Start Date (UTC)          9\n",
       "Submit Date (UTC)         9\n",
       "Network ID                9\n",
       "AGE                       9\n",
       "CATEGORIE_PRO             9\n",
       "SATISFACTION_GLOBAl       9\n",
       "dtype: int64"
      ]
     },
     "execution_count": 93,
     "metadata": {},
     "output_type": "execute_result"
    }
   ],
   "source": [
    "df_PARTICIPANT_NON_SATISFAIT.count()"
   ]
  },
  {
   "cell_type": "code",
   "execution_count": 95,
   "id": "cebfd4a1",
   "metadata": {},
   "outputs": [
    {
     "data": {
      "text/plain": [
       "1    5\n",
       "0    4\n",
       "Name: GENRE, dtype: int64"
      ]
     },
     "execution_count": 95,
     "metadata": {},
     "output_type": "execute_result"
    }
   ],
   "source": [
    "df_PARTICIPANT_NON_SATISFAIT[\"GENRE\"].value_counts()\n",
    "# 5 hommes et 4 femmes (on a une surreprésentation de femme dans cet échantillon,\n",
    "# Mais 9 individus est insuffisant pour vraiment prouver une corrélation."
   ]
  },
  {
   "cell_type": "markdown",
   "id": "255949fe",
   "metadata": {},
   "source": [
    "## Pour conclure :\n",
    "\n",
    "La satisfaction est plutot élevé globalement, dans les différentes sous catégorie on retrouve des résultats plutot similaire. Il n'y a que 9 personnes sur 139 qui en moyenne ont attribué une note de satisfaction en dessous ou égale à 10/20, 7 qui ont attribué une note moyenne inférieur à 10/20."
   ]
  },
  {
   "cell_type": "markdown",
   "id": "2c160c29",
   "metadata": {},
   "source": [
    "# iii)  Mesurer le developpment personnel des candidats"
   ]
  },
  {
   "cell_type": "markdown",
   "id": "4286f05e",
   "metadata": {},
   "source": [
    "On a que ces deux variables : \n",
    "\n",
    "SELF_IMPROVEMENT1 : Après avoir participé à un hackathon, j’aime bien me poser des questions importantes sur moi-même\n",
    "\n",
    "SELF_IMPROVEMENT2 : Globalement, je considère qu’un hackathon permet vraiment de développer de la valeur pour l’individu"
   ]
  },
  {
   "cell_type": "code",
   "execution_count": 108,
   "id": "00a3b730",
   "metadata": {},
   "outputs": [
    {
     "data": {
      "text/plain": [
       "9.946043165467627"
      ]
     },
     "execution_count": 108,
     "metadata": {},
     "output_type": "execute_result"
    }
   ],
   "source": [
    "df_clean_renamed[\"SELF_IMPROVEMENT1\"].mean()/8 * 20\n",
    "#C'est plutot faible mais je pense que la question est mal posée et elle ne répond pas à grand chose."
   ]
  },
  {
   "cell_type": "code",
   "execution_count": 109,
   "id": "324a8827",
   "metadata": {},
   "outputs": [
    {
     "data": {
      "text/plain": [
       "15.25179856115108"
      ]
     },
     "execution_count": 109,
     "metadata": {},
     "output_type": "execute_result"
    }
   ],
   "source": [
    "df_clean_renamed[\"SELF_IMPROVEMENT2\"].mean()/8*20"
   ]
  },
  {
   "cell_type": "code",
   "execution_count": 117,
   "id": "049959a9",
   "metadata": {},
   "outputs": [],
   "source": [
    "df_HAUTE_VA = df_clean_renamed[df_clean_renamed[\"SELF_IMPROVEMENT2\"]>=6]"
   ]
  },
  {
   "cell_type": "code",
   "execution_count": 118,
   "id": "f9e634b6",
   "metadata": {
    "scrolled": true
   },
   "outputs": [
    {
     "data": {
      "text/plain": [
       "ID_CANDIDAT               93\n",
       "UTILITE_INNOVATION        93\n",
       "INFORMATION_INNOVATION    93\n",
       "INTERET_PARTICIPANT1      93\n",
       "INTERET_PARTICIPANT2      93\n",
       "SATISFACTION1             93\n",
       "SATISFACTION2             93\n",
       "NETWORKING1               93\n",
       "NETWORKING2               93\n",
       "NETWORKING3               93\n",
       "NETWORKING4               93\n",
       "NETWORKING5               93\n",
       "SELF_IMPROVEMENT1         93\n",
       "SATISFACTION3             93\n",
       "SELF_IMPROVEMENT2         93\n",
       "SATISFACTION4             93\n",
       "SATISFACTION5             93\n",
       "SATISFACTION6             93\n",
       "GENRE                     93\n",
       "Je vis                    93\n",
       "Je suis.1                 93\n",
       "ACTIVITE                  17\n",
       "Start Date (UTC)          93\n",
       "Submit Date (UTC)         93\n",
       "Network ID                93\n",
       "AGE                       93\n",
       "CATEGORIE_PRO             93\n",
       "SATISFACTION_GLOBAl       93\n",
       "dtype: int64"
      ]
     },
     "execution_count": 118,
     "metadata": {},
     "output_type": "execute_result"
    }
   ],
   "source": [
    "df_HAUTE_VA.count()"
   ]
  },
  {
   "cell_type": "code",
   "execution_count": 119,
   "id": "83a8cee7",
   "metadata": {},
   "outputs": [
    {
     "data": {
      "text/plain": [
       "66.90647482014388"
      ]
     },
     "execution_count": 119,
     "metadata": {},
     "output_type": "execute_result"
    }
   ],
   "source": [
    "93/139*100"
   ]
  },
  {
   "cell_type": "markdown",
   "id": "f4985de7",
   "metadata": {},
   "source": [
    "Deux tiers des participants (66,9%) attribue une note élevée (plus de 15/20) à la question suivante; \n",
    "\"Globalement, je considère qu’un hackathon permet vraiment de développer de la valeur pour l’individu\"\n",
    "\n",
    "Pour conclure : On peut interpreter cela qu'environ deux tiers des participants sont fortement d'accord qu'un évènement comme un Hackathon ajoute de la valeur au participant. \n",
    "(ici c'est pas précisé ce qu'on entend sous le terme de valeur mais on peut imaginer de la valeur sur le marché du travail grace aux compétences acquises, humainement parlant puisque l'individu a travaillé en équipe il a potentiellement également développé des softskills (parler en groupe, orgnaniser une équipe, débattre,etc) et enfin de la valeur sociale grace aux nouvelles rencontres.\n",
    "\n",
    "Nous allons analyser cet aspect plus en détails dans la prochaine partie."
   ]
  },
  {
   "cell_type": "markdown",
   "id": "28bd3289",
   "metadata": {},
   "source": [
    "# iv)  Mesurer les motivations des participants/ le networking"
   ]
  },
  {
   "cell_type": "markdown",
   "id": "450dd05e",
   "metadata": {},
   "source": [
    "NETWORKING1 : participer à un hackathon, ça me donne l’occasion d’en parler ensuite avec mes proches    \n",
    "NETWORKING2 : j’aime participer à un hackathon et garder contact ensuite avec les personnes que j’y ai rencontrées\n",
    "NETWORKING3 : je cherche à nouer des contacts durables durant un hackathon\n",
    "NETWORKING4 : participer à un hackathon, ça me donne l’occasion d’en parler ensuite avec mon équipe\n",
    "\n",
    "NETWORKING3 va mesurer si l'individu cherche à faire du networking durant l'évènement.\n",
    "\n",
    "NETWORKING 1 et 4 sont similaires, on regarde si l'individu compte faire du networking post-évenement.\n",
    "\n",
    "Tandis que NETWORKING2 traite plutot les rencontres faites durant l'évènement."
   ]
  },
  {
   "cell_type": "code",
   "execution_count": null,
   "id": "55ba5d0c",
   "metadata": {},
   "outputs": [],
   "source": []
  },
  {
   "cell_type": "code",
   "execution_count": null,
   "id": "22888dd2",
   "metadata": {},
   "outputs": [],
   "source": []
  },
  {
   "cell_type": "code",
   "execution_count": null,
   "id": "f8db9404",
   "metadata": {},
   "outputs": [],
   "source": []
  }
 ],
 "metadata": {
  "kernelspec": {
   "display_name": "Python 3 (ipykernel)",
   "language": "python",
   "name": "python3"
  },
  "language_info": {
   "codemirror_mode": {
    "name": "ipython",
    "version": 3
   },
   "file_extension": ".py",
   "mimetype": "text/x-python",
   "name": "python",
   "nbconvert_exporter": "python",
   "pygments_lexer": "ipython3",
   "version": "3.9.7"
  }
 },
 "nbformat": 4,
 "nbformat_minor": 5
}
